{
 "cells": [
  {
   "cell_type": "markdown",
   "metadata": {},
   "source": [
    "<center><font color=#555555><font size=6> MAF1731B - Microestructuras y Sistemas de Trading </font> <br> <br>\n",
    "    \n",
    "<center><font color=#555555><font size=5> Ingenieria Financiera </font> <br> <br> <br> <br>\n",
    "\n",
    "<center><font color=#555555><font size=6> Luis Antonio Barriga Adame\n",
    "\n",
    "Jorge Alberto Hernandez Hernandez\n",
    "\n",
    "Pablo Humberto Muñoz Cuevas\n",
    "\n",
    "Emiliano Mena Gonzalez </font> <br> <br>\n",
    "   \n",
    "<center> <font color= #555555> <font size = 4> 02/12/2022 </a> | <font color= #555555> <font size = 4> Repository: <a href='https://github.com/EmilianoMena/myst_proyecto_Equipo6'>Link</a></font>"
   ]
  },
  {
   "cell_type": "markdown",
   "metadata": {},
   "source": [
    "<hr style=\"border:0.02in solid gray\"> </hr>"
   ]
  },
  {
   "cell_type": "markdown",
   "metadata": {},
   "source": [
    "<center> <font color= #555555> <font size = 6> Proyecto Final </font> <br> <br> <font color= #555555> <font size = 5> Analisis Fundamental  </font>"
   ]
  },
  {
   "cell_type": "markdown",
   "metadata": {},
   "source": [
    "<hr style=\"border:0.02in solid gray\"> </hr>"
   ]
  },
  {
   "cell_type": "markdown",
   "metadata": {},
   "source": [
    "<font color= #555555> <font size = 4> Abstract </font>"
   ]
  },
  {
   "cell_type": "markdown",
   "metadata": {},
   "source": [
    "<font color= #6B6B6B> <font size = 3>  En este proyecto se analizó como un indicador economico puede generar patrones de compra y venta sobre un CFD/Activo. El indicador que se selecciono es Gross Domestic Product Annualized - United States y el CFD es USDJPY </font>"
   ]
  },
  {
   "cell_type": "markdown",
   "metadata": {},
   "source": [
    "# <font color= #6B6B6B> <font size = 6> 1. Introducción </font>"
   ]
  },
  {
   "cell_type": "markdown",
   "metadata": {},
   "source": [
    "<hr style=\"border:0.02in solid gray\"> </hr>"
   ]
  },
  {
   "cell_type": "markdown",
   "metadata": {},
   "source": [
    "El proposito de este proyecto es analizar la serie de tiempo de un indicador y de un activo. En base al indicador generar un sistema de trading que realice operaciones de compra y venta segun lo que se estime que vaya a pasar con el precio del activo seleccionado (aumento del precio o disminucion del precio). Para ello primero se realizaron tareas por perfil:\n",
    "\n",
    "- Financiero: Hicimos una validación empírica con gráficos y también una estrategia de administración de capital.\n",
    "- Estadisticos: Pruebas de econometría.\n",
    "- Computacionales: Estructura de escenarios y cálculo por ventana de tiempo de los escenarios.\n",
    "    \n",
    "Luego un backtesting y optimización del sistema de trading propuesto"
   ]
  },
  {
   "cell_type": "markdown",
   "metadata": {},
   "source": [
    "# <font color= #6B6B6B> 2. Instalar/Cargar Librerias y Dependencias </font>"
   ]
  },
  {
   "cell_type": "markdown",
   "metadata": {},
   "source": [
    "<hr style=\"border:0.02in solid gray\"> </hr>"
   ]
  },
  {
   "cell_type": "markdown",
   "metadata": {},
   "source": [
    "## <font color= #6B6B6B> 2.1 Librerias de Python </font> <font color= #555555>"
   ]
  },
  {
   "cell_type": "markdown",
   "metadata": {},
   "source": [
    "Para correr este notebook, es necesario tener las siguientes paqueterias: "
   ]
  },
  {
   "cell_type": "markdown",
   "metadata": {},
   "source": [
    "- contourpy==1.0.6\n",
    "- cycler==0.11.0\n",
    "- DateTime==4.7\n",
    "- fonttools==4.38.0\n",
    "- kiwisolver==1.4.4\n",
    "- matplotlib==3.6.2\n",
    "- MetaTrader5==5.0.43\n",
    "- numpy==1.23.5\n",
    "- packaging==21.3\n",
    "- pandas==1.5.2\n",
    "- patsy==0.5.3\n",
    "- Pillow==9.3.0\n",
    "- plotly==5.11.0\n",
    "- pyparsing==3.0.9\n",
    "- python-dateutil==2.8.2\n",
    "- pytz==2022.6\n",
    "- scipy==1.9.3\n",
    "- six==1.16.0\n",
    "- stats==0.1.2a0\n",
    "- statsmodels==0.13.5\n",
    "- tenacity==8.1.0\n",
    "- zope.interface==5.5.2"
   ]
  },
  {
   "cell_type": "markdown",
   "metadata": {},
   "source": [
    "## <font color= #6B6B6B> 2.2 Files </font> <font color= #555555>"
   ]
  },
  {
   "cell_type": "markdown",
   "metadata": {},
   "source": [
    "Los siguientes archivos se requieren para correr el notebook:"
   ]
  },
  {
   "cell_type": "markdown",
   "metadata": {},
   "source": [
    "- files\\Gross Domestic Product Annualized - United States : Indicador"
   ]
  },
  {
   "cell_type": "markdown",
   "metadata": {},
   "source": [
    "# <font color= #6B6B6B> 3. Tareas divididas por perfil </font>"
   ]
  },
  {
   "cell_type": "markdown",
   "metadata": {},
   "source": [
    "<hr style=\"border:0.02in solid gray\"> </hr>"
   ]
  },
  {
   "cell_type": "code",
   "execution_count": 17,
   "metadata": {},
   "outputs": [],
   "source": [
    "import main as m"
   ]
  },
  {
   "cell_type": "markdown",
   "metadata": {},
   "source": [
    "### Aspectos Financieros"
   ]
  },
  {
   "cell_type": "markdown",
   "metadata": {},
   "source": [
    "Acerca del indicador seleccionado:\n",
    "\n",
    "El indicador seleccionado fue 'Gross Domestic Product Annualized - United States' que viene siendo el Producto Interno Bruto (PIB) que su lo que hace es medir el cambio anualizado en el valor ajustado por inflación de todos los bienes y servicios producidos por la economía de Estados Unidos. Es la medida más amplia de la actividad económica y el principal indicador de la salud de la economía."
   ]
  },
  {
   "cell_type": "code",
   "execution_count": 2,
   "metadata": {},
   "outputs": [
    {
     "data": {
      "application/vnd.plotly.v1+json": {
       "config": {
        "plotlyServerURL": "https://plot.ly"
       },
       "data": [
        {
         "close": [
          107.531,
          107.509,
          107.495,
          107.523,
          107.548,
          107.538,
          107.532,
          107.503,
          107.49,
          107.493,
          107.501,
          107.504,
          107.513,
          107.507,
          107.501,
          107.489,
          107.507,
          107.522,
          107.536,
          107.526,
          107.539,
          107.541,
          107.543,
          107.552,
          107.524,
          107.51,
          107.541,
          107.539,
          107.536,
          107.57,
          107.572,
          107.578,
          107.571,
          107.572,
          107.584,
          107.577,
          107.576,
          107.593,
          107.618,
          107.631,
          107.621,
          107.635,
          107.637,
          107.658,
          107.646,
          107.646,
          107.633,
          107.646,
          107.674,
          107.668,
          107.698,
          107.675,
          107.671,
          107.68,
          107.701,
          107.714,
          107.645,
          107.665,
          107.672,
          107.668,
          107.652
         ],
         "high": [
          107.54,
          107.531,
          107.513,
          107.524,
          107.553,
          107.557,
          107.547,
          107.536,
          107.506,
          107.496,
          107.501,
          107.506,
          107.517,
          107.513,
          107.512,
          107.501,
          107.507,
          107.525,
          107.539,
          107.547,
          107.54,
          107.543,
          107.555,
          107.56,
          107.552,
          107.525,
          107.542,
          107.546,
          107.542,
          107.576,
          107.58,
          107.579,
          107.578,
          107.581,
          107.585,
          107.586,
          107.58,
          107.596,
          107.622,
          107.64,
          107.635,
          107.637,
          107.642,
          107.682,
          107.659,
          107.646,
          107.647,
          107.647,
          107.677,
          107.692,
          107.702,
          107.7,
          107.682,
          107.681,
          107.703,
          107.718,
          107.716,
          107.696,
          107.673,
          107.695,
          107.675
         ],
         "low": [
          107.509,
          107.502,
          107.49,
          107.495,
          107.511,
          107.535,
          107.531,
          107.499,
          107.482,
          107.48,
          107.491,
          107.486,
          107.503,
          107.493,
          107.501,
          107.475,
          107.486,
          107.505,
          107.522,
          107.522,
          107.523,
          107.532,
          107.539,
          107.542,
          107.521,
          107.506,
          107.506,
          107.537,
          107.53,
          107.536,
          107.563,
          107.57,
          107.568,
          107.562,
          107.566,
          107.574,
          107.57,
          107.575,
          107.591,
          107.608,
          107.62,
          107.621,
          107.612,
          107.636,
          107.637,
          107.631,
          107.63,
          107.633,
          107.645,
          107.659,
          107.657,
          107.674,
          107.668,
          107.67,
          107.679,
          107.697,
          107.641,
          107.644,
          107.658,
          107.649,
          107.651
         ],
         "open": [
          107.532,
          107.531,
          107.509,
          107.495,
          107.523,
          107.548,
          107.538,
          107.532,
          107.503,
          107.49,
          107.493,
          107.501,
          107.504,
          107.513,
          107.507,
          107.501,
          107.489,
          107.507,
          107.522,
          107.537,
          107.526,
          107.537,
          107.541,
          107.543,
          107.552,
          107.524,
          107.51,
          107.541,
          107.539,
          107.536,
          107.57,
          107.572,
          107.578,
          107.571,
          107.572,
          107.584,
          107.577,
          107.576,
          107.593,
          107.618,
          107.631,
          107.621,
          107.635,
          107.638,
          107.658,
          107.646,
          107.646,
          107.633,
          107.646,
          107.674,
          107.667,
          107.698,
          107.675,
          107.671,
          107.68,
          107.701,
          107.714,
          107.645,
          107.665,
          107.673,
          107.668
         ],
         "type": "candlestick",
         "x": [
          "2019-09-26T17:00:00",
          "2019-09-26T17:01:00",
          "2019-09-26T17:02:00",
          "2019-09-26T17:03:00",
          "2019-09-26T17:04:00",
          "2019-09-26T17:05:00",
          "2019-09-26T17:06:00",
          "2019-09-26T17:07:00",
          "2019-09-26T17:08:00",
          "2019-09-26T17:09:00",
          "2019-09-26T17:10:00",
          "2019-09-26T17:11:00",
          "2019-09-26T17:12:00",
          "2019-09-26T17:13:00",
          "2019-09-26T17:14:00",
          "2019-09-26T17:15:00",
          "2019-09-26T17:16:00",
          "2019-09-26T17:17:00",
          "2019-09-26T17:18:00",
          "2019-09-26T17:19:00",
          "2019-09-26T17:20:00",
          "2019-09-26T17:21:00",
          "2019-09-26T17:22:00",
          "2019-09-26T17:23:00",
          "2019-09-26T17:24:00",
          "2019-09-26T17:25:00",
          "2019-09-26T17:26:00",
          "2019-09-26T17:27:00",
          "2019-09-26T17:28:00",
          "2019-09-26T17:29:00",
          "2019-09-26T17:30:00",
          "2019-09-26T17:31:00",
          "2019-09-26T17:32:00",
          "2019-09-26T17:33:00",
          "2019-09-26T17:34:00",
          "2019-09-26T17:35:00",
          "2019-09-26T17:36:00",
          "2019-09-26T17:37:00",
          "2019-09-26T17:38:00",
          "2019-09-26T17:39:00",
          "2019-09-26T17:40:00",
          "2019-09-26T17:41:00",
          "2019-09-26T17:42:00",
          "2019-09-26T17:43:00",
          "2019-09-26T17:44:00",
          "2019-09-26T17:45:00",
          "2019-09-26T17:46:00",
          "2019-09-26T17:47:00",
          "2019-09-26T17:48:00",
          "2019-09-26T17:49:00",
          "2019-09-26T17:50:00",
          "2019-09-26T17:51:00",
          "2019-09-26T17:52:00",
          "2019-09-26T17:53:00",
          "2019-09-26T17:54:00",
          "2019-09-26T17:55:00",
          "2019-09-26T17:56:00",
          "2019-09-26T17:57:00",
          "2019-09-26T17:58:00",
          "2019-09-26T17:59:00",
          "2019-09-26T18:00:00"
         ]
        }
       ],
       "layout": {
        "template": {
         "data": {
          "bar": [
           {
            "error_x": {
             "color": "#2a3f5f"
            },
            "error_y": {
             "color": "#2a3f5f"
            },
            "marker": {
             "line": {
              "color": "#E5ECF6",
              "width": 0.5
             },
             "pattern": {
              "fillmode": "overlay",
              "size": 10,
              "solidity": 0.2
             }
            },
            "type": "bar"
           }
          ],
          "barpolar": [
           {
            "marker": {
             "line": {
              "color": "#E5ECF6",
              "width": 0.5
             },
             "pattern": {
              "fillmode": "overlay",
              "size": 10,
              "solidity": 0.2
             }
            },
            "type": "barpolar"
           }
          ],
          "carpet": [
           {
            "aaxis": {
             "endlinecolor": "#2a3f5f",
             "gridcolor": "white",
             "linecolor": "white",
             "minorgridcolor": "white",
             "startlinecolor": "#2a3f5f"
            },
            "baxis": {
             "endlinecolor": "#2a3f5f",
             "gridcolor": "white",
             "linecolor": "white",
             "minorgridcolor": "white",
             "startlinecolor": "#2a3f5f"
            },
            "type": "carpet"
           }
          ],
          "choropleth": [
           {
            "colorbar": {
             "outlinewidth": 0,
             "ticks": ""
            },
            "type": "choropleth"
           }
          ],
          "contour": [
           {
            "colorbar": {
             "outlinewidth": 0,
             "ticks": ""
            },
            "colorscale": [
             [
              0,
              "#0d0887"
             ],
             [
              0.1111111111111111,
              "#46039f"
             ],
             [
              0.2222222222222222,
              "#7201a8"
             ],
             [
              0.3333333333333333,
              "#9c179e"
             ],
             [
              0.4444444444444444,
              "#bd3786"
             ],
             [
              0.5555555555555556,
              "#d8576b"
             ],
             [
              0.6666666666666666,
              "#ed7953"
             ],
             [
              0.7777777777777778,
              "#fb9f3a"
             ],
             [
              0.8888888888888888,
              "#fdca26"
             ],
             [
              1,
              "#f0f921"
             ]
            ],
            "type": "contour"
           }
          ],
          "contourcarpet": [
           {
            "colorbar": {
             "outlinewidth": 0,
             "ticks": ""
            },
            "type": "contourcarpet"
           }
          ],
          "heatmap": [
           {
            "colorbar": {
             "outlinewidth": 0,
             "ticks": ""
            },
            "colorscale": [
             [
              0,
              "#0d0887"
             ],
             [
              0.1111111111111111,
              "#46039f"
             ],
             [
              0.2222222222222222,
              "#7201a8"
             ],
             [
              0.3333333333333333,
              "#9c179e"
             ],
             [
              0.4444444444444444,
              "#bd3786"
             ],
             [
              0.5555555555555556,
              "#d8576b"
             ],
             [
              0.6666666666666666,
              "#ed7953"
             ],
             [
              0.7777777777777778,
              "#fb9f3a"
             ],
             [
              0.8888888888888888,
              "#fdca26"
             ],
             [
              1,
              "#f0f921"
             ]
            ],
            "type": "heatmap"
           }
          ],
          "heatmapgl": [
           {
            "colorbar": {
             "outlinewidth": 0,
             "ticks": ""
            },
            "colorscale": [
             [
              0,
              "#0d0887"
             ],
             [
              0.1111111111111111,
              "#46039f"
             ],
             [
              0.2222222222222222,
              "#7201a8"
             ],
             [
              0.3333333333333333,
              "#9c179e"
             ],
             [
              0.4444444444444444,
              "#bd3786"
             ],
             [
              0.5555555555555556,
              "#d8576b"
             ],
             [
              0.6666666666666666,
              "#ed7953"
             ],
             [
              0.7777777777777778,
              "#fb9f3a"
             ],
             [
              0.8888888888888888,
              "#fdca26"
             ],
             [
              1,
              "#f0f921"
             ]
            ],
            "type": "heatmapgl"
           }
          ],
          "histogram": [
           {
            "marker": {
             "pattern": {
              "fillmode": "overlay",
              "size": 10,
              "solidity": 0.2
             }
            },
            "type": "histogram"
           }
          ],
          "histogram2d": [
           {
            "colorbar": {
             "outlinewidth": 0,
             "ticks": ""
            },
            "colorscale": [
             [
              0,
              "#0d0887"
             ],
             [
              0.1111111111111111,
              "#46039f"
             ],
             [
              0.2222222222222222,
              "#7201a8"
             ],
             [
              0.3333333333333333,
              "#9c179e"
             ],
             [
              0.4444444444444444,
              "#bd3786"
             ],
             [
              0.5555555555555556,
              "#d8576b"
             ],
             [
              0.6666666666666666,
              "#ed7953"
             ],
             [
              0.7777777777777778,
              "#fb9f3a"
             ],
             [
              0.8888888888888888,
              "#fdca26"
             ],
             [
              1,
              "#f0f921"
             ]
            ],
            "type": "histogram2d"
           }
          ],
          "histogram2dcontour": [
           {
            "colorbar": {
             "outlinewidth": 0,
             "ticks": ""
            },
            "colorscale": [
             [
              0,
              "#0d0887"
             ],
             [
              0.1111111111111111,
              "#46039f"
             ],
             [
              0.2222222222222222,
              "#7201a8"
             ],
             [
              0.3333333333333333,
              "#9c179e"
             ],
             [
              0.4444444444444444,
              "#bd3786"
             ],
             [
              0.5555555555555556,
              "#d8576b"
             ],
             [
              0.6666666666666666,
              "#ed7953"
             ],
             [
              0.7777777777777778,
              "#fb9f3a"
             ],
             [
              0.8888888888888888,
              "#fdca26"
             ],
             [
              1,
              "#f0f921"
             ]
            ],
            "type": "histogram2dcontour"
           }
          ],
          "mesh3d": [
           {
            "colorbar": {
             "outlinewidth": 0,
             "ticks": ""
            },
            "type": "mesh3d"
           }
          ],
          "parcoords": [
           {
            "line": {
             "colorbar": {
              "outlinewidth": 0,
              "ticks": ""
             }
            },
            "type": "parcoords"
           }
          ],
          "pie": [
           {
            "automargin": true,
            "type": "pie"
           }
          ],
          "scatter": [
           {
            "fillpattern": {
             "fillmode": "overlay",
             "size": 10,
             "solidity": 0.2
            },
            "type": "scatter"
           }
          ],
          "scatter3d": [
           {
            "line": {
             "colorbar": {
              "outlinewidth": 0,
              "ticks": ""
             }
            },
            "marker": {
             "colorbar": {
              "outlinewidth": 0,
              "ticks": ""
             }
            },
            "type": "scatter3d"
           }
          ],
          "scattercarpet": [
           {
            "marker": {
             "colorbar": {
              "outlinewidth": 0,
              "ticks": ""
             }
            },
            "type": "scattercarpet"
           }
          ],
          "scattergeo": [
           {
            "marker": {
             "colorbar": {
              "outlinewidth": 0,
              "ticks": ""
             }
            },
            "type": "scattergeo"
           }
          ],
          "scattergl": [
           {
            "marker": {
             "colorbar": {
              "outlinewidth": 0,
              "ticks": ""
             }
            },
            "type": "scattergl"
           }
          ],
          "scattermapbox": [
           {
            "marker": {
             "colorbar": {
              "outlinewidth": 0,
              "ticks": ""
             }
            },
            "type": "scattermapbox"
           }
          ],
          "scatterpolar": [
           {
            "marker": {
             "colorbar": {
              "outlinewidth": 0,
              "ticks": ""
             }
            },
            "type": "scatterpolar"
           }
          ],
          "scatterpolargl": [
           {
            "marker": {
             "colorbar": {
              "outlinewidth": 0,
              "ticks": ""
             }
            },
            "type": "scatterpolargl"
           }
          ],
          "scatterternary": [
           {
            "marker": {
             "colorbar": {
              "outlinewidth": 0,
              "ticks": ""
             }
            },
            "type": "scatterternary"
           }
          ],
          "surface": [
           {
            "colorbar": {
             "outlinewidth": 0,
             "ticks": ""
            },
            "colorscale": [
             [
              0,
              "#0d0887"
             ],
             [
              0.1111111111111111,
              "#46039f"
             ],
             [
              0.2222222222222222,
              "#7201a8"
             ],
             [
              0.3333333333333333,
              "#9c179e"
             ],
             [
              0.4444444444444444,
              "#bd3786"
             ],
             [
              0.5555555555555556,
              "#d8576b"
             ],
             [
              0.6666666666666666,
              "#ed7953"
             ],
             [
              0.7777777777777778,
              "#fb9f3a"
             ],
             [
              0.8888888888888888,
              "#fdca26"
             ],
             [
              1,
              "#f0f921"
             ]
            ],
            "type": "surface"
           }
          ],
          "table": [
           {
            "cells": {
             "fill": {
              "color": "#EBF0F8"
             },
             "line": {
              "color": "white"
             }
            },
            "header": {
             "fill": {
              "color": "#C8D4E3"
             },
             "line": {
              "color": "white"
             }
            },
            "type": "table"
           }
          ]
         },
         "layout": {
          "annotationdefaults": {
           "arrowcolor": "#2a3f5f",
           "arrowhead": 0,
           "arrowwidth": 1
          },
          "autotypenumbers": "strict",
          "coloraxis": {
           "colorbar": {
            "outlinewidth": 0,
            "ticks": ""
           }
          },
          "colorscale": {
           "diverging": [
            [
             0,
             "#8e0152"
            ],
            [
             0.1,
             "#c51b7d"
            ],
            [
             0.2,
             "#de77ae"
            ],
            [
             0.3,
             "#f1b6da"
            ],
            [
             0.4,
             "#fde0ef"
            ],
            [
             0.5,
             "#f7f7f7"
            ],
            [
             0.6,
             "#e6f5d0"
            ],
            [
             0.7,
             "#b8e186"
            ],
            [
             0.8,
             "#7fbc41"
            ],
            [
             0.9,
             "#4d9221"
            ],
            [
             1,
             "#276419"
            ]
           ],
           "sequential": [
            [
             0,
             "#0d0887"
            ],
            [
             0.1111111111111111,
             "#46039f"
            ],
            [
             0.2222222222222222,
             "#7201a8"
            ],
            [
             0.3333333333333333,
             "#9c179e"
            ],
            [
             0.4444444444444444,
             "#bd3786"
            ],
            [
             0.5555555555555556,
             "#d8576b"
            ],
            [
             0.6666666666666666,
             "#ed7953"
            ],
            [
             0.7777777777777778,
             "#fb9f3a"
            ],
            [
             0.8888888888888888,
             "#fdca26"
            ],
            [
             1,
             "#f0f921"
            ]
           ],
           "sequentialminus": [
            [
             0,
             "#0d0887"
            ],
            [
             0.1111111111111111,
             "#46039f"
            ],
            [
             0.2222222222222222,
             "#7201a8"
            ],
            [
             0.3333333333333333,
             "#9c179e"
            ],
            [
             0.4444444444444444,
             "#bd3786"
            ],
            [
             0.5555555555555556,
             "#d8576b"
            ],
            [
             0.6666666666666666,
             "#ed7953"
            ],
            [
             0.7777777777777778,
             "#fb9f3a"
            ],
            [
             0.8888888888888888,
             "#fdca26"
            ],
            [
             1,
             "#f0f921"
            ]
           ]
          },
          "colorway": [
           "#636efa",
           "#EF553B",
           "#00cc96",
           "#ab63fa",
           "#FFA15A",
           "#19d3f3",
           "#FF6692",
           "#B6E880",
           "#FF97FF",
           "#FECB52"
          ],
          "font": {
           "color": "#2a3f5f"
          },
          "geo": {
           "bgcolor": "white",
           "lakecolor": "white",
           "landcolor": "#E5ECF6",
           "showlakes": true,
           "showland": true,
           "subunitcolor": "white"
          },
          "hoverlabel": {
           "align": "left"
          },
          "hovermode": "closest",
          "mapbox": {
           "style": "light"
          },
          "paper_bgcolor": "white",
          "plot_bgcolor": "#E5ECF6",
          "polar": {
           "angularaxis": {
            "gridcolor": "white",
            "linecolor": "white",
            "ticks": ""
           },
           "bgcolor": "#E5ECF6",
           "radialaxis": {
            "gridcolor": "white",
            "linecolor": "white",
            "ticks": ""
           }
          },
          "scene": {
           "xaxis": {
            "backgroundcolor": "#E5ECF6",
            "gridcolor": "white",
            "gridwidth": 2,
            "linecolor": "white",
            "showbackground": true,
            "ticks": "",
            "zerolinecolor": "white"
           },
           "yaxis": {
            "backgroundcolor": "#E5ECF6",
            "gridcolor": "white",
            "gridwidth": 2,
            "linecolor": "white",
            "showbackground": true,
            "ticks": "",
            "zerolinecolor": "white"
           },
           "zaxis": {
            "backgroundcolor": "#E5ECF6",
            "gridcolor": "white",
            "gridwidth": 2,
            "linecolor": "white",
            "showbackground": true,
            "ticks": "",
            "zerolinecolor": "white"
           }
          },
          "shapedefaults": {
           "line": {
            "color": "#2a3f5f"
           }
          },
          "ternary": {
           "aaxis": {
            "gridcolor": "white",
            "linecolor": "white",
            "ticks": ""
           },
           "baxis": {
            "gridcolor": "white",
            "linecolor": "white",
            "ticks": ""
           },
           "bgcolor": "#E5ECF6",
           "caxis": {
            "gridcolor": "white",
            "linecolor": "white",
            "ticks": ""
           }
          },
          "title": {
           "x": 0.05
          },
          "xaxis": {
           "automargin": true,
           "gridcolor": "white",
           "linecolor": "white",
           "ticks": "",
           "title": {
            "standoff": 15
           },
           "zerolinecolor": "white",
           "zerolinewidth": 2
          },
          "yaxis": {
           "automargin": true,
           "gridcolor": "white",
           "linecolor": "white",
           "ticks": "",
           "title": {
            "standoff": 15
           },
           "zerolinecolor": "white",
           "zerolinewidth": 2
          }
         }
        },
        "title": {
         "text": "USDJPY"
        },
        "xaxis": {
         "rangeslider": {
          "visible": false
         }
        }
       }
      }
     },
     "metadata": {},
     "output_type": "display_data"
    }
   ],
   "source": [
    "m.gv1"
   ]
  },
  {
   "cell_type": "markdown",
   "metadata": {},
   "source": [
    "El precio inicia a la baja con un open de 105.34, pero en la media hora previa al indicador el precio tiene una disminución llegando a un close price de 105.09. Después del indicador tiene un ligero aumento y cierra a los 30 minutos con un close price de 105.19."
   ]
  },
  {
   "cell_type": "code",
   "execution_count": 3,
   "metadata": {},
   "outputs": [
    {
     "data": {
      "application/vnd.plotly.v1+json": {
       "config": {
        "plotlyServerURL": "https://plot.ly"
       },
       "data": [
        {
         "close": [
          86.635,
          86.627,
          86.635,
          86.701,
          86.693,
          86.669,
          86.686,
          86.687,
          86.697,
          86.702,
          86.674,
          86.648,
          86.639,
          86.656,
          86.668,
          86.675,
          86.674,
          86.654,
          86.648,
          86.644,
          86.678,
          86.677,
          86.635,
          86.563,
          86.611,
          86.614,
          86.6,
          86.596,
          86.577,
          86.566,
          86.555,
          86.567,
          86.553,
          86.552,
          86.55,
          86.535,
          86.518,
          86.509,
          86.527,
          86.535,
          86.498,
          86.48,
          86.438,
          86.447,
          86.421,
          86.469,
          86.483,
          86.482,
          86.468,
          86.459,
          86.438,
          86.465,
          86.485,
          86.462,
          86.468,
          86.437,
          86.459,
          86.45,
          86.434,
          86.442
         ],
         "high": [
          86.66,
          86.635,
          86.645,
          86.701,
          86.716,
          86.699,
          86.686,
          86.695,
          86.699,
          86.705,
          86.701,
          86.672,
          86.656,
          86.657,
          86.668,
          86.677,
          86.674,
          86.673,
          86.657,
          86.651,
          86.696,
          86.705,
          86.675,
          86.634,
          86.613,
          86.615,
          86.616,
          86.618,
          86.598,
          86.579,
          86.564,
          86.57,
          86.569,
          86.557,
          86.553,
          86.551,
          86.534,
          86.516,
          86.527,
          86.542,
          86.544,
          86.499,
          86.481,
          86.449,
          86.446,
          86.469,
          86.49,
          86.483,
          86.48,
          86.472,
          86.457,
          86.467,
          86.485,
          86.483,
          86.473,
          86.466,
          86.46,
          86.457,
          86.457,
          86.442
         ],
         "low": [
          86.635,
          86.616,
          86.626,
          86.635,
          86.686,
          86.667,
          86.666,
          86.677,
          86.686,
          86.694,
          86.674,
          86.645,
          86.638,
          86.636,
          86.655,
          86.663,
          86.665,
          86.654,
          86.648,
          86.636,
          86.638,
          86.675,
          86.634,
          86.562,
          86.553,
          86.603,
          86.6,
          86.596,
          86.575,
          86.564,
          86.541,
          86.546,
          86.548,
          86.547,
          86.546,
          86.533,
          86.516,
          86.506,
          86.509,
          86.521,
          86.493,
          86.48,
          86.436,
          86.431,
          86.419,
          86.422,
          86.471,
          86.459,
          86.459,
          86.459,
          86.438,
          86.431,
          86.466,
          86.461,
          86.465,
          86.433,
          86.436,
          86.448,
          86.43,
          86.43
         ],
         "open": [
          86.649,
          86.633,
          86.626,
          86.637,
          86.703,
          86.692,
          86.672,
          86.688,
          86.686,
          86.704,
          86.701,
          86.672,
          86.65,
          86.641,
          86.655,
          86.669,
          86.673,
          86.673,
          86.655,
          86.647,
          86.643,
          86.677,
          86.675,
          86.634,
          86.569,
          86.61,
          86.613,
          86.599,
          86.595,
          86.575,
          86.564,
          86.557,
          86.568,
          86.555,
          86.553,
          86.551,
          86.534,
          86.516,
          86.511,
          86.525,
          86.534,
          86.494,
          86.479,
          86.435,
          86.445,
          86.422,
          86.471,
          86.48,
          86.48,
          86.47,
          86.456,
          86.436,
          86.468,
          86.483,
          86.467,
          86.466,
          86.438,
          86.456,
          86.449,
          86.435
         ],
         "type": "candlestick",
         "x": [
          "2010-07-30T17:00:00",
          "2010-07-30T17:01:00",
          "2010-07-30T17:02:00",
          "2010-07-30T17:04:00",
          "2010-07-30T17:05:00",
          "2010-07-30T17:06:00",
          "2010-07-30T17:07:00",
          "2010-07-30T17:08:00",
          "2010-07-30T17:09:00",
          "2010-07-30T17:10:00",
          "2010-07-30T17:11:00",
          "2010-07-30T17:12:00",
          "2010-07-30T17:13:00",
          "2010-07-30T17:14:00",
          "2010-07-30T17:15:00",
          "2010-07-30T17:16:00",
          "2010-07-30T17:17:00",
          "2010-07-30T17:18:00",
          "2010-07-30T17:19:00",
          "2010-07-30T17:20:00",
          "2010-07-30T17:21:00",
          "2010-07-30T17:22:00",
          "2010-07-30T17:23:00",
          "2010-07-30T17:24:00",
          "2010-07-30T17:25:00",
          "2010-07-30T17:26:00",
          "2010-07-30T17:27:00",
          "2010-07-30T17:28:00",
          "2010-07-30T17:29:00",
          "2010-07-30T17:30:00",
          "2010-07-30T17:31:00",
          "2010-07-30T17:32:00",
          "2010-07-30T17:33:00",
          "2010-07-30T17:34:00",
          "2010-07-30T17:35:00",
          "2010-07-30T17:36:00",
          "2010-07-30T17:37:00",
          "2010-07-30T17:38:00",
          "2010-07-30T17:39:00",
          "2010-07-30T17:40:00",
          "2010-07-30T17:41:00",
          "2010-07-30T17:42:00",
          "2010-07-30T17:43:00",
          "2010-07-30T17:44:00",
          "2010-07-30T17:45:00",
          "2010-07-30T17:46:00",
          "2010-07-30T17:47:00",
          "2010-07-30T17:48:00",
          "2010-07-30T17:49:00",
          "2010-07-30T17:50:00",
          "2010-07-30T17:51:00",
          "2010-07-30T17:52:00",
          "2010-07-30T17:53:00",
          "2010-07-30T17:54:00",
          "2010-07-30T17:55:00",
          "2010-07-30T17:56:00",
          "2010-07-30T17:57:00",
          "2010-07-30T17:58:00",
          "2010-07-30T17:59:00",
          "2010-07-30T18:00:00"
         ]
        }
       ],
       "layout": {
        "template": {
         "data": {
          "bar": [
           {
            "error_x": {
             "color": "#2a3f5f"
            },
            "error_y": {
             "color": "#2a3f5f"
            },
            "marker": {
             "line": {
              "color": "#E5ECF6",
              "width": 0.5
             },
             "pattern": {
              "fillmode": "overlay",
              "size": 10,
              "solidity": 0.2
             }
            },
            "type": "bar"
           }
          ],
          "barpolar": [
           {
            "marker": {
             "line": {
              "color": "#E5ECF6",
              "width": 0.5
             },
             "pattern": {
              "fillmode": "overlay",
              "size": 10,
              "solidity": 0.2
             }
            },
            "type": "barpolar"
           }
          ],
          "carpet": [
           {
            "aaxis": {
             "endlinecolor": "#2a3f5f",
             "gridcolor": "white",
             "linecolor": "white",
             "minorgridcolor": "white",
             "startlinecolor": "#2a3f5f"
            },
            "baxis": {
             "endlinecolor": "#2a3f5f",
             "gridcolor": "white",
             "linecolor": "white",
             "minorgridcolor": "white",
             "startlinecolor": "#2a3f5f"
            },
            "type": "carpet"
           }
          ],
          "choropleth": [
           {
            "colorbar": {
             "outlinewidth": 0,
             "ticks": ""
            },
            "type": "choropleth"
           }
          ],
          "contour": [
           {
            "colorbar": {
             "outlinewidth": 0,
             "ticks": ""
            },
            "colorscale": [
             [
              0,
              "#0d0887"
             ],
             [
              0.1111111111111111,
              "#46039f"
             ],
             [
              0.2222222222222222,
              "#7201a8"
             ],
             [
              0.3333333333333333,
              "#9c179e"
             ],
             [
              0.4444444444444444,
              "#bd3786"
             ],
             [
              0.5555555555555556,
              "#d8576b"
             ],
             [
              0.6666666666666666,
              "#ed7953"
             ],
             [
              0.7777777777777778,
              "#fb9f3a"
             ],
             [
              0.8888888888888888,
              "#fdca26"
             ],
             [
              1,
              "#f0f921"
             ]
            ],
            "type": "contour"
           }
          ],
          "contourcarpet": [
           {
            "colorbar": {
             "outlinewidth": 0,
             "ticks": ""
            },
            "type": "contourcarpet"
           }
          ],
          "heatmap": [
           {
            "colorbar": {
             "outlinewidth": 0,
             "ticks": ""
            },
            "colorscale": [
             [
              0,
              "#0d0887"
             ],
             [
              0.1111111111111111,
              "#46039f"
             ],
             [
              0.2222222222222222,
              "#7201a8"
             ],
             [
              0.3333333333333333,
              "#9c179e"
             ],
             [
              0.4444444444444444,
              "#bd3786"
             ],
             [
              0.5555555555555556,
              "#d8576b"
             ],
             [
              0.6666666666666666,
              "#ed7953"
             ],
             [
              0.7777777777777778,
              "#fb9f3a"
             ],
             [
              0.8888888888888888,
              "#fdca26"
             ],
             [
              1,
              "#f0f921"
             ]
            ],
            "type": "heatmap"
           }
          ],
          "heatmapgl": [
           {
            "colorbar": {
             "outlinewidth": 0,
             "ticks": ""
            },
            "colorscale": [
             [
              0,
              "#0d0887"
             ],
             [
              0.1111111111111111,
              "#46039f"
             ],
             [
              0.2222222222222222,
              "#7201a8"
             ],
             [
              0.3333333333333333,
              "#9c179e"
             ],
             [
              0.4444444444444444,
              "#bd3786"
             ],
             [
              0.5555555555555556,
              "#d8576b"
             ],
             [
              0.6666666666666666,
              "#ed7953"
             ],
             [
              0.7777777777777778,
              "#fb9f3a"
             ],
             [
              0.8888888888888888,
              "#fdca26"
             ],
             [
              1,
              "#f0f921"
             ]
            ],
            "type": "heatmapgl"
           }
          ],
          "histogram": [
           {
            "marker": {
             "pattern": {
              "fillmode": "overlay",
              "size": 10,
              "solidity": 0.2
             }
            },
            "type": "histogram"
           }
          ],
          "histogram2d": [
           {
            "colorbar": {
             "outlinewidth": 0,
             "ticks": ""
            },
            "colorscale": [
             [
              0,
              "#0d0887"
             ],
             [
              0.1111111111111111,
              "#46039f"
             ],
             [
              0.2222222222222222,
              "#7201a8"
             ],
             [
              0.3333333333333333,
              "#9c179e"
             ],
             [
              0.4444444444444444,
              "#bd3786"
             ],
             [
              0.5555555555555556,
              "#d8576b"
             ],
             [
              0.6666666666666666,
              "#ed7953"
             ],
             [
              0.7777777777777778,
              "#fb9f3a"
             ],
             [
              0.8888888888888888,
              "#fdca26"
             ],
             [
              1,
              "#f0f921"
             ]
            ],
            "type": "histogram2d"
           }
          ],
          "histogram2dcontour": [
           {
            "colorbar": {
             "outlinewidth": 0,
             "ticks": ""
            },
            "colorscale": [
             [
              0,
              "#0d0887"
             ],
             [
              0.1111111111111111,
              "#46039f"
             ],
             [
              0.2222222222222222,
              "#7201a8"
             ],
             [
              0.3333333333333333,
              "#9c179e"
             ],
             [
              0.4444444444444444,
              "#bd3786"
             ],
             [
              0.5555555555555556,
              "#d8576b"
             ],
             [
              0.6666666666666666,
              "#ed7953"
             ],
             [
              0.7777777777777778,
              "#fb9f3a"
             ],
             [
              0.8888888888888888,
              "#fdca26"
             ],
             [
              1,
              "#f0f921"
             ]
            ],
            "type": "histogram2dcontour"
           }
          ],
          "mesh3d": [
           {
            "colorbar": {
             "outlinewidth": 0,
             "ticks": ""
            },
            "type": "mesh3d"
           }
          ],
          "parcoords": [
           {
            "line": {
             "colorbar": {
              "outlinewidth": 0,
              "ticks": ""
             }
            },
            "type": "parcoords"
           }
          ],
          "pie": [
           {
            "automargin": true,
            "type": "pie"
           }
          ],
          "scatter": [
           {
            "fillpattern": {
             "fillmode": "overlay",
             "size": 10,
             "solidity": 0.2
            },
            "type": "scatter"
           }
          ],
          "scatter3d": [
           {
            "line": {
             "colorbar": {
              "outlinewidth": 0,
              "ticks": ""
             }
            },
            "marker": {
             "colorbar": {
              "outlinewidth": 0,
              "ticks": ""
             }
            },
            "type": "scatter3d"
           }
          ],
          "scattercarpet": [
           {
            "marker": {
             "colorbar": {
              "outlinewidth": 0,
              "ticks": ""
             }
            },
            "type": "scattercarpet"
           }
          ],
          "scattergeo": [
           {
            "marker": {
             "colorbar": {
              "outlinewidth": 0,
              "ticks": ""
             }
            },
            "type": "scattergeo"
           }
          ],
          "scattergl": [
           {
            "marker": {
             "colorbar": {
              "outlinewidth": 0,
              "ticks": ""
             }
            },
            "type": "scattergl"
           }
          ],
          "scattermapbox": [
           {
            "marker": {
             "colorbar": {
              "outlinewidth": 0,
              "ticks": ""
             }
            },
            "type": "scattermapbox"
           }
          ],
          "scatterpolar": [
           {
            "marker": {
             "colorbar": {
              "outlinewidth": 0,
              "ticks": ""
             }
            },
            "type": "scatterpolar"
           }
          ],
          "scatterpolargl": [
           {
            "marker": {
             "colorbar": {
              "outlinewidth": 0,
              "ticks": ""
             }
            },
            "type": "scatterpolargl"
           }
          ],
          "scatterternary": [
           {
            "marker": {
             "colorbar": {
              "outlinewidth": 0,
              "ticks": ""
             }
            },
            "type": "scatterternary"
           }
          ],
          "surface": [
           {
            "colorbar": {
             "outlinewidth": 0,
             "ticks": ""
            },
            "colorscale": [
             [
              0,
              "#0d0887"
             ],
             [
              0.1111111111111111,
              "#46039f"
             ],
             [
              0.2222222222222222,
              "#7201a8"
             ],
             [
              0.3333333333333333,
              "#9c179e"
             ],
             [
              0.4444444444444444,
              "#bd3786"
             ],
             [
              0.5555555555555556,
              "#d8576b"
             ],
             [
              0.6666666666666666,
              "#ed7953"
             ],
             [
              0.7777777777777778,
              "#fb9f3a"
             ],
             [
              0.8888888888888888,
              "#fdca26"
             ],
             [
              1,
              "#f0f921"
             ]
            ],
            "type": "surface"
           }
          ],
          "table": [
           {
            "cells": {
             "fill": {
              "color": "#EBF0F8"
             },
             "line": {
              "color": "white"
             }
            },
            "header": {
             "fill": {
              "color": "#C8D4E3"
             },
             "line": {
              "color": "white"
             }
            },
            "type": "table"
           }
          ]
         },
         "layout": {
          "annotationdefaults": {
           "arrowcolor": "#2a3f5f",
           "arrowhead": 0,
           "arrowwidth": 1
          },
          "autotypenumbers": "strict",
          "coloraxis": {
           "colorbar": {
            "outlinewidth": 0,
            "ticks": ""
           }
          },
          "colorscale": {
           "diverging": [
            [
             0,
             "#8e0152"
            ],
            [
             0.1,
             "#c51b7d"
            ],
            [
             0.2,
             "#de77ae"
            ],
            [
             0.3,
             "#f1b6da"
            ],
            [
             0.4,
             "#fde0ef"
            ],
            [
             0.5,
             "#f7f7f7"
            ],
            [
             0.6,
             "#e6f5d0"
            ],
            [
             0.7,
             "#b8e186"
            ],
            [
             0.8,
             "#7fbc41"
            ],
            [
             0.9,
             "#4d9221"
            ],
            [
             1,
             "#276419"
            ]
           ],
           "sequential": [
            [
             0,
             "#0d0887"
            ],
            [
             0.1111111111111111,
             "#46039f"
            ],
            [
             0.2222222222222222,
             "#7201a8"
            ],
            [
             0.3333333333333333,
             "#9c179e"
            ],
            [
             0.4444444444444444,
             "#bd3786"
            ],
            [
             0.5555555555555556,
             "#d8576b"
            ],
            [
             0.6666666666666666,
             "#ed7953"
            ],
            [
             0.7777777777777778,
             "#fb9f3a"
            ],
            [
             0.8888888888888888,
             "#fdca26"
            ],
            [
             1,
             "#f0f921"
            ]
           ],
           "sequentialminus": [
            [
             0,
             "#0d0887"
            ],
            [
             0.1111111111111111,
             "#46039f"
            ],
            [
             0.2222222222222222,
             "#7201a8"
            ],
            [
             0.3333333333333333,
             "#9c179e"
            ],
            [
             0.4444444444444444,
             "#bd3786"
            ],
            [
             0.5555555555555556,
             "#d8576b"
            ],
            [
             0.6666666666666666,
             "#ed7953"
            ],
            [
             0.7777777777777778,
             "#fb9f3a"
            ],
            [
             0.8888888888888888,
             "#fdca26"
            ],
            [
             1,
             "#f0f921"
            ]
           ]
          },
          "colorway": [
           "#636efa",
           "#EF553B",
           "#00cc96",
           "#ab63fa",
           "#FFA15A",
           "#19d3f3",
           "#FF6692",
           "#B6E880",
           "#FF97FF",
           "#FECB52"
          ],
          "font": {
           "color": "#2a3f5f"
          },
          "geo": {
           "bgcolor": "white",
           "lakecolor": "white",
           "landcolor": "#E5ECF6",
           "showlakes": true,
           "showland": true,
           "subunitcolor": "white"
          },
          "hoverlabel": {
           "align": "left"
          },
          "hovermode": "closest",
          "mapbox": {
           "style": "light"
          },
          "paper_bgcolor": "white",
          "plot_bgcolor": "#E5ECF6",
          "polar": {
           "angularaxis": {
            "gridcolor": "white",
            "linecolor": "white",
            "ticks": ""
           },
           "bgcolor": "#E5ECF6",
           "radialaxis": {
            "gridcolor": "white",
            "linecolor": "white",
            "ticks": ""
           }
          },
          "scene": {
           "xaxis": {
            "backgroundcolor": "#E5ECF6",
            "gridcolor": "white",
            "gridwidth": 2,
            "linecolor": "white",
            "showbackground": true,
            "ticks": "",
            "zerolinecolor": "white"
           },
           "yaxis": {
            "backgroundcolor": "#E5ECF6",
            "gridcolor": "white",
            "gridwidth": 2,
            "linecolor": "white",
            "showbackground": true,
            "ticks": "",
            "zerolinecolor": "white"
           },
           "zaxis": {
            "backgroundcolor": "#E5ECF6",
            "gridcolor": "white",
            "gridwidth": 2,
            "linecolor": "white",
            "showbackground": true,
            "ticks": "",
            "zerolinecolor": "white"
           }
          },
          "shapedefaults": {
           "line": {
            "color": "#2a3f5f"
           }
          },
          "ternary": {
           "aaxis": {
            "gridcolor": "white",
            "linecolor": "white",
            "ticks": ""
           },
           "baxis": {
            "gridcolor": "white",
            "linecolor": "white",
            "ticks": ""
           },
           "bgcolor": "#E5ECF6",
           "caxis": {
            "gridcolor": "white",
            "linecolor": "white",
            "ticks": ""
           }
          },
          "title": {
           "x": 0.05
          },
          "xaxis": {
           "automargin": true,
           "gridcolor": "white",
           "linecolor": "white",
           "ticks": "",
           "title": {
            "standoff": 15
           },
           "zerolinecolor": "white",
           "zerolinewidth": 2
          },
          "yaxis": {
           "automargin": true,
           "gridcolor": "white",
           "linecolor": "white",
           "ticks": "",
           "title": {
            "standoff": 15
           },
           "zerolinecolor": "white",
           "zerolinewidth": 2
          }
         }
        },
        "title": {
         "text": "USDJPY"
        },
        "xaxis": {
         "rangeslider": {
          "visible": false
         }
        }
       }
      }
     },
     "metadata": {},
     "output_type": "display_data"
    }
   ],
   "source": [
    "m.gv2"
   ]
  },
  {
   "cell_type": "markdown",
   "metadata": {},
   "source": [
    "El precio inicia a la alza con un open de 109.76 y en la media hora previa al indicador el precio tiene un incremento constante llegando a un close price de 109.843 cuando sucede el indicador. Despues del indicador, la otra media hora el precio se mantiene de cierta forma constante cerrando con un close price de 109.85. En este caso el precio tambien termino un poco por encima despues del indicador."
   ]
  },
  {
   "cell_type": "code",
   "execution_count": 4,
   "metadata": {},
   "outputs": [
    {
     "data": {
      "application/vnd.plotly.v1+json": {
       "config": {
        "plotlyServerURL": "https://plot.ly"
       },
       "data": [
        {
         "close": [
          95.23,
          95.24,
          95.26,
          95.27,
          95.26,
          95.24,
          95.23,
          95.23,
          95.23,
          95.21,
          95.19,
          95.18,
          95.11,
          95.09,
          95.09,
          95.06,
          95.06,
          95.06,
          95.05,
          95.04,
          95,
          94.93,
          94.9,
          94.85,
          94.9,
          94.88,
          94.84,
          94.62,
          94.65,
          94.68,
          94.63,
          94.62,
          94.68,
          94.64,
          94.66,
          94.66,
          94.7,
          94.73,
          94.74,
          94.73,
          94.72,
          94.72,
          94.75,
          94.76,
          94.76,
          94.79,
          94.81,
          94.79,
          94.76,
          94.72,
          94.74,
          94.69,
          94.71,
          94.68,
          94.6,
          94.62,
          94.59,
          94.62,
          94.54,
          94.53,
          94.53
         ],
         "high": [
          95.23,
          95.26,
          95.27,
          95.28,
          95.28,
          95.25,
          95.23,
          95.23,
          95.23,
          95.23,
          95.21,
          95.19,
          95.17,
          95.11,
          95.12,
          95.08,
          95.07,
          95.07,
          95.06,
          95.06,
          95.05,
          94.99,
          94.92,
          94.91,
          94.9,
          94.92,
          94.87,
          94.83,
          94.65,
          94.72,
          94.69,
          94.64,
          94.68,
          94.67,
          94.68,
          94.67,
          94.72,
          94.73,
          94.75,
          94.73,
          94.74,
          94.74,
          94.75,
          94.77,
          94.77,
          94.79,
          94.84,
          94.82,
          94.8,
          94.76,
          94.74,
          94.74,
          94.71,
          94.71,
          94.68,
          94.62,
          94.62,
          94.64,
          94.61,
          94.55,
          94.56
         ],
         "low": [
          95.2,
          95.22,
          95.24,
          95.26,
          95.26,
          95.24,
          95.22,
          95.2,
          95.21,
          95.2,
          95.18,
          95.18,
          95.11,
          95.08,
          95.08,
          95.04,
          95.04,
          95.06,
          95.05,
          95.04,
          94.98,
          94.91,
          94.89,
          94.81,
          94.85,
          94.88,
          94.83,
          94.62,
          94.51,
          94.62,
          94.63,
          94.58,
          94.59,
          94.62,
          94.63,
          94.63,
          94.67,
          94.69,
          94.73,
          94.71,
          94.71,
          94.72,
          94.73,
          94.74,
          94.74,
          94.76,
          94.8,
          94.79,
          94.76,
          94.72,
          94.72,
          94.69,
          94.7,
          94.68,
          94.6,
          94.6,
          94.59,
          94.59,
          94.54,
          94.53,
          94.53
         ],
         "open": [
          95.2,
          95.22,
          95.25,
          95.27,
          95.26,
          95.25,
          95.23,
          95.22,
          95.22,
          95.22,
          95.2,
          95.18,
          95.17,
          95.1,
          95.1,
          95.08,
          95.05,
          95.07,
          95.05,
          95.06,
          95.05,
          94.99,
          94.91,
          94.91,
          94.86,
          94.91,
          94.87,
          94.83,
          94.6,
          94.64,
          94.67,
          94.64,
          94.61,
          94.67,
          94.63,
          94.67,
          94.67,
          94.71,
          94.74,
          94.73,
          94.72,
          94.73,
          94.73,
          94.74,
          94.77,
          94.77,
          94.8,
          94.8,
          94.8,
          94.75,
          94.73,
          94.73,
          94.7,
          94.7,
          94.67,
          94.61,
          94.61,
          94.6,
          94.61,
          94.53,
          94.54
         ],
         "type": "candlestick",
         "x": [
          "2009-07-31T17:00:00",
          "2009-07-31T17:01:00",
          "2009-07-31T17:02:00",
          "2009-07-31T17:03:00",
          "2009-07-31T17:04:00",
          "2009-07-31T17:05:00",
          "2009-07-31T17:06:00",
          "2009-07-31T17:07:00",
          "2009-07-31T17:08:00",
          "2009-07-31T17:09:00",
          "2009-07-31T17:10:00",
          "2009-07-31T17:11:00",
          "2009-07-31T17:12:00",
          "2009-07-31T17:13:00",
          "2009-07-31T17:14:00",
          "2009-07-31T17:15:00",
          "2009-07-31T17:16:00",
          "2009-07-31T17:17:00",
          "2009-07-31T17:18:00",
          "2009-07-31T17:19:00",
          "2009-07-31T17:20:00",
          "2009-07-31T17:21:00",
          "2009-07-31T17:22:00",
          "2009-07-31T17:23:00",
          "2009-07-31T17:24:00",
          "2009-07-31T17:25:00",
          "2009-07-31T17:26:00",
          "2009-07-31T17:27:00",
          "2009-07-31T17:28:00",
          "2009-07-31T17:29:00",
          "2009-07-31T17:30:00",
          "2009-07-31T17:31:00",
          "2009-07-31T17:32:00",
          "2009-07-31T17:33:00",
          "2009-07-31T17:34:00",
          "2009-07-31T17:35:00",
          "2009-07-31T17:36:00",
          "2009-07-31T17:37:00",
          "2009-07-31T17:38:00",
          "2009-07-31T17:39:00",
          "2009-07-31T17:40:00",
          "2009-07-31T17:41:00",
          "2009-07-31T17:42:00",
          "2009-07-31T17:43:00",
          "2009-07-31T17:44:00",
          "2009-07-31T17:45:00",
          "2009-07-31T17:46:00",
          "2009-07-31T17:47:00",
          "2009-07-31T17:48:00",
          "2009-07-31T17:49:00",
          "2009-07-31T17:50:00",
          "2009-07-31T17:51:00",
          "2009-07-31T17:52:00",
          "2009-07-31T17:53:00",
          "2009-07-31T17:54:00",
          "2009-07-31T17:55:00",
          "2009-07-31T17:56:00",
          "2009-07-31T17:57:00",
          "2009-07-31T17:58:00",
          "2009-07-31T17:59:00",
          "2009-07-31T18:00:00"
         ]
        }
       ],
       "layout": {
        "template": {
         "data": {
          "bar": [
           {
            "error_x": {
             "color": "#2a3f5f"
            },
            "error_y": {
             "color": "#2a3f5f"
            },
            "marker": {
             "line": {
              "color": "#E5ECF6",
              "width": 0.5
             },
             "pattern": {
              "fillmode": "overlay",
              "size": 10,
              "solidity": 0.2
             }
            },
            "type": "bar"
           }
          ],
          "barpolar": [
           {
            "marker": {
             "line": {
              "color": "#E5ECF6",
              "width": 0.5
             },
             "pattern": {
              "fillmode": "overlay",
              "size": 10,
              "solidity": 0.2
             }
            },
            "type": "barpolar"
           }
          ],
          "carpet": [
           {
            "aaxis": {
             "endlinecolor": "#2a3f5f",
             "gridcolor": "white",
             "linecolor": "white",
             "minorgridcolor": "white",
             "startlinecolor": "#2a3f5f"
            },
            "baxis": {
             "endlinecolor": "#2a3f5f",
             "gridcolor": "white",
             "linecolor": "white",
             "minorgridcolor": "white",
             "startlinecolor": "#2a3f5f"
            },
            "type": "carpet"
           }
          ],
          "choropleth": [
           {
            "colorbar": {
             "outlinewidth": 0,
             "ticks": ""
            },
            "type": "choropleth"
           }
          ],
          "contour": [
           {
            "colorbar": {
             "outlinewidth": 0,
             "ticks": ""
            },
            "colorscale": [
             [
              0,
              "#0d0887"
             ],
             [
              0.1111111111111111,
              "#46039f"
             ],
             [
              0.2222222222222222,
              "#7201a8"
             ],
             [
              0.3333333333333333,
              "#9c179e"
             ],
             [
              0.4444444444444444,
              "#bd3786"
             ],
             [
              0.5555555555555556,
              "#d8576b"
             ],
             [
              0.6666666666666666,
              "#ed7953"
             ],
             [
              0.7777777777777778,
              "#fb9f3a"
             ],
             [
              0.8888888888888888,
              "#fdca26"
             ],
             [
              1,
              "#f0f921"
             ]
            ],
            "type": "contour"
           }
          ],
          "contourcarpet": [
           {
            "colorbar": {
             "outlinewidth": 0,
             "ticks": ""
            },
            "type": "contourcarpet"
           }
          ],
          "heatmap": [
           {
            "colorbar": {
             "outlinewidth": 0,
             "ticks": ""
            },
            "colorscale": [
             [
              0,
              "#0d0887"
             ],
             [
              0.1111111111111111,
              "#46039f"
             ],
             [
              0.2222222222222222,
              "#7201a8"
             ],
             [
              0.3333333333333333,
              "#9c179e"
             ],
             [
              0.4444444444444444,
              "#bd3786"
             ],
             [
              0.5555555555555556,
              "#d8576b"
             ],
             [
              0.6666666666666666,
              "#ed7953"
             ],
             [
              0.7777777777777778,
              "#fb9f3a"
             ],
             [
              0.8888888888888888,
              "#fdca26"
             ],
             [
              1,
              "#f0f921"
             ]
            ],
            "type": "heatmap"
           }
          ],
          "heatmapgl": [
           {
            "colorbar": {
             "outlinewidth": 0,
             "ticks": ""
            },
            "colorscale": [
             [
              0,
              "#0d0887"
             ],
             [
              0.1111111111111111,
              "#46039f"
             ],
             [
              0.2222222222222222,
              "#7201a8"
             ],
             [
              0.3333333333333333,
              "#9c179e"
             ],
             [
              0.4444444444444444,
              "#bd3786"
             ],
             [
              0.5555555555555556,
              "#d8576b"
             ],
             [
              0.6666666666666666,
              "#ed7953"
             ],
             [
              0.7777777777777778,
              "#fb9f3a"
             ],
             [
              0.8888888888888888,
              "#fdca26"
             ],
             [
              1,
              "#f0f921"
             ]
            ],
            "type": "heatmapgl"
           }
          ],
          "histogram": [
           {
            "marker": {
             "pattern": {
              "fillmode": "overlay",
              "size": 10,
              "solidity": 0.2
             }
            },
            "type": "histogram"
           }
          ],
          "histogram2d": [
           {
            "colorbar": {
             "outlinewidth": 0,
             "ticks": ""
            },
            "colorscale": [
             [
              0,
              "#0d0887"
             ],
             [
              0.1111111111111111,
              "#46039f"
             ],
             [
              0.2222222222222222,
              "#7201a8"
             ],
             [
              0.3333333333333333,
              "#9c179e"
             ],
             [
              0.4444444444444444,
              "#bd3786"
             ],
             [
              0.5555555555555556,
              "#d8576b"
             ],
             [
              0.6666666666666666,
              "#ed7953"
             ],
             [
              0.7777777777777778,
              "#fb9f3a"
             ],
             [
              0.8888888888888888,
              "#fdca26"
             ],
             [
              1,
              "#f0f921"
             ]
            ],
            "type": "histogram2d"
           }
          ],
          "histogram2dcontour": [
           {
            "colorbar": {
             "outlinewidth": 0,
             "ticks": ""
            },
            "colorscale": [
             [
              0,
              "#0d0887"
             ],
             [
              0.1111111111111111,
              "#46039f"
             ],
             [
              0.2222222222222222,
              "#7201a8"
             ],
             [
              0.3333333333333333,
              "#9c179e"
             ],
             [
              0.4444444444444444,
              "#bd3786"
             ],
             [
              0.5555555555555556,
              "#d8576b"
             ],
             [
              0.6666666666666666,
              "#ed7953"
             ],
             [
              0.7777777777777778,
              "#fb9f3a"
             ],
             [
              0.8888888888888888,
              "#fdca26"
             ],
             [
              1,
              "#f0f921"
             ]
            ],
            "type": "histogram2dcontour"
           }
          ],
          "mesh3d": [
           {
            "colorbar": {
             "outlinewidth": 0,
             "ticks": ""
            },
            "type": "mesh3d"
           }
          ],
          "parcoords": [
           {
            "line": {
             "colorbar": {
              "outlinewidth": 0,
              "ticks": ""
             }
            },
            "type": "parcoords"
           }
          ],
          "pie": [
           {
            "automargin": true,
            "type": "pie"
           }
          ],
          "scatter": [
           {
            "fillpattern": {
             "fillmode": "overlay",
             "size": 10,
             "solidity": 0.2
            },
            "type": "scatter"
           }
          ],
          "scatter3d": [
           {
            "line": {
             "colorbar": {
              "outlinewidth": 0,
              "ticks": ""
             }
            },
            "marker": {
             "colorbar": {
              "outlinewidth": 0,
              "ticks": ""
             }
            },
            "type": "scatter3d"
           }
          ],
          "scattercarpet": [
           {
            "marker": {
             "colorbar": {
              "outlinewidth": 0,
              "ticks": ""
             }
            },
            "type": "scattercarpet"
           }
          ],
          "scattergeo": [
           {
            "marker": {
             "colorbar": {
              "outlinewidth": 0,
              "ticks": ""
             }
            },
            "type": "scattergeo"
           }
          ],
          "scattergl": [
           {
            "marker": {
             "colorbar": {
              "outlinewidth": 0,
              "ticks": ""
             }
            },
            "type": "scattergl"
           }
          ],
          "scattermapbox": [
           {
            "marker": {
             "colorbar": {
              "outlinewidth": 0,
              "ticks": ""
             }
            },
            "type": "scattermapbox"
           }
          ],
          "scatterpolar": [
           {
            "marker": {
             "colorbar": {
              "outlinewidth": 0,
              "ticks": ""
             }
            },
            "type": "scatterpolar"
           }
          ],
          "scatterpolargl": [
           {
            "marker": {
             "colorbar": {
              "outlinewidth": 0,
              "ticks": ""
             }
            },
            "type": "scatterpolargl"
           }
          ],
          "scatterternary": [
           {
            "marker": {
             "colorbar": {
              "outlinewidth": 0,
              "ticks": ""
             }
            },
            "type": "scatterternary"
           }
          ],
          "surface": [
           {
            "colorbar": {
             "outlinewidth": 0,
             "ticks": ""
            },
            "colorscale": [
             [
              0,
              "#0d0887"
             ],
             [
              0.1111111111111111,
              "#46039f"
             ],
             [
              0.2222222222222222,
              "#7201a8"
             ],
             [
              0.3333333333333333,
              "#9c179e"
             ],
             [
              0.4444444444444444,
              "#bd3786"
             ],
             [
              0.5555555555555556,
              "#d8576b"
             ],
             [
              0.6666666666666666,
              "#ed7953"
             ],
             [
              0.7777777777777778,
              "#fb9f3a"
             ],
             [
              0.8888888888888888,
              "#fdca26"
             ],
             [
              1,
              "#f0f921"
             ]
            ],
            "type": "surface"
           }
          ],
          "table": [
           {
            "cells": {
             "fill": {
              "color": "#EBF0F8"
             },
             "line": {
              "color": "white"
             }
            },
            "header": {
             "fill": {
              "color": "#C8D4E3"
             },
             "line": {
              "color": "white"
             }
            },
            "type": "table"
           }
          ]
         },
         "layout": {
          "annotationdefaults": {
           "arrowcolor": "#2a3f5f",
           "arrowhead": 0,
           "arrowwidth": 1
          },
          "autotypenumbers": "strict",
          "coloraxis": {
           "colorbar": {
            "outlinewidth": 0,
            "ticks": ""
           }
          },
          "colorscale": {
           "diverging": [
            [
             0,
             "#8e0152"
            ],
            [
             0.1,
             "#c51b7d"
            ],
            [
             0.2,
             "#de77ae"
            ],
            [
             0.3,
             "#f1b6da"
            ],
            [
             0.4,
             "#fde0ef"
            ],
            [
             0.5,
             "#f7f7f7"
            ],
            [
             0.6,
             "#e6f5d0"
            ],
            [
             0.7,
             "#b8e186"
            ],
            [
             0.8,
             "#7fbc41"
            ],
            [
             0.9,
             "#4d9221"
            ],
            [
             1,
             "#276419"
            ]
           ],
           "sequential": [
            [
             0,
             "#0d0887"
            ],
            [
             0.1111111111111111,
             "#46039f"
            ],
            [
             0.2222222222222222,
             "#7201a8"
            ],
            [
             0.3333333333333333,
             "#9c179e"
            ],
            [
             0.4444444444444444,
             "#bd3786"
            ],
            [
             0.5555555555555556,
             "#d8576b"
            ],
            [
             0.6666666666666666,
             "#ed7953"
            ],
            [
             0.7777777777777778,
             "#fb9f3a"
            ],
            [
             0.8888888888888888,
             "#fdca26"
            ],
            [
             1,
             "#f0f921"
            ]
           ],
           "sequentialminus": [
            [
             0,
             "#0d0887"
            ],
            [
             0.1111111111111111,
             "#46039f"
            ],
            [
             0.2222222222222222,
             "#7201a8"
            ],
            [
             0.3333333333333333,
             "#9c179e"
            ],
            [
             0.4444444444444444,
             "#bd3786"
            ],
            [
             0.5555555555555556,
             "#d8576b"
            ],
            [
             0.6666666666666666,
             "#ed7953"
            ],
            [
             0.7777777777777778,
             "#fb9f3a"
            ],
            [
             0.8888888888888888,
             "#fdca26"
            ],
            [
             1,
             "#f0f921"
            ]
           ]
          },
          "colorway": [
           "#636efa",
           "#EF553B",
           "#00cc96",
           "#ab63fa",
           "#FFA15A",
           "#19d3f3",
           "#FF6692",
           "#B6E880",
           "#FF97FF",
           "#FECB52"
          ],
          "font": {
           "color": "#2a3f5f"
          },
          "geo": {
           "bgcolor": "white",
           "lakecolor": "white",
           "landcolor": "#E5ECF6",
           "showlakes": true,
           "showland": true,
           "subunitcolor": "white"
          },
          "hoverlabel": {
           "align": "left"
          },
          "hovermode": "closest",
          "mapbox": {
           "style": "light"
          },
          "paper_bgcolor": "white",
          "plot_bgcolor": "#E5ECF6",
          "polar": {
           "angularaxis": {
            "gridcolor": "white",
            "linecolor": "white",
            "ticks": ""
           },
           "bgcolor": "#E5ECF6",
           "radialaxis": {
            "gridcolor": "white",
            "linecolor": "white",
            "ticks": ""
           }
          },
          "scene": {
           "xaxis": {
            "backgroundcolor": "#E5ECF6",
            "gridcolor": "white",
            "gridwidth": 2,
            "linecolor": "white",
            "showbackground": true,
            "ticks": "",
            "zerolinecolor": "white"
           },
           "yaxis": {
            "backgroundcolor": "#E5ECF6",
            "gridcolor": "white",
            "gridwidth": 2,
            "linecolor": "white",
            "showbackground": true,
            "ticks": "",
            "zerolinecolor": "white"
           },
           "zaxis": {
            "backgroundcolor": "#E5ECF6",
            "gridcolor": "white",
            "gridwidth": 2,
            "linecolor": "white",
            "showbackground": true,
            "ticks": "",
            "zerolinecolor": "white"
           }
          },
          "shapedefaults": {
           "line": {
            "color": "#2a3f5f"
           }
          },
          "ternary": {
           "aaxis": {
            "gridcolor": "white",
            "linecolor": "white",
            "ticks": ""
           },
           "baxis": {
            "gridcolor": "white",
            "linecolor": "white",
            "ticks": ""
           },
           "bgcolor": "#E5ECF6",
           "caxis": {
            "gridcolor": "white",
            "linecolor": "white",
            "ticks": ""
           }
          },
          "title": {
           "x": 0.05
          },
          "xaxis": {
           "automargin": true,
           "gridcolor": "white",
           "linecolor": "white",
           "ticks": "",
           "title": {
            "standoff": 15
           },
           "zerolinecolor": "white",
           "zerolinewidth": 2
          },
          "yaxis": {
           "automargin": true,
           "gridcolor": "white",
           "linecolor": "white",
           "ticks": "",
           "title": {
            "standoff": 15
           },
           "zerolinecolor": "white",
           "zerolinewidth": 2
          }
         }
        },
        "title": {
         "text": "USDJPY"
        },
        "xaxis": {
         "rangeslider": {
          "visible": false
         }
        }
       }
      }
     },
     "metadata": {},
     "output_type": "display_data"
    }
   ],
   "source": [
    "m.gv3"
   ]
  },
  {
   "cell_type": "markdown",
   "metadata": {},
   "source": [
    "El precio inicia a la alza con un open de 88.527, pero en la media hora previa al indicador el precio tiene un disminuye y termina con un close price de 88.507 cuando sucede el indicador. Después del indicador el precio disminuye pero ahora de forma más drastica llegando a cerrar con un close price de 88.457."
   ]
  },
  {
   "cell_type": "code",
   "execution_count": 5,
   "metadata": {},
   "outputs": [
    {
     "data": {
      "application/vnd.plotly.v1+json": {
       "config": {
        "plotlyServerURL": "https://plot.ly"
       },
       "data": [
        {
         "close": [
          93.53,
          93.56,
          93.53,
          93.52,
          93.57,
          93.58,
          93.59,
          93.59,
          93.58,
          93.61,
          93.61,
          93.6,
          93.59,
          93.61,
          93.62,
          93.62,
          93.6,
          93.59,
          93.59,
          93.6,
          93.58,
          93.57,
          93.55,
          93.53,
          93.55,
          93.57,
          93.57,
          93.58,
          93.59,
          93.58,
          93.59,
          93.57,
          93.58,
          93.59,
          93.57,
          93.55,
          93.55,
          93.57,
          93.56,
          93.54,
          93.58,
          93.56,
          93.55,
          93.54,
          93.55,
          93.54,
          93.56,
          93.57,
          93.56,
          93.56,
          93.54,
          93.55,
          93.56,
          93.54,
          93.54,
          93.54,
          93.54,
          93.57,
          93.58,
          93.56
         ],
         "high": [
          93.53,
          93.56,
          93.56,
          93.54,
          93.57,
          93.59,
          93.6,
          93.6,
          93.59,
          93.62,
          93.61,
          93.61,
          93.6,
          93.61,
          93.62,
          93.63,
          93.62,
          93.61,
          93.59,
          93.61,
          93.59,
          93.58,
          93.57,
          93.55,
          93.55,
          93.57,
          93.57,
          93.59,
          93.6,
          93.59,
          93.6,
          93.59,
          93.58,
          93.59,
          93.61,
          93.56,
          93.56,
          93.57,
          93.57,
          93.55,
          93.58,
          93.57,
          93.55,
          93.54,
          93.55,
          93.54,
          93.56,
          93.59,
          93.57,
          93.57,
          93.57,
          93.56,
          93.59,
          93.55,
          93.55,
          93.54,
          93.54,
          93.57,
          93.58,
          93.58
         ],
         "low": [
          93.52,
          93.52,
          93.53,
          93.52,
          93.53,
          93.57,
          93.59,
          93.59,
          93.57,
          93.59,
          93.6,
          93.6,
          93.59,
          93.59,
          93.61,
          93.61,
          93.6,
          93.58,
          93.58,
          93.58,
          93.58,
          93.56,
          93.54,
          93.53,
          93.54,
          93.54,
          93.55,
          93.57,
          93.58,
          93.57,
          93.59,
          93.57,
          93.56,
          93.57,
          93.57,
          93.53,
          93.53,
          93.56,
          93.55,
          93.53,
          93.53,
          93.56,
          93.55,
          93.53,
          93.54,
          93.54,
          93.55,
          93.57,
          93.55,
          93.53,
          93.54,
          93.53,
          93.56,
          93.54,
          93.54,
          93.53,
          93.53,
          93.54,
          93.58,
          93.56
         ],
         "open": [
          93.52,
          93.52,
          93.55,
          93.52,
          93.53,
          93.58,
          93.59,
          93.6,
          93.58,
          93.59,
          93.6,
          93.6,
          93.59,
          93.6,
          93.62,
          93.63,
          93.61,
          93.61,
          93.58,
          93.58,
          93.59,
          93.57,
          93.56,
          93.54,
          93.54,
          93.54,
          93.56,
          93.58,
          93.59,
          93.58,
          93.59,
          93.58,
          93.56,
          93.57,
          93.6,
          93.56,
          93.54,
          93.56,
          93.56,
          93.55,
          93.55,
          93.57,
          93.55,
          93.54,
          93.55,
          93.54,
          93.55,
          93.57,
          93.56,
          93.57,
          93.57,
          93.53,
          93.56,
          93.55,
          93.55,
          93.53,
          93.53,
          93.55,
          93.58,
          93.57
         ],
         "type": "candlestick",
         "x": [
          "2009-08-27T17:00:00",
          "2009-08-27T17:01:00",
          "2009-08-27T17:02:00",
          "2009-08-27T17:03:00",
          "2009-08-27T17:04:00",
          "2009-08-27T17:05:00",
          "2009-08-27T17:06:00",
          "2009-08-27T17:07:00",
          "2009-08-27T17:08:00",
          "2009-08-27T17:09:00",
          "2009-08-27T17:10:00",
          "2009-08-27T17:11:00",
          "2009-08-27T17:12:00",
          "2009-08-27T17:13:00",
          "2009-08-27T17:14:00",
          "2009-08-27T17:15:00",
          "2009-08-27T17:16:00",
          "2009-08-27T17:17:00",
          "2009-08-27T17:18:00",
          "2009-08-27T17:19:00",
          "2009-08-27T17:20:00",
          "2009-08-27T17:21:00",
          "2009-08-27T17:22:00",
          "2009-08-27T17:23:00",
          "2009-08-27T17:24:00",
          "2009-08-27T17:25:00",
          "2009-08-27T17:26:00",
          "2009-08-27T17:27:00",
          "2009-08-27T17:28:00",
          "2009-08-27T17:29:00",
          "2009-08-27T17:30:00",
          "2009-08-27T17:31:00",
          "2009-08-27T17:32:00",
          "2009-08-27T17:33:00",
          "2009-08-27T17:34:00",
          "2009-08-27T17:35:00",
          "2009-08-27T17:36:00",
          "2009-08-27T17:37:00",
          "2009-08-27T17:38:00",
          "2009-08-27T17:39:00",
          "2009-08-27T17:40:00",
          "2009-08-27T17:41:00",
          "2009-08-27T17:42:00",
          "2009-08-27T17:43:00",
          "2009-08-27T17:44:00",
          "2009-08-27T17:45:00",
          "2009-08-27T17:46:00",
          "2009-08-27T17:47:00",
          "2009-08-27T17:49:00",
          "2009-08-27T17:50:00",
          "2009-08-27T17:51:00",
          "2009-08-27T17:52:00",
          "2009-08-27T17:53:00",
          "2009-08-27T17:54:00",
          "2009-08-27T17:55:00",
          "2009-08-27T17:56:00",
          "2009-08-27T17:57:00",
          "2009-08-27T17:58:00",
          "2009-08-27T17:59:00",
          "2009-08-27T18:00:00"
         ]
        }
       ],
       "layout": {
        "template": {
         "data": {
          "bar": [
           {
            "error_x": {
             "color": "#2a3f5f"
            },
            "error_y": {
             "color": "#2a3f5f"
            },
            "marker": {
             "line": {
              "color": "#E5ECF6",
              "width": 0.5
             },
             "pattern": {
              "fillmode": "overlay",
              "size": 10,
              "solidity": 0.2
             }
            },
            "type": "bar"
           }
          ],
          "barpolar": [
           {
            "marker": {
             "line": {
              "color": "#E5ECF6",
              "width": 0.5
             },
             "pattern": {
              "fillmode": "overlay",
              "size": 10,
              "solidity": 0.2
             }
            },
            "type": "barpolar"
           }
          ],
          "carpet": [
           {
            "aaxis": {
             "endlinecolor": "#2a3f5f",
             "gridcolor": "white",
             "linecolor": "white",
             "minorgridcolor": "white",
             "startlinecolor": "#2a3f5f"
            },
            "baxis": {
             "endlinecolor": "#2a3f5f",
             "gridcolor": "white",
             "linecolor": "white",
             "minorgridcolor": "white",
             "startlinecolor": "#2a3f5f"
            },
            "type": "carpet"
           }
          ],
          "choropleth": [
           {
            "colorbar": {
             "outlinewidth": 0,
             "ticks": ""
            },
            "type": "choropleth"
           }
          ],
          "contour": [
           {
            "colorbar": {
             "outlinewidth": 0,
             "ticks": ""
            },
            "colorscale": [
             [
              0,
              "#0d0887"
             ],
             [
              0.1111111111111111,
              "#46039f"
             ],
             [
              0.2222222222222222,
              "#7201a8"
             ],
             [
              0.3333333333333333,
              "#9c179e"
             ],
             [
              0.4444444444444444,
              "#bd3786"
             ],
             [
              0.5555555555555556,
              "#d8576b"
             ],
             [
              0.6666666666666666,
              "#ed7953"
             ],
             [
              0.7777777777777778,
              "#fb9f3a"
             ],
             [
              0.8888888888888888,
              "#fdca26"
             ],
             [
              1,
              "#f0f921"
             ]
            ],
            "type": "contour"
           }
          ],
          "contourcarpet": [
           {
            "colorbar": {
             "outlinewidth": 0,
             "ticks": ""
            },
            "type": "contourcarpet"
           }
          ],
          "heatmap": [
           {
            "colorbar": {
             "outlinewidth": 0,
             "ticks": ""
            },
            "colorscale": [
             [
              0,
              "#0d0887"
             ],
             [
              0.1111111111111111,
              "#46039f"
             ],
             [
              0.2222222222222222,
              "#7201a8"
             ],
             [
              0.3333333333333333,
              "#9c179e"
             ],
             [
              0.4444444444444444,
              "#bd3786"
             ],
             [
              0.5555555555555556,
              "#d8576b"
             ],
             [
              0.6666666666666666,
              "#ed7953"
             ],
             [
              0.7777777777777778,
              "#fb9f3a"
             ],
             [
              0.8888888888888888,
              "#fdca26"
             ],
             [
              1,
              "#f0f921"
             ]
            ],
            "type": "heatmap"
           }
          ],
          "heatmapgl": [
           {
            "colorbar": {
             "outlinewidth": 0,
             "ticks": ""
            },
            "colorscale": [
             [
              0,
              "#0d0887"
             ],
             [
              0.1111111111111111,
              "#46039f"
             ],
             [
              0.2222222222222222,
              "#7201a8"
             ],
             [
              0.3333333333333333,
              "#9c179e"
             ],
             [
              0.4444444444444444,
              "#bd3786"
             ],
             [
              0.5555555555555556,
              "#d8576b"
             ],
             [
              0.6666666666666666,
              "#ed7953"
             ],
             [
              0.7777777777777778,
              "#fb9f3a"
             ],
             [
              0.8888888888888888,
              "#fdca26"
             ],
             [
              1,
              "#f0f921"
             ]
            ],
            "type": "heatmapgl"
           }
          ],
          "histogram": [
           {
            "marker": {
             "pattern": {
              "fillmode": "overlay",
              "size": 10,
              "solidity": 0.2
             }
            },
            "type": "histogram"
           }
          ],
          "histogram2d": [
           {
            "colorbar": {
             "outlinewidth": 0,
             "ticks": ""
            },
            "colorscale": [
             [
              0,
              "#0d0887"
             ],
             [
              0.1111111111111111,
              "#46039f"
             ],
             [
              0.2222222222222222,
              "#7201a8"
             ],
             [
              0.3333333333333333,
              "#9c179e"
             ],
             [
              0.4444444444444444,
              "#bd3786"
             ],
             [
              0.5555555555555556,
              "#d8576b"
             ],
             [
              0.6666666666666666,
              "#ed7953"
             ],
             [
              0.7777777777777778,
              "#fb9f3a"
             ],
             [
              0.8888888888888888,
              "#fdca26"
             ],
             [
              1,
              "#f0f921"
             ]
            ],
            "type": "histogram2d"
           }
          ],
          "histogram2dcontour": [
           {
            "colorbar": {
             "outlinewidth": 0,
             "ticks": ""
            },
            "colorscale": [
             [
              0,
              "#0d0887"
             ],
             [
              0.1111111111111111,
              "#46039f"
             ],
             [
              0.2222222222222222,
              "#7201a8"
             ],
             [
              0.3333333333333333,
              "#9c179e"
             ],
             [
              0.4444444444444444,
              "#bd3786"
             ],
             [
              0.5555555555555556,
              "#d8576b"
             ],
             [
              0.6666666666666666,
              "#ed7953"
             ],
             [
              0.7777777777777778,
              "#fb9f3a"
             ],
             [
              0.8888888888888888,
              "#fdca26"
             ],
             [
              1,
              "#f0f921"
             ]
            ],
            "type": "histogram2dcontour"
           }
          ],
          "mesh3d": [
           {
            "colorbar": {
             "outlinewidth": 0,
             "ticks": ""
            },
            "type": "mesh3d"
           }
          ],
          "parcoords": [
           {
            "line": {
             "colorbar": {
              "outlinewidth": 0,
              "ticks": ""
             }
            },
            "type": "parcoords"
           }
          ],
          "pie": [
           {
            "automargin": true,
            "type": "pie"
           }
          ],
          "scatter": [
           {
            "fillpattern": {
             "fillmode": "overlay",
             "size": 10,
             "solidity": 0.2
            },
            "type": "scatter"
           }
          ],
          "scatter3d": [
           {
            "line": {
             "colorbar": {
              "outlinewidth": 0,
              "ticks": ""
             }
            },
            "marker": {
             "colorbar": {
              "outlinewidth": 0,
              "ticks": ""
             }
            },
            "type": "scatter3d"
           }
          ],
          "scattercarpet": [
           {
            "marker": {
             "colorbar": {
              "outlinewidth": 0,
              "ticks": ""
             }
            },
            "type": "scattercarpet"
           }
          ],
          "scattergeo": [
           {
            "marker": {
             "colorbar": {
              "outlinewidth": 0,
              "ticks": ""
             }
            },
            "type": "scattergeo"
           }
          ],
          "scattergl": [
           {
            "marker": {
             "colorbar": {
              "outlinewidth": 0,
              "ticks": ""
             }
            },
            "type": "scattergl"
           }
          ],
          "scattermapbox": [
           {
            "marker": {
             "colorbar": {
              "outlinewidth": 0,
              "ticks": ""
             }
            },
            "type": "scattermapbox"
           }
          ],
          "scatterpolar": [
           {
            "marker": {
             "colorbar": {
              "outlinewidth": 0,
              "ticks": ""
             }
            },
            "type": "scatterpolar"
           }
          ],
          "scatterpolargl": [
           {
            "marker": {
             "colorbar": {
              "outlinewidth": 0,
              "ticks": ""
             }
            },
            "type": "scatterpolargl"
           }
          ],
          "scatterternary": [
           {
            "marker": {
             "colorbar": {
              "outlinewidth": 0,
              "ticks": ""
             }
            },
            "type": "scatterternary"
           }
          ],
          "surface": [
           {
            "colorbar": {
             "outlinewidth": 0,
             "ticks": ""
            },
            "colorscale": [
             [
              0,
              "#0d0887"
             ],
             [
              0.1111111111111111,
              "#46039f"
             ],
             [
              0.2222222222222222,
              "#7201a8"
             ],
             [
              0.3333333333333333,
              "#9c179e"
             ],
             [
              0.4444444444444444,
              "#bd3786"
             ],
             [
              0.5555555555555556,
              "#d8576b"
             ],
             [
              0.6666666666666666,
              "#ed7953"
             ],
             [
              0.7777777777777778,
              "#fb9f3a"
             ],
             [
              0.8888888888888888,
              "#fdca26"
             ],
             [
              1,
              "#f0f921"
             ]
            ],
            "type": "surface"
           }
          ],
          "table": [
           {
            "cells": {
             "fill": {
              "color": "#EBF0F8"
             },
             "line": {
              "color": "white"
             }
            },
            "header": {
             "fill": {
              "color": "#C8D4E3"
             },
             "line": {
              "color": "white"
             }
            },
            "type": "table"
           }
          ]
         },
         "layout": {
          "annotationdefaults": {
           "arrowcolor": "#2a3f5f",
           "arrowhead": 0,
           "arrowwidth": 1
          },
          "autotypenumbers": "strict",
          "coloraxis": {
           "colorbar": {
            "outlinewidth": 0,
            "ticks": ""
           }
          },
          "colorscale": {
           "diverging": [
            [
             0,
             "#8e0152"
            ],
            [
             0.1,
             "#c51b7d"
            ],
            [
             0.2,
             "#de77ae"
            ],
            [
             0.3,
             "#f1b6da"
            ],
            [
             0.4,
             "#fde0ef"
            ],
            [
             0.5,
             "#f7f7f7"
            ],
            [
             0.6,
             "#e6f5d0"
            ],
            [
             0.7,
             "#b8e186"
            ],
            [
             0.8,
             "#7fbc41"
            ],
            [
             0.9,
             "#4d9221"
            ],
            [
             1,
             "#276419"
            ]
           ],
           "sequential": [
            [
             0,
             "#0d0887"
            ],
            [
             0.1111111111111111,
             "#46039f"
            ],
            [
             0.2222222222222222,
             "#7201a8"
            ],
            [
             0.3333333333333333,
             "#9c179e"
            ],
            [
             0.4444444444444444,
             "#bd3786"
            ],
            [
             0.5555555555555556,
             "#d8576b"
            ],
            [
             0.6666666666666666,
             "#ed7953"
            ],
            [
             0.7777777777777778,
             "#fb9f3a"
            ],
            [
             0.8888888888888888,
             "#fdca26"
            ],
            [
             1,
             "#f0f921"
            ]
           ],
           "sequentialminus": [
            [
             0,
             "#0d0887"
            ],
            [
             0.1111111111111111,
             "#46039f"
            ],
            [
             0.2222222222222222,
             "#7201a8"
            ],
            [
             0.3333333333333333,
             "#9c179e"
            ],
            [
             0.4444444444444444,
             "#bd3786"
            ],
            [
             0.5555555555555556,
             "#d8576b"
            ],
            [
             0.6666666666666666,
             "#ed7953"
            ],
            [
             0.7777777777777778,
             "#fb9f3a"
            ],
            [
             0.8888888888888888,
             "#fdca26"
            ],
            [
             1,
             "#f0f921"
            ]
           ]
          },
          "colorway": [
           "#636efa",
           "#EF553B",
           "#00cc96",
           "#ab63fa",
           "#FFA15A",
           "#19d3f3",
           "#FF6692",
           "#B6E880",
           "#FF97FF",
           "#FECB52"
          ],
          "font": {
           "color": "#2a3f5f"
          },
          "geo": {
           "bgcolor": "white",
           "lakecolor": "white",
           "landcolor": "#E5ECF6",
           "showlakes": true,
           "showland": true,
           "subunitcolor": "white"
          },
          "hoverlabel": {
           "align": "left"
          },
          "hovermode": "closest",
          "mapbox": {
           "style": "light"
          },
          "paper_bgcolor": "white",
          "plot_bgcolor": "#E5ECF6",
          "polar": {
           "angularaxis": {
            "gridcolor": "white",
            "linecolor": "white",
            "ticks": ""
           },
           "bgcolor": "#E5ECF6",
           "radialaxis": {
            "gridcolor": "white",
            "linecolor": "white",
            "ticks": ""
           }
          },
          "scene": {
           "xaxis": {
            "backgroundcolor": "#E5ECF6",
            "gridcolor": "white",
            "gridwidth": 2,
            "linecolor": "white",
            "showbackground": true,
            "ticks": "",
            "zerolinecolor": "white"
           },
           "yaxis": {
            "backgroundcolor": "#E5ECF6",
            "gridcolor": "white",
            "gridwidth": 2,
            "linecolor": "white",
            "showbackground": true,
            "ticks": "",
            "zerolinecolor": "white"
           },
           "zaxis": {
            "backgroundcolor": "#E5ECF6",
            "gridcolor": "white",
            "gridwidth": 2,
            "linecolor": "white",
            "showbackground": true,
            "ticks": "",
            "zerolinecolor": "white"
           }
          },
          "shapedefaults": {
           "line": {
            "color": "#2a3f5f"
           }
          },
          "ternary": {
           "aaxis": {
            "gridcolor": "white",
            "linecolor": "white",
            "ticks": ""
           },
           "baxis": {
            "gridcolor": "white",
            "linecolor": "white",
            "ticks": ""
           },
           "bgcolor": "#E5ECF6",
           "caxis": {
            "gridcolor": "white",
            "linecolor": "white",
            "ticks": ""
           }
          },
          "title": {
           "x": 0.05
          },
          "xaxis": {
           "automargin": true,
           "gridcolor": "white",
           "linecolor": "white",
           "ticks": "",
           "title": {
            "standoff": 15
           },
           "zerolinecolor": "white",
           "zerolinewidth": 2
          },
          "yaxis": {
           "automargin": true,
           "gridcolor": "white",
           "linecolor": "white",
           "ticks": "",
           "title": {
            "standoff": 15
           },
           "zerolinecolor": "white",
           "zerolinewidth": 2
          }
         }
        },
        "title": {
         "text": "USDJPY"
        },
        "xaxis": {
         "rangeslider": {
          "visible": false
         }
        }
       }
      }
     },
     "metadata": {},
     "output_type": "display_data"
    }
   ],
   "source": [
    "m.gv4"
   ]
  },
  {
   "cell_type": "markdown",
   "metadata": {},
   "source": [
    "El precio inicia a la baja con un open price de 112.787, en la media hora previa al indicador el precio disminuye bastante y cierra cuando sucede el indicador con un close price de 112.579. Después del indicador el precio termina subiendo a un precio de close de 112.616 a los 30 minutos del indicador."
   ]
  },
  {
   "cell_type": "code",
   "execution_count": 6,
   "metadata": {},
   "outputs": [
    {
     "data": {
      "application/vnd.plotly.v1+json": {
       "config": {
        "plotlyServerURL": "https://plot.ly"
       },
       "data": [
        {
         "close": [
          108.321,
          108.352,
          108.361,
          108.369,
          108.366,
          108.379,
          108.377,
          108.421,
          108.434,
          108.406,
          108.404,
          108.402,
          108.401,
          108.41,
          108.355,
          108.345,
          108.349,
          108.349,
          108.297,
          108.346,
          108.335,
          108.334,
          108.364,
          108.356,
          108.321,
          108.355,
          108.346,
          108.36,
          108.359,
          108.36,
          108.327,
          108.315,
          108.326,
          108.334,
          108.359,
          108.368,
          108.374,
          108.378,
          108.388,
          108.386,
          108.378,
          108.435,
          108.434,
          108.464,
          108.454,
          108.444,
          108.445,
          108.45,
          108.453,
          108.486,
          108.522,
          108.522,
          108.514,
          108.487,
          108.505,
          108.494,
          108.475,
          108.47,
          108.465,
          108.455,
          108.463
         ],
         "high": [
          108.385,
          108.362,
          108.375,
          108.38,
          108.382,
          108.382,
          108.396,
          108.421,
          108.439,
          108.44,
          108.413,
          108.423,
          108.408,
          108.436,
          108.417,
          108.367,
          108.351,
          108.369,
          108.349,
          108.349,
          108.359,
          108.344,
          108.372,
          108.364,
          108.362,
          108.367,
          108.358,
          108.372,
          108.378,
          108.366,
          108.363,
          108.336,
          108.327,
          108.348,
          108.372,
          108.379,
          108.382,
          108.383,
          108.391,
          108.392,
          108.386,
          108.437,
          108.44,
          108.469,
          108.472,
          108.461,
          108.458,
          108.453,
          108.475,
          108.486,
          108.525,
          108.539,
          108.526,
          108.518,
          108.51,
          108.505,
          108.502,
          108.481,
          108.48,
          108.472,
          108.469
         ],
         "low": [
          108.319,
          108.315,
          108.352,
          108.355,
          108.363,
          108.342,
          108.37,
          108.373,
          108.421,
          108.4,
          108.386,
          108.4,
          108.393,
          108.397,
          108.343,
          108.342,
          108.325,
          108.341,
          108.277,
          108.294,
          108.327,
          108.308,
          108.335,
          108.344,
          108.318,
          108.32,
          108.339,
          108.346,
          108.352,
          108.33,
          108.326,
          108.314,
          108.305,
          108.327,
          108.334,
          108.354,
          108.351,
          108.367,
          108.373,
          108.377,
          108.366,
          108.377,
          108.419,
          108.43,
          108.449,
          108.433,
          108.441,
          108.436,
          108.447,
          108.442,
          108.475,
          108.513,
          108.506,
          108.474,
          108.483,
          108.466,
          108.474,
          108.47,
          108.458,
          108.453,
          108.452
         ],
         "open": [
          108.379,
          108.32,
          108.352,
          108.361,
          108.369,
          108.369,
          108.383,
          108.377,
          108.421,
          108.434,
          108.407,
          108.403,
          108.406,
          108.401,
          108.41,
          108.355,
          108.345,
          108.345,
          108.349,
          108.298,
          108.343,
          108.335,
          108.335,
          108.364,
          108.356,
          108.322,
          108.355,
          108.346,
          108.36,
          108.359,
          108.36,
          108.327,
          108.315,
          108.33,
          108.334,
          108.359,
          108.373,
          108.376,
          108.378,
          108.388,
          108.386,
          108.378,
          108.434,
          108.438,
          108.464,
          108.456,
          108.444,
          108.445,
          108.45,
          108.453,
          108.487,
          108.522,
          108.522,
          108.514,
          108.487,
          108.505,
          108.494,
          108.475,
          108.47,
          108.466,
          108.454
         ],
         "type": "candlestick",
         "x": [
          "2018-01-26T19:00:00",
          "2018-01-26T19:01:00",
          "2018-01-26T19:02:00",
          "2018-01-26T19:03:00",
          "2018-01-26T19:04:00",
          "2018-01-26T19:05:00",
          "2018-01-26T19:06:00",
          "2018-01-26T19:07:00",
          "2018-01-26T19:08:00",
          "2018-01-26T19:09:00",
          "2018-01-26T19:10:00",
          "2018-01-26T19:11:00",
          "2018-01-26T19:12:00",
          "2018-01-26T19:13:00",
          "2018-01-26T19:14:00",
          "2018-01-26T19:15:00",
          "2018-01-26T19:16:00",
          "2018-01-26T19:17:00",
          "2018-01-26T19:18:00",
          "2018-01-26T19:19:00",
          "2018-01-26T19:20:00",
          "2018-01-26T19:21:00",
          "2018-01-26T19:22:00",
          "2018-01-26T19:23:00",
          "2018-01-26T19:24:00",
          "2018-01-26T19:25:00",
          "2018-01-26T19:26:00",
          "2018-01-26T19:27:00",
          "2018-01-26T19:28:00",
          "2018-01-26T19:29:00",
          "2018-01-26T19:30:00",
          "2018-01-26T19:31:00",
          "2018-01-26T19:32:00",
          "2018-01-26T19:33:00",
          "2018-01-26T19:34:00",
          "2018-01-26T19:35:00",
          "2018-01-26T19:36:00",
          "2018-01-26T19:37:00",
          "2018-01-26T19:38:00",
          "2018-01-26T19:39:00",
          "2018-01-26T19:40:00",
          "2018-01-26T19:41:00",
          "2018-01-26T19:42:00",
          "2018-01-26T19:43:00",
          "2018-01-26T19:44:00",
          "2018-01-26T19:45:00",
          "2018-01-26T19:46:00",
          "2018-01-26T19:47:00",
          "2018-01-26T19:48:00",
          "2018-01-26T19:49:00",
          "2018-01-26T19:50:00",
          "2018-01-26T19:51:00",
          "2018-01-26T19:52:00",
          "2018-01-26T19:53:00",
          "2018-01-26T19:54:00",
          "2018-01-26T19:55:00",
          "2018-01-26T19:56:00",
          "2018-01-26T19:57:00",
          "2018-01-26T19:58:00",
          "2018-01-26T19:59:00",
          "2018-01-26T20:00:00"
         ]
        }
       ],
       "layout": {
        "template": {
         "data": {
          "bar": [
           {
            "error_x": {
             "color": "#2a3f5f"
            },
            "error_y": {
             "color": "#2a3f5f"
            },
            "marker": {
             "line": {
              "color": "#E5ECF6",
              "width": 0.5
             },
             "pattern": {
              "fillmode": "overlay",
              "size": 10,
              "solidity": 0.2
             }
            },
            "type": "bar"
           }
          ],
          "barpolar": [
           {
            "marker": {
             "line": {
              "color": "#E5ECF6",
              "width": 0.5
             },
             "pattern": {
              "fillmode": "overlay",
              "size": 10,
              "solidity": 0.2
             }
            },
            "type": "barpolar"
           }
          ],
          "carpet": [
           {
            "aaxis": {
             "endlinecolor": "#2a3f5f",
             "gridcolor": "white",
             "linecolor": "white",
             "minorgridcolor": "white",
             "startlinecolor": "#2a3f5f"
            },
            "baxis": {
             "endlinecolor": "#2a3f5f",
             "gridcolor": "white",
             "linecolor": "white",
             "minorgridcolor": "white",
             "startlinecolor": "#2a3f5f"
            },
            "type": "carpet"
           }
          ],
          "choropleth": [
           {
            "colorbar": {
             "outlinewidth": 0,
             "ticks": ""
            },
            "type": "choropleth"
           }
          ],
          "contour": [
           {
            "colorbar": {
             "outlinewidth": 0,
             "ticks": ""
            },
            "colorscale": [
             [
              0,
              "#0d0887"
             ],
             [
              0.1111111111111111,
              "#46039f"
             ],
             [
              0.2222222222222222,
              "#7201a8"
             ],
             [
              0.3333333333333333,
              "#9c179e"
             ],
             [
              0.4444444444444444,
              "#bd3786"
             ],
             [
              0.5555555555555556,
              "#d8576b"
             ],
             [
              0.6666666666666666,
              "#ed7953"
             ],
             [
              0.7777777777777778,
              "#fb9f3a"
             ],
             [
              0.8888888888888888,
              "#fdca26"
             ],
             [
              1,
              "#f0f921"
             ]
            ],
            "type": "contour"
           }
          ],
          "contourcarpet": [
           {
            "colorbar": {
             "outlinewidth": 0,
             "ticks": ""
            },
            "type": "contourcarpet"
           }
          ],
          "heatmap": [
           {
            "colorbar": {
             "outlinewidth": 0,
             "ticks": ""
            },
            "colorscale": [
             [
              0,
              "#0d0887"
             ],
             [
              0.1111111111111111,
              "#46039f"
             ],
             [
              0.2222222222222222,
              "#7201a8"
             ],
             [
              0.3333333333333333,
              "#9c179e"
             ],
             [
              0.4444444444444444,
              "#bd3786"
             ],
             [
              0.5555555555555556,
              "#d8576b"
             ],
             [
              0.6666666666666666,
              "#ed7953"
             ],
             [
              0.7777777777777778,
              "#fb9f3a"
             ],
             [
              0.8888888888888888,
              "#fdca26"
             ],
             [
              1,
              "#f0f921"
             ]
            ],
            "type": "heatmap"
           }
          ],
          "heatmapgl": [
           {
            "colorbar": {
             "outlinewidth": 0,
             "ticks": ""
            },
            "colorscale": [
             [
              0,
              "#0d0887"
             ],
             [
              0.1111111111111111,
              "#46039f"
             ],
             [
              0.2222222222222222,
              "#7201a8"
             ],
             [
              0.3333333333333333,
              "#9c179e"
             ],
             [
              0.4444444444444444,
              "#bd3786"
             ],
             [
              0.5555555555555556,
              "#d8576b"
             ],
             [
              0.6666666666666666,
              "#ed7953"
             ],
             [
              0.7777777777777778,
              "#fb9f3a"
             ],
             [
              0.8888888888888888,
              "#fdca26"
             ],
             [
              1,
              "#f0f921"
             ]
            ],
            "type": "heatmapgl"
           }
          ],
          "histogram": [
           {
            "marker": {
             "pattern": {
              "fillmode": "overlay",
              "size": 10,
              "solidity": 0.2
             }
            },
            "type": "histogram"
           }
          ],
          "histogram2d": [
           {
            "colorbar": {
             "outlinewidth": 0,
             "ticks": ""
            },
            "colorscale": [
             [
              0,
              "#0d0887"
             ],
             [
              0.1111111111111111,
              "#46039f"
             ],
             [
              0.2222222222222222,
              "#7201a8"
             ],
             [
              0.3333333333333333,
              "#9c179e"
             ],
             [
              0.4444444444444444,
              "#bd3786"
             ],
             [
              0.5555555555555556,
              "#d8576b"
             ],
             [
              0.6666666666666666,
              "#ed7953"
             ],
             [
              0.7777777777777778,
              "#fb9f3a"
             ],
             [
              0.8888888888888888,
              "#fdca26"
             ],
             [
              1,
              "#f0f921"
             ]
            ],
            "type": "histogram2d"
           }
          ],
          "histogram2dcontour": [
           {
            "colorbar": {
             "outlinewidth": 0,
             "ticks": ""
            },
            "colorscale": [
             [
              0,
              "#0d0887"
             ],
             [
              0.1111111111111111,
              "#46039f"
             ],
             [
              0.2222222222222222,
              "#7201a8"
             ],
             [
              0.3333333333333333,
              "#9c179e"
             ],
             [
              0.4444444444444444,
              "#bd3786"
             ],
             [
              0.5555555555555556,
              "#d8576b"
             ],
             [
              0.6666666666666666,
              "#ed7953"
             ],
             [
              0.7777777777777778,
              "#fb9f3a"
             ],
             [
              0.8888888888888888,
              "#fdca26"
             ],
             [
              1,
              "#f0f921"
             ]
            ],
            "type": "histogram2dcontour"
           }
          ],
          "mesh3d": [
           {
            "colorbar": {
             "outlinewidth": 0,
             "ticks": ""
            },
            "type": "mesh3d"
           }
          ],
          "parcoords": [
           {
            "line": {
             "colorbar": {
              "outlinewidth": 0,
              "ticks": ""
             }
            },
            "type": "parcoords"
           }
          ],
          "pie": [
           {
            "automargin": true,
            "type": "pie"
           }
          ],
          "scatter": [
           {
            "fillpattern": {
             "fillmode": "overlay",
             "size": 10,
             "solidity": 0.2
            },
            "type": "scatter"
           }
          ],
          "scatter3d": [
           {
            "line": {
             "colorbar": {
              "outlinewidth": 0,
              "ticks": ""
             }
            },
            "marker": {
             "colorbar": {
              "outlinewidth": 0,
              "ticks": ""
             }
            },
            "type": "scatter3d"
           }
          ],
          "scattercarpet": [
           {
            "marker": {
             "colorbar": {
              "outlinewidth": 0,
              "ticks": ""
             }
            },
            "type": "scattercarpet"
           }
          ],
          "scattergeo": [
           {
            "marker": {
             "colorbar": {
              "outlinewidth": 0,
              "ticks": ""
             }
            },
            "type": "scattergeo"
           }
          ],
          "scattergl": [
           {
            "marker": {
             "colorbar": {
              "outlinewidth": 0,
              "ticks": ""
             }
            },
            "type": "scattergl"
           }
          ],
          "scattermapbox": [
           {
            "marker": {
             "colorbar": {
              "outlinewidth": 0,
              "ticks": ""
             }
            },
            "type": "scattermapbox"
           }
          ],
          "scatterpolar": [
           {
            "marker": {
             "colorbar": {
              "outlinewidth": 0,
              "ticks": ""
             }
            },
            "type": "scatterpolar"
           }
          ],
          "scatterpolargl": [
           {
            "marker": {
             "colorbar": {
              "outlinewidth": 0,
              "ticks": ""
             }
            },
            "type": "scatterpolargl"
           }
          ],
          "scatterternary": [
           {
            "marker": {
             "colorbar": {
              "outlinewidth": 0,
              "ticks": ""
             }
            },
            "type": "scatterternary"
           }
          ],
          "surface": [
           {
            "colorbar": {
             "outlinewidth": 0,
             "ticks": ""
            },
            "colorscale": [
             [
              0,
              "#0d0887"
             ],
             [
              0.1111111111111111,
              "#46039f"
             ],
             [
              0.2222222222222222,
              "#7201a8"
             ],
             [
              0.3333333333333333,
              "#9c179e"
             ],
             [
              0.4444444444444444,
              "#bd3786"
             ],
             [
              0.5555555555555556,
              "#d8576b"
             ],
             [
              0.6666666666666666,
              "#ed7953"
             ],
             [
              0.7777777777777778,
              "#fb9f3a"
             ],
             [
              0.8888888888888888,
              "#fdca26"
             ],
             [
              1,
              "#f0f921"
             ]
            ],
            "type": "surface"
           }
          ],
          "table": [
           {
            "cells": {
             "fill": {
              "color": "#EBF0F8"
             },
             "line": {
              "color": "white"
             }
            },
            "header": {
             "fill": {
              "color": "#C8D4E3"
             },
             "line": {
              "color": "white"
             }
            },
            "type": "table"
           }
          ]
         },
         "layout": {
          "annotationdefaults": {
           "arrowcolor": "#2a3f5f",
           "arrowhead": 0,
           "arrowwidth": 1
          },
          "autotypenumbers": "strict",
          "coloraxis": {
           "colorbar": {
            "outlinewidth": 0,
            "ticks": ""
           }
          },
          "colorscale": {
           "diverging": [
            [
             0,
             "#8e0152"
            ],
            [
             0.1,
             "#c51b7d"
            ],
            [
             0.2,
             "#de77ae"
            ],
            [
             0.3,
             "#f1b6da"
            ],
            [
             0.4,
             "#fde0ef"
            ],
            [
             0.5,
             "#f7f7f7"
            ],
            [
             0.6,
             "#e6f5d0"
            ],
            [
             0.7,
             "#b8e186"
            ],
            [
             0.8,
             "#7fbc41"
            ],
            [
             0.9,
             "#4d9221"
            ],
            [
             1,
             "#276419"
            ]
           ],
           "sequential": [
            [
             0,
             "#0d0887"
            ],
            [
             0.1111111111111111,
             "#46039f"
            ],
            [
             0.2222222222222222,
             "#7201a8"
            ],
            [
             0.3333333333333333,
             "#9c179e"
            ],
            [
             0.4444444444444444,
             "#bd3786"
            ],
            [
             0.5555555555555556,
             "#d8576b"
            ],
            [
             0.6666666666666666,
             "#ed7953"
            ],
            [
             0.7777777777777778,
             "#fb9f3a"
            ],
            [
             0.8888888888888888,
             "#fdca26"
            ],
            [
             1,
             "#f0f921"
            ]
           ],
           "sequentialminus": [
            [
             0,
             "#0d0887"
            ],
            [
             0.1111111111111111,
             "#46039f"
            ],
            [
             0.2222222222222222,
             "#7201a8"
            ],
            [
             0.3333333333333333,
             "#9c179e"
            ],
            [
             0.4444444444444444,
             "#bd3786"
            ],
            [
             0.5555555555555556,
             "#d8576b"
            ],
            [
             0.6666666666666666,
             "#ed7953"
            ],
            [
             0.7777777777777778,
             "#fb9f3a"
            ],
            [
             0.8888888888888888,
             "#fdca26"
            ],
            [
             1,
             "#f0f921"
            ]
           ]
          },
          "colorway": [
           "#636efa",
           "#EF553B",
           "#00cc96",
           "#ab63fa",
           "#FFA15A",
           "#19d3f3",
           "#FF6692",
           "#B6E880",
           "#FF97FF",
           "#FECB52"
          ],
          "font": {
           "color": "#2a3f5f"
          },
          "geo": {
           "bgcolor": "white",
           "lakecolor": "white",
           "landcolor": "#E5ECF6",
           "showlakes": true,
           "showland": true,
           "subunitcolor": "white"
          },
          "hoverlabel": {
           "align": "left"
          },
          "hovermode": "closest",
          "mapbox": {
           "style": "light"
          },
          "paper_bgcolor": "white",
          "plot_bgcolor": "#E5ECF6",
          "polar": {
           "angularaxis": {
            "gridcolor": "white",
            "linecolor": "white",
            "ticks": ""
           },
           "bgcolor": "#E5ECF6",
           "radialaxis": {
            "gridcolor": "white",
            "linecolor": "white",
            "ticks": ""
           }
          },
          "scene": {
           "xaxis": {
            "backgroundcolor": "#E5ECF6",
            "gridcolor": "white",
            "gridwidth": 2,
            "linecolor": "white",
            "showbackground": true,
            "ticks": "",
            "zerolinecolor": "white"
           },
           "yaxis": {
            "backgroundcolor": "#E5ECF6",
            "gridcolor": "white",
            "gridwidth": 2,
            "linecolor": "white",
            "showbackground": true,
            "ticks": "",
            "zerolinecolor": "white"
           },
           "zaxis": {
            "backgroundcolor": "#E5ECF6",
            "gridcolor": "white",
            "gridwidth": 2,
            "linecolor": "white",
            "showbackground": true,
            "ticks": "",
            "zerolinecolor": "white"
           }
          },
          "shapedefaults": {
           "line": {
            "color": "#2a3f5f"
           }
          },
          "ternary": {
           "aaxis": {
            "gridcolor": "white",
            "linecolor": "white",
            "ticks": ""
           },
           "baxis": {
            "gridcolor": "white",
            "linecolor": "white",
            "ticks": ""
           },
           "bgcolor": "#E5ECF6",
           "caxis": {
            "gridcolor": "white",
            "linecolor": "white",
            "ticks": ""
           }
          },
          "title": {
           "x": 0.05
          },
          "xaxis": {
           "automargin": true,
           "gridcolor": "white",
           "linecolor": "white",
           "ticks": "",
           "title": {
            "standoff": 15
           },
           "zerolinecolor": "white",
           "zerolinewidth": 2
          },
          "yaxis": {
           "automargin": true,
           "gridcolor": "white",
           "linecolor": "white",
           "ticks": "",
           "title": {
            "standoff": 15
           },
           "zerolinecolor": "white",
           "zerolinewidth": 2
          }
         }
        },
        "title": {
         "text": "USDJPY"
        },
        "xaxis": {
         "rangeslider": {
          "visible": false
         }
        }
       }
      }
     },
     "metadata": {},
     "output_type": "display_data"
    }
   ],
   "source": [
    "m.gv5"
   ]
  },
  {
   "cell_type": "markdown",
   "metadata": {},
   "source": [
    "El precio inicia a la baja con un open price de 82.115, en la media hora previa al indicador el precio aumenta de forma constante y cierra cuando sucede el indicador con un close price de 82.121. Después del indicador el precio termina subiendo a un precio de close de 82.18 a los 30 minutos del indicador."
   ]
  },
  {
   "cell_type": "markdown",
   "metadata": {},
   "source": [
    "Parametros para las Operaciones:\n",
    "\n",
    "| Parametros|   Compra |       Venta|\n",
    "|:----------|:---------|:-----------|\n",
    "|Sentido    | 1        | -1         |\n",
    "|Volumen    | 1 lote   | 1 lote     |\n",
    "|Takeprofit | 135 pips | 135 pips   |\n",
    "|Stoploss   | 60 pips  | 60 pips    |\n",
    "\n",
    "Estrategia de Administración de Capital:\n",
    "\n",
    "-En caso de perdidas el máximo sera de 100 USD\n",
    "\n",
    "-La ganancia máxima sera de 200 USD\n",
    "\n",
    "-No se plantea un incremento progresivo del tamaño de posición"
   ]
  },
  {
   "cell_type": "markdown",
   "metadata": {},
   "source": [
    "### Aspectos Estadísticos"
   ]
  },
  {
   "cell_type": "markdown",
   "metadata": {},
   "source": [
    "#### Autocorrelación y Autocorrelación Parcial"
   ]
  },
  {
   "cell_type": "code",
   "execution_count": 7,
   "metadata": {},
   "outputs": [],
   "source": [
    "m.gpe1"
   ]
  },
  {
   "cell_type": "code",
   "execution_count": 8,
   "metadata": {},
   "outputs": [],
   "source": [
    "m.gpe2"
   ]
  },
  {
   "cell_type": "markdown",
   "metadata": {},
   "source": [
    "Se puede ver que en la gráfica de autocorrelación (proceso de media movil) los primeros 5 valores se encuentran fuera del intervalo de confianza del 95% y después todos se ajustan al intervalo. Mientras que en la gráfica de autocorrelación parcial (proceso autoregresivo) los primeros dos valores igual tienen una autocorrelación mas elevada y después algunos valores tambien se salen del intervalo de confianza al 95%"
   ]
  },
  {
   "cell_type": "markdown",
   "metadata": {},
   "source": [
    "#### Heterocedasticidad"
   ]
  },
  {
   "cell_type": "markdown",
   "metadata": {},
   "source": [
    "Para comprobar si hay heterocedasticidad en la serie de tiempo del indicador se realizo la prueba Breusch-Pagan. Y los resultados que se obtuvieron fueron los siguientes"
   ]
  },
  {
   "cell_type": "code",
   "execution_count": 9,
   "metadata": {},
   "outputs": [
    {
     "data": {
      "text/plain": [
       "[('Lagrange multiplier statistic', 6.129532008914639),\n",
       " ('p-value', 0.046664759932856695),\n",
       " ('f-value', 3.129193042540906),\n",
       " ('f p-value', 0.04658445452614323)]"
      ]
     },
     "execution_count": 9,
     "metadata": {},
     "output_type": "execute_result"
    }
   ],
   "source": [
    "m.pe1"
   ]
  },
  {
   "cell_type": "markdown",
   "metadata": {},
   "source": [
    "El p-value es menor a 0.05 por lo que se puede concluir que esta serie de tiempo del indicador si es heterocedastica (los errores no son constantes a lo largo de la serie de tiempo)."
   ]
  },
  {
   "cell_type": "markdown",
   "metadata": {},
   "source": [
    "#### Normalidad"
   ]
  },
  {
   "cell_type": "code",
   "execution_count": 10,
   "metadata": {},
   "outputs": [
    {
     "data": {
      "text/plain": [
       "ShapiroResult(statistic=0.8381158709526062, pvalue=2.2311500657127334e-21)"
      ]
     },
     "execution_count": 10,
     "metadata": {},
     "output_type": "execute_result"
    }
   ],
   "source": [
    "m.pe2"
   ]
  },
  {
   "cell_type": "code",
   "execution_count": 11,
   "metadata": {},
   "outputs": [
    {
     "data": {
      "image/png": "[encoded data removed]",
      "text/plain": [
       "<Figure size 700x400 with 1 Axes>"
      ]
     },
     "execution_count": 11,
     "metadata": {},
     "output_type": "execute_result"
    }
   ],
   "source": [
    "m.gpe4"
   ]
  },
  {
   "cell_type": "markdown",
   "metadata": {},
   "source": [
    "La distribución de la serie de tiempo del indicador no es normal pues en la prueba de Shapiro el p-value que se obtiene no supera 0.05 por lo que se tiene que no es normal. Aparte se observa en la grafica de la distribución que en efecto no se cumple del todo con una distribución normal, se tiene la media aproximadamente en 2 y hay mayor desviacion hacia la izquierda."
   ]
  },
  {
   "cell_type": "markdown",
   "metadata": {},
   "source": [
    "#### Estacionariedad"
   ]
  },
  {
   "cell_type": "code",
   "execution_count": 12,
   "metadata": {},
   "outputs": [
    {
     "data": {
      "text/html": [
       "<div>\n",
       "<style scoped>\n",
       "    .dataframe tbody tr th:only-of-type {\n",
       "        vertical-align: middle;\n",
       "    }\n",
       "\n",
       "    .dataframe tbody tr th {\n",
       "        vertical-align: top;\n",
       "    }\n",
       "\n",
       "    .dataframe thead th {\n",
       "        text-align: right;\n",
       "    }\n",
       "</style>\n",
       "<table border=\"1\" class=\"dataframe\">\n",
       "  <thead>\n",
       "    <tr style=\"text-align: right;\">\n",
       "      <th></th>\n",
       "      <th>Indice</th>\n",
       "      <th>Valores</th>\n",
       "    </tr>\n",
       "  </thead>\n",
       "  <tbody>\n",
       "    <tr>\n",
       "      <th>0</th>\n",
       "      <td>ADF Statistic</td>\n",
       "      <td>-3.587152</td>\n",
       "    </tr>\n",
       "    <tr>\n",
       "      <th>1</th>\n",
       "      <td>p-value</td>\n",
       "      <td>0.006011</td>\n",
       "    </tr>\n",
       "  </tbody>\n",
       "</table>\n",
       "</div>"
      ],
      "text/plain": [
       "          Indice   Valores\n",
       "0  ADF Statistic -3.587152\n",
       "1        p-value  0.006011"
      ]
     },
     "execution_count": 12,
     "metadata": {},
     "output_type": "execute_result"
    }
   ],
   "source": [
    "m.pe3"
   ]
  },
  {
   "cell_type": "markdown",
   "metadata": {},
   "source": [
    "Para determinar si hay o no estacionariedad se realizó una prueba Duckey-Fuller. Esta es una prueba de raíz única que detecta estadísticamente la presencia de conducta tendencial estocástica en las series temporales de las variables mediante un contraste de hipótesis. En este caso los resultados que se obtuvieron (el p-value es menor a 0.05) determino que no hay estacionariedad en el modelo."
   ]
  },
  {
   "cell_type": "markdown",
   "metadata": {},
   "source": [
    "#### Estacionalidad"
   ]
  },
  {
   "cell_type": "code",
   "execution_count": 13,
   "metadata": {},
   "outputs": [],
   "source": [
    "m.gpe3"
   ]
  },
  {
   "cell_type": "markdown",
   "metadata": {},
   "source": [
    "Se puede determinar en base a la gráfica anterior que no hay estacionalidad, los datos de la serie son aleatorios y varian de año en año."
   ]
  },
  {
   "cell_type": "markdown",
   "metadata": {},
   "source": [
    "#### Detección de Atípicos"
   ]
  },
  {
   "cell_type": "code",
   "execution_count": 14,
   "metadata": {},
   "outputs": [
    {
     "data": {
      "image/png": "[encoded data removed]",
      "text/plain": [
       "<Figure size 2000x2000 with 1 Axes>"
      ]
     },
     "execution_count": 14,
     "metadata": {},
     "output_type": "execute_result"
    }
   ],
   "source": [
    "m.gpe5"
   ]
  },
  {
   "cell_type": "markdown",
   "metadata": {},
   "source": [
    "Se puede apreciar en la gráfica de caja y bigotes que si hay valores atipicos en la serie de tiempo que estan por debajo de 1 y llegan hasta -6"
   ]
  },
  {
   "cell_type": "markdown",
   "metadata": {},
   "source": [
    "### Aspectos Computacionales"
   ]
  },
  {
   "cell_type": "markdown",
   "metadata": {},
   "source": [
    "Precios historicos del USDJPY con granularidad de 1 minuto"
   ]
  },
  {
   "cell_type": "code",
   "execution_count": 15,
   "metadata": {},
   "outputs": [
    {
     "data": {
      "text/html": [
       "<div>\n",
       "<style scoped>\n",
       "    .dataframe tbody tr th:only-of-type {\n",
       "        vertical-align: middle;\n",
       "    }\n",
       "\n",
       "    .dataframe tbody tr th {\n",
       "        vertical-align: top;\n",
       "    }\n",
       "\n",
       "    .dataframe thead th {\n",
       "        text-align: right;\n",
       "    }\n",
       "</style>\n",
       "<table border=\"1\" class=\"dataframe\">\n",
       "  <thead>\n",
       "    <tr style=\"text-align: right;\">\n",
       "      <th></th>\n",
       "      <th>time</th>\n",
       "      <th>open</th>\n",
       "      <th>high</th>\n",
       "      <th>low</th>\n",
       "      <th>close</th>\n",
       "      <th>tick_volume</th>\n",
       "      <th>spread</th>\n",
       "      <th>real_volume</th>\n",
       "    </tr>\n",
       "  </thead>\n",
       "  <tbody>\n",
       "    <tr>\n",
       "      <th>0</th>\n",
       "      <td>2020-01-10 06:00:00</td>\n",
       "      <td>109.524</td>\n",
       "      <td>109.534</td>\n",
       "      <td>109.524</td>\n",
       "      <td>109.529</td>\n",
       "      <td>1476</td>\n",
       "      <td>13</td>\n",
       "      <td>221400000</td>\n",
       "    </tr>\n",
       "    <tr>\n",
       "      <th>1</th>\n",
       "      <td>2020-01-10 06:01:00</td>\n",
       "      <td>109.529</td>\n",
       "      <td>109.534</td>\n",
       "      <td>109.528</td>\n",
       "      <td>109.534</td>\n",
       "      <td>819</td>\n",
       "      <td>13</td>\n",
       "      <td>122850000</td>\n",
       "    </tr>\n",
       "    <tr>\n",
       "      <th>2</th>\n",
       "      <td>2020-01-10 06:02:00</td>\n",
       "      <td>109.534</td>\n",
       "      <td>109.534</td>\n",
       "      <td>109.527</td>\n",
       "      <td>109.529</td>\n",
       "      <td>1056</td>\n",
       "      <td>13</td>\n",
       "      <td>158400000</td>\n",
       "    </tr>\n",
       "    <tr>\n",
       "      <th>3</th>\n",
       "      <td>2020-01-10 06:03:00</td>\n",
       "      <td>109.529</td>\n",
       "      <td>109.529</td>\n",
       "      <td>109.524</td>\n",
       "      <td>109.526</td>\n",
       "      <td>594</td>\n",
       "      <td>13</td>\n",
       "      <td>89100000</td>\n",
       "    </tr>\n",
       "    <tr>\n",
       "      <th>4</th>\n",
       "      <td>2020-01-10 06:04:00</td>\n",
       "      <td>109.526</td>\n",
       "      <td>109.527</td>\n",
       "      <td>109.523</td>\n",
       "      <td>109.527</td>\n",
       "      <td>753</td>\n",
       "      <td>13</td>\n",
       "      <td>112950000</td>\n",
       "    </tr>\n",
       "  </tbody>\n",
       "</table>\n",
       "</div>"
      ],
      "text/plain": [
       "                 time     open     high      low    close  tick_volume  \\\n",
       "0 2020-01-10 06:00:00  109.524  109.534  109.524  109.529         1476   \n",
       "1 2020-01-10 06:01:00  109.529  109.534  109.528  109.534          819   \n",
       "2 2020-01-10 06:02:00  109.534  109.534  109.527  109.529         1056   \n",
       "3 2020-01-10 06:03:00  109.529  109.529  109.524  109.526          594   \n",
       "4 2020-01-10 06:04:00  109.526  109.527  109.523  109.527          753   \n",
       "\n",
       "   spread  real_volume  \n",
       "0      13    221400000  \n",
       "1      13    122850000  \n",
       "2      13    158400000  \n",
       "3      13     89100000  \n",
       "4      13    112950000  "
      ]
     },
     "execution_count": 15,
     "metadata": {},
     "output_type": "execute_result"
    }
   ],
   "source": [
    "ohlc=m.ohlc\n",
    "ohlc.head()"
   ]
  },
  {
   "cell_type": "code",
   "execution_count": 16,
   "metadata": {},
   "outputs": [
    {
     "data": {
      "text/html": [
       "<div>\n",
       "<style scoped>\n",
       "    .dataframe tbody tr th:only-of-type {\n",
       "        vertical-align: middle;\n",
       "    }\n",
       "\n",
       "    .dataframe tbody tr th {\n",
       "        vertical-align: top;\n",
       "    }\n",
       "\n",
       "    .dataframe thead th {\n",
       "        text-align: right;\n",
       "    }\n",
       "</style>\n",
       "<table border=\"1\" class=\"dataframe\">\n",
       "  <thead>\n",
       "    <tr style=\"text-align: right;\">\n",
       "      <th></th>\n",
       "      <th>Dirección</th>\n",
       "      <th>Pips Alcistas</th>\n",
       "      <th>Pips Bajistas</th>\n",
       "      <th>Volatilidad</th>\n",
       "      <th>Escenario</th>\n",
       "    </tr>\n",
       "  </thead>\n",
       "  <tbody>\n",
       "    <tr>\n",
       "      <th>0</th>\n",
       "      <td>0.082</td>\n",
       "      <td>14.8</td>\n",
       "      <td>0.8</td>\n",
       "      <td>24.3</td>\n",
       "      <td>A</td>\n",
       "    </tr>\n",
       "    <tr>\n",
       "      <th>1</th>\n",
       "      <td>0.006</td>\n",
       "      <td>0.7</td>\n",
       "      <td>1.7</td>\n",
       "      <td>3.7</td>\n",
       "      <td>B</td>\n",
       "    </tr>\n",
       "    <tr>\n",
       "      <th>2</th>\n",
       "      <td>0.100</td>\n",
       "      <td>12.0</td>\n",
       "      <td>0.0</td>\n",
       "      <td>13.0</td>\n",
       "      <td>C</td>\n",
       "    </tr>\n",
       "    <tr>\n",
       "      <th>3</th>\n",
       "      <td>-0.010</td>\n",
       "      <td>5.0</td>\n",
       "      <td>2.0</td>\n",
       "      <td>14.0</td>\n",
       "      <td>D</td>\n",
       "    </tr>\n",
       "  </tbody>\n",
       "</table>\n",
       "</div>"
      ],
      "text/plain": [
       "   Dirección  Pips Alcistas  Pips Bajistas  Volatilidad Escenario\n",
       "0      0.082           14.8            0.8         24.3         A\n",
       "1      0.006            0.7            1.7          3.7         B\n",
       "2      0.100           12.0            0.0         13.0         C\n",
       "3     -0.010            5.0            2.0         14.0         D"
      ]
     },
     "execution_count": 16,
     "metadata": {},
     "output_type": "execute_result"
    }
   ],
   "source": [
    "m.metricas.reset_index().drop(['index'], axis=1)"
   ]
  },
  {
   "cell_type": "markdown",
   "metadata": {},
   "source": [
    "# <font color= #6B6B6B> 4. Definición de sistema de trading  </font>"
   ]
  },
  {
   "cell_type": "markdown",
   "metadata": {},
   "source": [
    "<hr style=\"border:0.02in solid gray\"> </hr>"
   ]
  },
  {
   "cell_type": "markdown",
   "metadata": {},
   "source": [
    "-Aspectos Financieros: Despues de analizar diferentes momentos en el tiempo del ohlc del USDJPY en el momento que se presentaba el indicador Gross Domestic Product Annualized - United States se concluyo que en los escenarios A, B y C el precio viene disminuyendo previo al indicador y despues del indicador esta tendencia bajista no solo prevalece si no que se incrementa. En el escenario D sucede lo contrario, el precio previo al indicador aumenta y despues del indicador el aumento es aun mayor. Por ende en los escenarios A, B y C se opta por vender y en el escenario D se vende.\n",
    "\n",
    "-Aspectos Estadisticos: Después de realizar las diferentes pruebas de econometria se vio que lo que se vio en las validaciones graficas de Aspectos Financieros se mantendrian son validas pues en la serie de tiempo no se presenta informacion de que la serie de tiempo varie mucho.\n",
    "\n",
    "-Aspectos Computacionales: Para los escenarios A, B y C se ejecutara opcion de venta. Mientras que para el escenario D se ejecutara opción de compra. Esto porque en el calculo de las metricas para cada escenario se vio que la dirección señalaba la ejecución de estas ordenes.\n",
    "\n",
    "Entonces el sistema de trading en base al indicador Gross Domestic Product Annualized - United States queda de la siguiente manera.\n",
    "\n",
    "| Escenario|   Opcion|\n",
    "|:---------|:--------|\n",
    "|A         | Venta   |\n",
    "|B         | Venta   |\n",
    "|C         | Venta   |\n",
    "|D         | Compra  |"
   ]
  },
  {
   "cell_type": "markdown",
   "metadata": {},
   "source": [
    "# <font color= #6B6B6B> 5. Optimizacion y Backtest de sistema de trading  </font>"
   ]
  },
  {
   "cell_type": "markdown",
   "metadata": {},
   "source": [
    "<hr style=\"border:0.02in solid gray\"> </hr>"
   ]
  },
  {
   "cell_type": "code",
   "execution_count": null,
   "metadata": {},
   "outputs": [],
   "source": []
  },
  {
   "cell_type": "markdown",
   "metadata": {},
   "source": [
    "# <font color= #6B6B6B> 6. Rentabilidad  </font>"
   ]
  },
  {
   "cell_type": "markdown",
   "metadata": {},
   "source": [
    "<hr style=\"border:0.02in solid gray\"> </hr>"
   ]
  },
  {
   "cell_type": "code",
   "execution_count": null,
   "metadata": {},
   "outputs": [],
   "source": []
  }
 ],
 "metadata": {
  "kernelspec": {
   "display_name": "Python 3.10.6 64-bit",
   "language": "python",
   "name": "python3"
  },
  "language_info": {
   "codemirror_mode": {
    "name": "ipython",
    "version": 3
   },
   "file_extension": ".py",
   "mimetype": "text/x-python",
   "name": "python",
   "nbconvert_exporter": "python",
   "pygments_lexer": "ipython3",
   "version": "3.10.6"
  },
  "orig_nbformat": 4,
  "vscode": {
   "interpreter": {
    "hash": "1dc7c189b7b81a002ba740c61ae7e4e6b4e604349897014f2afb63a5ad05c141"
   }
  }
 },
 "nbformat": 4,
 "nbformat_minor": 2
}
