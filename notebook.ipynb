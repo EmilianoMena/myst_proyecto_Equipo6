{
 "cells": [
  {
   "cell_type": "markdown",
   "metadata": {},
   "source": [
    "<center><font color=#555555><font size=6> MAF1731B - Microestructuras y Sistemas de Trading </font> <br> <br>\n",
    "    \n",
    "<center><font color=#555555><font size=5> Ingenieria Financiera </font> <br> <br> <br> <br>\n",
    "\n",
    "<center><font color=#555555><font size=6> Luis Antonio Barriga Adame\n",
    "\n",
    "Jorge Alberto Hernandez Hernandez\n",
    "\n",
    "Pablo Humberto Muñoz Cuevas\n",
    "\n",
    "Emiliano Mena Gonzalez </font> <br> <br>\n",
    "   \n",
    "<center> <font color= #555555> <font size = 4> 02/12/2022 </a> | <font color= #555555> <font size = 4> Repository: <a href='https://github.com/EmilianoMena/myst_proyecto_Equipo6'>Link</a></font>"
   ]
  },
  {
   "cell_type": "markdown",
   "metadata": {},
   "source": [
    "<hr style=\"border:0.02in solid gray\"> </hr>"
   ]
  },
  {
   "cell_type": "markdown",
   "metadata": {},
   "source": [
    "<center> <font color= #555555> <font size = 6> Proyecto Final </font> <br> <br> <font color= #555555> <font size = 5> Analisis Fundamental  </font>"
   ]
  },
  {
   "cell_type": "markdown",
   "metadata": {},
   "source": [
    "<hr style=\"border:0.02in solid gray\"> </hr>"
   ]
  },
  {
   "cell_type": "markdown",
   "metadata": {},
   "source": [
    "<font color= #555555> <font size = 4> Abstract </font>"
   ]
  },
  {
   "cell_type": "markdown",
   "metadata": {},
   "source": [
    "<font color= #6B6B6B> <font size = 3>  Include here a description of the whole work, use no more than 400 words, you can use **Bold** and *Italic* highlights, also you can inclue [links](www.iteso.mx). Usually is a good strategy to generate this text at the very end of the process, since you have to include all aspects of the work, from a brief introduction, to problem definitions and methods used, to finally the results found. </font>"
   ]
  },
  {
   "cell_type": "markdown",
   "metadata": {},
   "source": [
    "# <font color= #6B6B6B> <font size = 6> 1. Introducción </font>"
   ]
  },
  {
   "cell_type": "markdown",
   "metadata": {},
   "source": [
    "<hr style=\"border:0.02in solid gray\"> </hr>"
   ]
  },
  {
   "cell_type": "markdown",
   "metadata": {},
   "source": [
    "This is an introduction, normally, it is done at the very end, when all the other content in the notebook is completed but just before the abstract (which is short version of the introduction) ... "
   ]
  },
  {
   "cell_type": "markdown",
   "metadata": {},
   "source": [
    "# <font color= #6B6B6B> 2. Instalar/Cargar Librerias y Dependencias </font>"
   ]
  },
  {
   "cell_type": "markdown",
   "metadata": {},
   "source": [
    "<hr style=\"border:0.02in solid gray\"> </hr>"
   ]
  },
  {
   "cell_type": "markdown",
   "metadata": {},
   "source": [
    "## <font color= #6B6B6B> 2.1 Librerias de Python </font> <font color= #555555>"
   ]
  },
  {
   "cell_type": "markdown",
   "metadata": {},
   "source": [
    "Para correr este notebook, es necesario tener las siguientes paqueterias: "
   ]
  },
  {
   "cell_type": "markdown",
   "metadata": {},
   "source": [
    "- contourpy==1.0.6\n",
    "- cycler==0.11.0\n",
    "- DateTime==4.7\n",
    "- fonttools==4.38.0\n",
    "- kiwisolver==1.4.4\n",
    "- matplotlib==3.6.2\n",
    "- MetaTrader5==5.0.43\n",
    "- numpy==1.23.5\n",
    "- packaging==21.3\n",
    "- pandas==1.5.2\n",
    "- patsy==0.5.3\n",
    "- Pillow==9.3.0\n",
    "- plotly==5.11.0\n",
    "- pyparsing==3.0.9\n",
    "- python-dateutil==2.8.2\n",
    "- pytz==2022.6\n",
    "- scipy==1.9.3\n",
    "- six==1.16.0\n",
    "- stats==0.1.2a0\n",
    "- statsmodels==0.13.5\n",
    "- tenacity==8.1.0\n",
    "- zope.interface==5.5.2"
   ]
  },
  {
   "cell_type": "markdown",
   "metadata": {},
   "source": [
    "## <font color= #6B6B6B> 2.2 Files </font> <font color= #555555>"
   ]
  },
  {
   "cell_type": "markdown",
   "metadata": {},
   "source": [
    "Los siguientes archivos se requieren para correr el notebook:"
   ]
  },
  {
   "cell_type": "markdown",
   "metadata": {},
   "source": [
    "- files\\Gross Domestic Product Annualized - United States : Indicador"
   ]
  },
  {
   "cell_type": "markdown",
   "metadata": {},
   "source": [
    "# <font color= #6B6B6B> 3. Tareas divididas por perfil </font>"
   ]
  },
  {
   "cell_type": "markdown",
   "metadata": {},
   "source": [
    "<hr style=\"border:0.02in solid gray\"> </hr>"
   ]
  },
  {
   "cell_type": "code",
   "execution_count": 2,
   "metadata": {},
   "outputs": [],
   "source": [
    "import main as m"
   ]
  },
  {
   "cell_type": "markdown",
   "metadata": {},
   "source": [
    "### Aspectos Financieros"
   ]
  },
  {
   "cell_type": "markdown",
   "metadata": {},
   "source": [
    "Acerca del indicador seleccionado:\n",
    "\n",
    "El indicador seleccionado fue 'Gross Domestic Product Annualized - United States' que viene siendo el Producto Interno Bruto (PIB) que su lo que hace es medir el cambio anualizado en el valor ajustado por inflación de todos los bienes y servicios producidos por la economía de Estados Unidos. Es la medida más amplia de la actividad económica y el principal indicador de la salud de la economía."
   ]
  },
  {
   "cell_type": "code",
   "execution_count": 4,
   "metadata": {},
   "outputs": [
    {
     "data": {
      "application/vnd.plotly.v1+json": {
       "config": {
        "plotlyServerURL": "https://plot.ly"
       },
       "data": [
        {
         "close": [
          105.31,
          105.32,
          105.35,
          105.28,
          105.3,
          105.26,
          105.22,
          105.16,
          105.15,
          105.18,
          105.14,
          105.18,
          105.19,
          105.22,
          105.21,
          105.21,
          105.2,
          105.22,
          105.19,
          105.21,
          105.21,
          105.19,
          105.19,
          105.17,
          105.14,
          105.14,
          105.15,
          105.12,
          105.11,
          105.09,
          105.08,
          105.11,
          105.12,
          105.12,
          105.13,
          105.13,
          105.13,
          105.13,
          105.11,
          105.08,
          105.08,
          105.11,
          105.14,
          105.14,
          105.13,
          105.12,
          105.18,
          105.17,
          105.17,
          105.17,
          105.15,
          105.16,
          105.15,
          105.16,
          105.18,
          105.2,
          105.21,
          105.23,
          105.22,
          105.19
         ],
         "high": [
          105.34,
          105.32,
          105.36,
          105.36,
          105.35,
          105.29,
          105.25,
          105.18,
          105.21,
          105.18,
          105.19,
          105.19,
          105.21,
          105.24,
          105.24,
          105.23,
          105.2,
          105.22,
          105.22,
          105.21,
          105.21,
          105.22,
          105.2,
          105.18,
          105.17,
          105.19,
          105.15,
          105.16,
          105.11,
          105.11,
          105.1,
          105.12,
          105.14,
          105.12,
          105.14,
          105.15,
          105.14,
          105.14,
          105.14,
          105.1,
          105.08,
          105.12,
          105.14,
          105.15,
          105.13,
          105.14,
          105.18,
          105.18,
          105.18,
          105.18,
          105.16,
          105.16,
          105.17,
          105.16,
          105.18,
          105.23,
          105.21,
          105.23,
          105.24,
          105.24
         ],
         "low": [
          105.31,
          105.29,
          105.33,
          105.28,
          105.29,
          105.25,
          105.22,
          105.14,
          105.14,
          105.12,
          105.12,
          105.13,
          105.17,
          105.2,
          105.19,
          105.21,
          105.2,
          105.21,
          105.19,
          105.19,
          105.19,
          105.19,
          105.17,
          105.17,
          105.13,
          105.14,
          105.14,
          105.12,
          105.1,
          105.09,
          105.08,
          105.09,
          105.11,
          105.11,
          105.13,
          105.13,
          105.12,
          105.12,
          105.1,
          105.07,
          105.07,
          105.07,
          105.12,
          105.13,
          105.12,
          105.1,
          105.13,
          105.15,
          105.16,
          105.16,
          105.15,
          105.14,
          105.15,
          105.14,
          105.16,
          105.17,
          105.19,
          105.2,
          105.21,
          105.19
         ],
         "open": [
          105.34,
          105.32,
          105.33,
          105.36,
          105.29,
          105.28,
          105.25,
          105.18,
          105.19,
          105.14,
          105.19,
          105.15,
          105.17,
          105.22,
          105.21,
          105.22,
          105.2,
          105.21,
          105.21,
          105.2,
          105.2,
          105.22,
          105.18,
          105.18,
          105.16,
          105.15,
          105.15,
          105.16,
          105.11,
          105.1,
          105.1,
          105.09,
          105.12,
          105.11,
          105.13,
          105.14,
          105.12,
          105.12,
          105.14,
          105.1,
          105.07,
          105.09,
          105.12,
          105.15,
          105.13,
          105.12,
          105.13,
          105.17,
          105.18,
          105.18,
          105.16,
          105.14,
          105.15,
          105.14,
          105.17,
          105.17,
          105.19,
          105.2,
          105.24,
          105.23
         ],
         "type": "candlestick",
         "x": [
          "2008-02-28T19:00:00",
          "2008-02-28T19:01:00",
          "2008-02-28T19:02:00",
          "2008-02-28T19:03:00",
          "2008-02-28T19:04:00",
          "2008-02-28T19:05:00",
          "2008-02-28T19:06:00",
          "2008-02-28T19:07:00",
          "2008-02-28T19:08:00",
          "2008-02-28T19:09:00",
          "2008-02-28T19:10:00",
          "2008-02-28T19:11:00",
          "2008-02-28T19:12:00",
          "2008-02-28T19:13:00",
          "2008-02-28T19:14:00",
          "2008-02-28T19:15:00",
          "2008-02-28T19:16:00",
          "2008-02-28T19:17:00",
          "2008-02-28T19:18:00",
          "2008-02-28T19:19:00",
          "2008-02-28T19:20:00",
          "2008-02-28T19:21:00",
          "2008-02-28T19:23:00",
          "2008-02-28T19:24:00",
          "2008-02-28T19:25:00",
          "2008-02-28T19:26:00",
          "2008-02-28T19:27:00",
          "2008-02-28T19:28:00",
          "2008-02-28T19:29:00",
          "2008-02-28T19:30:00",
          "2008-02-28T19:31:00",
          "2008-02-28T19:32:00",
          "2008-02-28T19:33:00",
          "2008-02-28T19:34:00",
          "2008-02-28T19:35:00",
          "2008-02-28T19:36:00",
          "2008-02-28T19:37:00",
          "2008-02-28T19:38:00",
          "2008-02-28T19:39:00",
          "2008-02-28T19:40:00",
          "2008-02-28T19:41:00",
          "2008-02-28T19:42:00",
          "2008-02-28T19:43:00",
          "2008-02-28T19:44:00",
          "2008-02-28T19:45:00",
          "2008-02-28T19:46:00",
          "2008-02-28T19:47:00",
          "2008-02-28T19:48:00",
          "2008-02-28T19:49:00",
          "2008-02-28T19:50:00",
          "2008-02-28T19:51:00",
          "2008-02-28T19:52:00",
          "2008-02-28T19:53:00",
          "2008-02-28T19:54:00",
          "2008-02-28T19:55:00",
          "2008-02-28T19:56:00",
          "2008-02-28T19:57:00",
          "2008-02-28T19:58:00",
          "2008-02-28T19:59:00",
          "2008-02-28T20:00:00"
         ]
        }
       ],
       "layout": {
        "template": {
         "data": {
          "bar": [
           {
            "error_x": {
             "color": "#2a3f5f"
            },
            "error_y": {
             "color": "#2a3f5f"
            },
            "marker": {
             "line": {
              "color": "#E5ECF6",
              "width": 0.5
             },
             "pattern": {
              "fillmode": "overlay",
              "size": 10,
              "solidity": 0.2
             }
            },
            "type": "bar"
           }
          ],
          "barpolar": [
           {
            "marker": {
             "line": {
              "color": "#E5ECF6",
              "width": 0.5
             },
             "pattern": {
              "fillmode": "overlay",
              "size": 10,
              "solidity": 0.2
             }
            },
            "type": "barpolar"
           }
          ],
          "carpet": [
           {
            "aaxis": {
             "endlinecolor": "#2a3f5f",
             "gridcolor": "white",
             "linecolor": "white",
             "minorgridcolor": "white",
             "startlinecolor": "#2a3f5f"
            },
            "baxis": {
             "endlinecolor": "#2a3f5f",
             "gridcolor": "white",
             "linecolor": "white",
             "minorgridcolor": "white",
             "startlinecolor": "#2a3f5f"
            },
            "type": "carpet"
           }
          ],
          "choropleth": [
           {
            "colorbar": {
             "outlinewidth": 0,
             "ticks": ""
            },
            "type": "choropleth"
           }
          ],
          "contour": [
           {
            "colorbar": {
             "outlinewidth": 0,
             "ticks": ""
            },
            "colorscale": [
             [
              0,
              "#0d0887"
             ],
             [
              0.1111111111111111,
              "#46039f"
             ],
             [
              0.2222222222222222,
              "#7201a8"
             ],
             [
              0.3333333333333333,
              "#9c179e"
             ],
             [
              0.4444444444444444,
              "#bd3786"
             ],
             [
              0.5555555555555556,
              "#d8576b"
             ],
             [
              0.6666666666666666,
              "#ed7953"
             ],
             [
              0.7777777777777778,
              "#fb9f3a"
             ],
             [
              0.8888888888888888,
              "#fdca26"
             ],
             [
              1,
              "#f0f921"
             ]
            ],
            "type": "contour"
           }
          ],
          "contourcarpet": [
           {
            "colorbar": {
             "outlinewidth": 0,
             "ticks": ""
            },
            "type": "contourcarpet"
           }
          ],
          "heatmap": [
           {
            "colorbar": {
             "outlinewidth": 0,
             "ticks": ""
            },
            "colorscale": [
             [
              0,
              "#0d0887"
             ],
             [
              0.1111111111111111,
              "#46039f"
             ],
             [
              0.2222222222222222,
              "#7201a8"
             ],
             [
              0.3333333333333333,
              "#9c179e"
             ],
             [
              0.4444444444444444,
              "#bd3786"
             ],
             [
              0.5555555555555556,
              "#d8576b"
             ],
             [
              0.6666666666666666,
              "#ed7953"
             ],
             [
              0.7777777777777778,
              "#fb9f3a"
             ],
             [
              0.8888888888888888,
              "#fdca26"
             ],
             [
              1,
              "#f0f921"
             ]
            ],
            "type": "heatmap"
           }
          ],
          "heatmapgl": [
           {
            "colorbar": {
             "outlinewidth": 0,
             "ticks": ""
            },
            "colorscale": [
             [
              0,
              "#0d0887"
             ],
             [
              0.1111111111111111,
              "#46039f"
             ],
             [
              0.2222222222222222,
              "#7201a8"
             ],
             [
              0.3333333333333333,
              "#9c179e"
             ],
             [
              0.4444444444444444,
              "#bd3786"
             ],
             [
              0.5555555555555556,
              "#d8576b"
             ],
             [
              0.6666666666666666,
              "#ed7953"
             ],
             [
              0.7777777777777778,
              "#fb9f3a"
             ],
             [
              0.8888888888888888,
              "#fdca26"
             ],
             [
              1,
              "#f0f921"
             ]
            ],
            "type": "heatmapgl"
           }
          ],
          "histogram": [
           {
            "marker": {
             "pattern": {
              "fillmode": "overlay",
              "size": 10,
              "solidity": 0.2
             }
            },
            "type": "histogram"
           }
          ],
          "histogram2d": [
           {
            "colorbar": {
             "outlinewidth": 0,
             "ticks": ""
            },
            "colorscale": [
             [
              0,
              "#0d0887"
             ],
             [
              0.1111111111111111,
              "#46039f"
             ],
             [
              0.2222222222222222,
              "#7201a8"
             ],
             [
              0.3333333333333333,
              "#9c179e"
             ],
             [
              0.4444444444444444,
              "#bd3786"
             ],
             [
              0.5555555555555556,
              "#d8576b"
             ],
             [
              0.6666666666666666,
              "#ed7953"
             ],
             [
              0.7777777777777778,
              "#fb9f3a"
             ],
             [
              0.8888888888888888,
              "#fdca26"
             ],
             [
              1,
              "#f0f921"
             ]
            ],
            "type": "histogram2d"
           }
          ],
          "histogram2dcontour": [
           {
            "colorbar": {
             "outlinewidth": 0,
             "ticks": ""
            },
            "colorscale": [
             [
              0,
              "#0d0887"
             ],
             [
              0.1111111111111111,
              "#46039f"
             ],
             [
              0.2222222222222222,
              "#7201a8"
             ],
             [
              0.3333333333333333,
              "#9c179e"
             ],
             [
              0.4444444444444444,
              "#bd3786"
             ],
             [
              0.5555555555555556,
              "#d8576b"
             ],
             [
              0.6666666666666666,
              "#ed7953"
             ],
             [
              0.7777777777777778,
              "#fb9f3a"
             ],
             [
              0.8888888888888888,
              "#fdca26"
             ],
             [
              1,
              "#f0f921"
             ]
            ],
            "type": "histogram2dcontour"
           }
          ],
          "mesh3d": [
           {
            "colorbar": {
             "outlinewidth": 0,
             "ticks": ""
            },
            "type": "mesh3d"
           }
          ],
          "parcoords": [
           {
            "line": {
             "colorbar": {
              "outlinewidth": 0,
              "ticks": ""
             }
            },
            "type": "parcoords"
           }
          ],
          "pie": [
           {
            "automargin": true,
            "type": "pie"
           }
          ],
          "scatter": [
           {
            "fillpattern": {
             "fillmode": "overlay",
             "size": 10,
             "solidity": 0.2
            },
            "type": "scatter"
           }
          ],
          "scatter3d": [
           {
            "line": {
             "colorbar": {
              "outlinewidth": 0,
              "ticks": ""
             }
            },
            "marker": {
             "colorbar": {
              "outlinewidth": 0,
              "ticks": ""
             }
            },
            "type": "scatter3d"
           }
          ],
          "scattercarpet": [
           {
            "marker": {
             "colorbar": {
              "outlinewidth": 0,
              "ticks": ""
             }
            },
            "type": "scattercarpet"
           }
          ],
          "scattergeo": [
           {
            "marker": {
             "colorbar": {
              "outlinewidth": 0,
              "ticks": ""
             }
            },
            "type": "scattergeo"
           }
          ],
          "scattergl": [
           {
            "marker": {
             "colorbar": {
              "outlinewidth": 0,
              "ticks": ""
             }
            },
            "type": "scattergl"
           }
          ],
          "scattermapbox": [
           {
            "marker": {
             "colorbar": {
              "outlinewidth": 0,
              "ticks": ""
             }
            },
            "type": "scattermapbox"
           }
          ],
          "scatterpolar": [
           {
            "marker": {
             "colorbar": {
              "outlinewidth": 0,
              "ticks": ""
             }
            },
            "type": "scatterpolar"
           }
          ],
          "scatterpolargl": [
           {
            "marker": {
             "colorbar": {
              "outlinewidth": 0,
              "ticks": ""
             }
            },
            "type": "scatterpolargl"
           }
          ],
          "scatterternary": [
           {
            "marker": {
             "colorbar": {
              "outlinewidth": 0,
              "ticks": ""
             }
            },
            "type": "scatterternary"
           }
          ],
          "surface": [
           {
            "colorbar": {
             "outlinewidth": 0,
             "ticks": ""
            },
            "colorscale": [
             [
              0,
              "#0d0887"
             ],
             [
              0.1111111111111111,
              "#46039f"
             ],
             [
              0.2222222222222222,
              "#7201a8"
             ],
             [
              0.3333333333333333,
              "#9c179e"
             ],
             [
              0.4444444444444444,
              "#bd3786"
             ],
             [
              0.5555555555555556,
              "#d8576b"
             ],
             [
              0.6666666666666666,
              "#ed7953"
             ],
             [
              0.7777777777777778,
              "#fb9f3a"
             ],
             [
              0.8888888888888888,
              "#fdca26"
             ],
             [
              1,
              "#f0f921"
             ]
            ],
            "type": "surface"
           }
          ],
          "table": [
           {
            "cells": {
             "fill": {
              "color": "#EBF0F8"
             },
             "line": {
              "color": "white"
             }
            },
            "header": {
             "fill": {
              "color": "#C8D4E3"
             },
             "line": {
              "color": "white"
             }
            },
            "type": "table"
           }
          ]
         },
         "layout": {
          "annotationdefaults": {
           "arrowcolor": "#2a3f5f",
           "arrowhead": 0,
           "arrowwidth": 1
          },
          "autotypenumbers": "strict",
          "coloraxis": {
           "colorbar": {
            "outlinewidth": 0,
            "ticks": ""
           }
          },
          "colorscale": {
           "diverging": [
            [
             0,
             "#8e0152"
            ],
            [
             0.1,
             "#c51b7d"
            ],
            [
             0.2,
             "#de77ae"
            ],
            [
             0.3,
             "#f1b6da"
            ],
            [
             0.4,
             "#fde0ef"
            ],
            [
             0.5,
             "#f7f7f7"
            ],
            [
             0.6,
             "#e6f5d0"
            ],
            [
             0.7,
             "#b8e186"
            ],
            [
             0.8,
             "#7fbc41"
            ],
            [
             0.9,
             "#4d9221"
            ],
            [
             1,
             "#276419"
            ]
           ],
           "sequential": [
            [
             0,
             "#0d0887"
            ],
            [
             0.1111111111111111,
             "#46039f"
            ],
            [
             0.2222222222222222,
             "#7201a8"
            ],
            [
             0.3333333333333333,
             "#9c179e"
            ],
            [
             0.4444444444444444,
             "#bd3786"
            ],
            [
             0.5555555555555556,
             "#d8576b"
            ],
            [
             0.6666666666666666,
             "#ed7953"
            ],
            [
             0.7777777777777778,
             "#fb9f3a"
            ],
            [
             0.8888888888888888,
             "#fdca26"
            ],
            [
             1,
             "#f0f921"
            ]
           ],
           "sequentialminus": [
            [
             0,
             "#0d0887"
            ],
            [
             0.1111111111111111,
             "#46039f"
            ],
            [
             0.2222222222222222,
             "#7201a8"
            ],
            [
             0.3333333333333333,
             "#9c179e"
            ],
            [
             0.4444444444444444,
             "#bd3786"
            ],
            [
             0.5555555555555556,
             "#d8576b"
            ],
            [
             0.6666666666666666,
             "#ed7953"
            ],
            [
             0.7777777777777778,
             "#fb9f3a"
            ],
            [
             0.8888888888888888,
             "#fdca26"
            ],
            [
             1,
             "#f0f921"
            ]
           ]
          },
          "colorway": [
           "#636efa",
           "#EF553B",
           "#00cc96",
           "#ab63fa",
           "#FFA15A",
           "#19d3f3",
           "#FF6692",
           "#B6E880",
           "#FF97FF",
           "#FECB52"
          ],
          "font": {
           "color": "#2a3f5f"
          },
          "geo": {
           "bgcolor": "white",
           "lakecolor": "white",
           "landcolor": "#E5ECF6",
           "showlakes": true,
           "showland": true,
           "subunitcolor": "white"
          },
          "hoverlabel": {
           "align": "left"
          },
          "hovermode": "closest",
          "mapbox": {
           "style": "light"
          },
          "paper_bgcolor": "white",
          "plot_bgcolor": "#E5ECF6",
          "polar": {
           "angularaxis": {
            "gridcolor": "white",
            "linecolor": "white",
            "ticks": ""
           },
           "bgcolor": "#E5ECF6",
           "radialaxis": {
            "gridcolor": "white",
            "linecolor": "white",
            "ticks": ""
           }
          },
          "scene": {
           "xaxis": {
            "backgroundcolor": "#E5ECF6",
            "gridcolor": "white",
            "gridwidth": 2,
            "linecolor": "white",
            "showbackground": true,
            "ticks": "",
            "zerolinecolor": "white"
           },
           "yaxis": {
            "backgroundcolor": "#E5ECF6",
            "gridcolor": "white",
            "gridwidth": 2,
            "linecolor": "white",
            "showbackground": true,
            "ticks": "",
            "zerolinecolor": "white"
           },
           "zaxis": {
            "backgroundcolor": "#E5ECF6",
            "gridcolor": "white",
            "gridwidth": 2,
            "linecolor": "white",
            "showbackground": true,
            "ticks": "",
            "zerolinecolor": "white"
           }
          },
          "shapedefaults": {
           "line": {
            "color": "#2a3f5f"
           }
          },
          "ternary": {
           "aaxis": {
            "gridcolor": "white",
            "linecolor": "white",
            "ticks": ""
           },
           "baxis": {
            "gridcolor": "white",
            "linecolor": "white",
            "ticks": ""
           },
           "bgcolor": "#E5ECF6",
           "caxis": {
            "gridcolor": "white",
            "linecolor": "white",
            "ticks": ""
           }
          },
          "title": {
           "x": 0.05
          },
          "xaxis": {
           "automargin": true,
           "gridcolor": "white",
           "linecolor": "white",
           "ticks": "",
           "title": {
            "standoff": 15
           },
           "zerolinecolor": "white",
           "zerolinewidth": 2
          },
          "yaxis": {
           "automargin": true,
           "gridcolor": "white",
           "linecolor": "white",
           "ticks": "",
           "title": {
            "standoff": 15
           },
           "zerolinecolor": "white",
           "zerolinewidth": 2
          }
         }
        },
        "title": {
         "text": "USDJPY"
        },
        "xaxis": {
         "rangeslider": {
          "visible": false
         }
        }
       }
      }
     },
     "metadata": {},
     "output_type": "display_data"
    }
   ],
   "source": [
    "m.gv1"
   ]
  },
  {
   "cell_type": "markdown",
   "metadata": {},
   "source": [
    "El precio inicia a la baja con un open de 105.34, pero en la media hora previa al indicador el precio tiene una disminución llegando a un close price de 105.09. Después del indicador tiene un ligero aumento y cierra a los 30 minutos con un close price de 105.19."
   ]
  },
  {
   "cell_type": "code",
   "execution_count": 3,
   "metadata": {},
   "outputs": [
    {
     "data": {
      "application/vnd.plotly.v1+json": {
       "config": {
        "plotlyServerURL": "https://plot.ly"
       },
       "data": [
        {
         "close": [
          109.715,
          109.733,
          109.758,
          109.771,
          109.763,
          109.801,
          109.781,
          109.784,
          109.768,
          109.76,
          109.787,
          109.807,
          109.807,
          109.802,
          109.807,
          109.818,
          109.824,
          109.837,
          109.848,
          109.864,
          109.868,
          109.85,
          109.848,
          109.838,
          109.836,
          109.844,
          109.844,
          109.82,
          109.813,
          109.826,
          109.843,
          109.85,
          109.855,
          109.849,
          109.87,
          109.877,
          109.877,
          109.875,
          109.881,
          109.882,
          109.883,
          109.876,
          109.875,
          109.878,
          109.875,
          109.855,
          109.852,
          109.859,
          109.873,
          109.874,
          109.886,
          109.875,
          109.887,
          109.892,
          109.88,
          109.868,
          109.874,
          109.839,
          109.838,
          109.838,
          109.85
         ],
         "high": [
          109.725,
          109.747,
          109.77,
          109.777,
          109.773,
          109.813,
          109.808,
          109.785,
          109.818,
          109.773,
          109.792,
          109.82,
          109.817,
          109.815,
          109.814,
          109.838,
          109.83,
          109.843,
          109.852,
          109.869,
          109.881,
          109.868,
          109.859,
          109.853,
          109.844,
          109.851,
          109.846,
          109.85,
          109.82,
          109.827,
          109.844,
          109.855,
          109.858,
          109.857,
          109.876,
          109.888,
          109.883,
          109.878,
          109.892,
          109.887,
          109.887,
          109.886,
          109.894,
          109.895,
          109.886,
          109.876,
          109.861,
          109.865,
          109.874,
          109.89,
          109.889,
          109.889,
          109.888,
          109.892,
          109.89,
          109.883,
          109.877,
          109.875,
          109.847,
          109.849,
          109.85
         ],
         "low": [
          109.675,
          109.717,
          109.732,
          109.755,
          109.759,
          109.764,
          109.777,
          109.769,
          109.768,
          109.76,
          109.762,
          109.783,
          109.8,
          109.8,
          109.799,
          109.807,
          109.818,
          109.818,
          109.836,
          109.844,
          109.86,
          109.839,
          109.848,
          109.838,
          109.83,
          109.836,
          109.842,
          109.813,
          109.812,
          109.812,
          109.823,
          109.843,
          109.847,
          109.849,
          109.849,
          109.861,
          109.876,
          109.875,
          109.863,
          109.877,
          109.881,
          109.875,
          109.872,
          109.874,
          109.873,
          109.848,
          109.849,
          109.843,
          109.859,
          109.872,
          109.862,
          109.874,
          109.874,
          109.879,
          109.88,
          109.866,
          109.867,
          109.831,
          109.837,
          109.838,
          109.838
         ],
         "open": [
          109.676,
          109.717,
          109.732,
          109.757,
          109.771,
          109.765,
          109.806,
          109.78,
          109.784,
          109.767,
          109.762,
          109.783,
          109.806,
          109.807,
          109.803,
          109.808,
          109.819,
          109.825,
          109.837,
          109.848,
          109.863,
          109.865,
          109.85,
          109.847,
          109.838,
          109.836,
          109.844,
          109.843,
          109.82,
          109.813,
          109.826,
          109.843,
          109.848,
          109.855,
          109.849,
          109.868,
          109.876,
          109.877,
          109.873,
          109.881,
          109.881,
          109.883,
          109.877,
          109.874,
          109.878,
          109.876,
          109.856,
          109.852,
          109.859,
          109.874,
          109.873,
          109.889,
          109.875,
          109.887,
          109.89,
          109.882,
          109.869,
          109.875,
          109.838,
          109.838,
          109.838
         ],
         "type": "candlestick",
         "x": [
          "2016-05-27T17:00:00",
          "2016-05-27T17:01:00",
          "2016-05-27T17:02:00",
          "2016-05-27T17:03:00",
          "2016-05-27T17:04:00",
          "2016-05-27T17:05:00",
          "2016-05-27T17:06:00",
          "2016-05-27T17:07:00",
          "2016-05-27T17:08:00",
          "2016-05-27T17:09:00",
          "2016-05-27T17:10:00",
          "2016-05-27T17:11:00",
          "2016-05-27T17:12:00",
          "2016-05-27T17:13:00",
          "2016-05-27T17:14:00",
          "2016-05-27T17:15:00",
          "2016-05-27T17:16:00",
          "2016-05-27T17:17:00",
          "2016-05-27T17:18:00",
          "2016-05-27T17:19:00",
          "2016-05-27T17:20:00",
          "2016-05-27T17:21:00",
          "2016-05-27T17:22:00",
          "2016-05-27T17:23:00",
          "2016-05-27T17:24:00",
          "2016-05-27T17:25:00",
          "2016-05-27T17:26:00",
          "2016-05-27T17:27:00",
          "2016-05-27T17:28:00",
          "2016-05-27T17:29:00",
          "2016-05-27T17:30:00",
          "2016-05-27T17:31:00",
          "2016-05-27T17:32:00",
          "2016-05-27T17:33:00",
          "2016-05-27T17:34:00",
          "2016-05-27T17:35:00",
          "2016-05-27T17:36:00",
          "2016-05-27T17:37:00",
          "2016-05-27T17:38:00",
          "2016-05-27T17:39:00",
          "2016-05-27T17:40:00",
          "2016-05-27T17:41:00",
          "2016-05-27T17:42:00",
          "2016-05-27T17:43:00",
          "2016-05-27T17:44:00",
          "2016-05-27T17:45:00",
          "2016-05-27T17:46:00",
          "2016-05-27T17:47:00",
          "2016-05-27T17:48:00",
          "2016-05-27T17:49:00",
          "2016-05-27T17:50:00",
          "2016-05-27T17:51:00",
          "2016-05-27T17:52:00",
          "2016-05-27T17:53:00",
          "2016-05-27T17:54:00",
          "2016-05-27T17:55:00",
          "2016-05-27T17:56:00",
          "2016-05-27T17:57:00",
          "2016-05-27T17:58:00",
          "2016-05-27T17:59:00",
          "2016-05-27T18:00:00"
         ]
        }
       ],
       "layout": {
        "template": {
         "data": {
          "bar": [
           {
            "error_x": {
             "color": "#2a3f5f"
            },
            "error_y": {
             "color": "#2a3f5f"
            },
            "marker": {
             "line": {
              "color": "#E5ECF6",
              "width": 0.5
             },
             "pattern": {
              "fillmode": "overlay",
              "size": 10,
              "solidity": 0.2
             }
            },
            "type": "bar"
           }
          ],
          "barpolar": [
           {
            "marker": {
             "line": {
              "color": "#E5ECF6",
              "width": 0.5
             },
             "pattern": {
              "fillmode": "overlay",
              "size": 10,
              "solidity": 0.2
             }
            },
            "type": "barpolar"
           }
          ],
          "carpet": [
           {
            "aaxis": {
             "endlinecolor": "#2a3f5f",
             "gridcolor": "white",
             "linecolor": "white",
             "minorgridcolor": "white",
             "startlinecolor": "#2a3f5f"
            },
            "baxis": {
             "endlinecolor": "#2a3f5f",
             "gridcolor": "white",
             "linecolor": "white",
             "minorgridcolor": "white",
             "startlinecolor": "#2a3f5f"
            },
            "type": "carpet"
           }
          ],
          "choropleth": [
           {
            "colorbar": {
             "outlinewidth": 0,
             "ticks": ""
            },
            "type": "choropleth"
           }
          ],
          "contour": [
           {
            "colorbar": {
             "outlinewidth": 0,
             "ticks": ""
            },
            "colorscale": [
             [
              0,
              "#0d0887"
             ],
             [
              0.1111111111111111,
              "#46039f"
             ],
             [
              0.2222222222222222,
              "#7201a8"
             ],
             [
              0.3333333333333333,
              "#9c179e"
             ],
             [
              0.4444444444444444,
              "#bd3786"
             ],
             [
              0.5555555555555556,
              "#d8576b"
             ],
             [
              0.6666666666666666,
              "#ed7953"
             ],
             [
              0.7777777777777778,
              "#fb9f3a"
             ],
             [
              0.8888888888888888,
              "#fdca26"
             ],
             [
              1,
              "#f0f921"
             ]
            ],
            "type": "contour"
           }
          ],
          "contourcarpet": [
           {
            "colorbar": {
             "outlinewidth": 0,
             "ticks": ""
            },
            "type": "contourcarpet"
           }
          ],
          "heatmap": [
           {
            "colorbar": {
             "outlinewidth": 0,
             "ticks": ""
            },
            "colorscale": [
             [
              0,
              "#0d0887"
             ],
             [
              0.1111111111111111,
              "#46039f"
             ],
             [
              0.2222222222222222,
              "#7201a8"
             ],
             [
              0.3333333333333333,
              "#9c179e"
             ],
             [
              0.4444444444444444,
              "#bd3786"
             ],
             [
              0.5555555555555556,
              "#d8576b"
             ],
             [
              0.6666666666666666,
              "#ed7953"
             ],
             [
              0.7777777777777778,
              "#fb9f3a"
             ],
             [
              0.8888888888888888,
              "#fdca26"
             ],
             [
              1,
              "#f0f921"
             ]
            ],
            "type": "heatmap"
           }
          ],
          "heatmapgl": [
           {
            "colorbar": {
             "outlinewidth": 0,
             "ticks": ""
            },
            "colorscale": [
             [
              0,
              "#0d0887"
             ],
             [
              0.1111111111111111,
              "#46039f"
             ],
             [
              0.2222222222222222,
              "#7201a8"
             ],
             [
              0.3333333333333333,
              "#9c179e"
             ],
             [
              0.4444444444444444,
              "#bd3786"
             ],
             [
              0.5555555555555556,
              "#d8576b"
             ],
             [
              0.6666666666666666,
              "#ed7953"
             ],
             [
              0.7777777777777778,
              "#fb9f3a"
             ],
             [
              0.8888888888888888,
              "#fdca26"
             ],
             [
              1,
              "#f0f921"
             ]
            ],
            "type": "heatmapgl"
           }
          ],
          "histogram": [
           {
            "marker": {
             "pattern": {
              "fillmode": "overlay",
              "size": 10,
              "solidity": 0.2
             }
            },
            "type": "histogram"
           }
          ],
          "histogram2d": [
           {
            "colorbar": {
             "outlinewidth": 0,
             "ticks": ""
            },
            "colorscale": [
             [
              0,
              "#0d0887"
             ],
             [
              0.1111111111111111,
              "#46039f"
             ],
             [
              0.2222222222222222,
              "#7201a8"
             ],
             [
              0.3333333333333333,
              "#9c179e"
             ],
             [
              0.4444444444444444,
              "#bd3786"
             ],
             [
              0.5555555555555556,
              "#d8576b"
             ],
             [
              0.6666666666666666,
              "#ed7953"
             ],
             [
              0.7777777777777778,
              "#fb9f3a"
             ],
             [
              0.8888888888888888,
              "#fdca26"
             ],
             [
              1,
              "#f0f921"
             ]
            ],
            "type": "histogram2d"
           }
          ],
          "histogram2dcontour": [
           {
            "colorbar": {
             "outlinewidth": 0,
             "ticks": ""
            },
            "colorscale": [
             [
              0,
              "#0d0887"
             ],
             [
              0.1111111111111111,
              "#46039f"
             ],
             [
              0.2222222222222222,
              "#7201a8"
             ],
             [
              0.3333333333333333,
              "#9c179e"
             ],
             [
              0.4444444444444444,
              "#bd3786"
             ],
             [
              0.5555555555555556,
              "#d8576b"
             ],
             [
              0.6666666666666666,
              "#ed7953"
             ],
             [
              0.7777777777777778,
              "#fb9f3a"
             ],
             [
              0.8888888888888888,
              "#fdca26"
             ],
             [
              1,
              "#f0f921"
             ]
            ],
            "type": "histogram2dcontour"
           }
          ],
          "mesh3d": [
           {
            "colorbar": {
             "outlinewidth": 0,
             "ticks": ""
            },
            "type": "mesh3d"
           }
          ],
          "parcoords": [
           {
            "line": {
             "colorbar": {
              "outlinewidth": 0,
              "ticks": ""
             }
            },
            "type": "parcoords"
           }
          ],
          "pie": [
           {
            "automargin": true,
            "type": "pie"
           }
          ],
          "scatter": [
           {
            "fillpattern": {
             "fillmode": "overlay",
             "size": 10,
             "solidity": 0.2
            },
            "type": "scatter"
           }
          ],
          "scatter3d": [
           {
            "line": {
             "colorbar": {
              "outlinewidth": 0,
              "ticks": ""
             }
            },
            "marker": {
             "colorbar": {
              "outlinewidth": 0,
              "ticks": ""
             }
            },
            "type": "scatter3d"
           }
          ],
          "scattercarpet": [
           {
            "marker": {
             "colorbar": {
              "outlinewidth": 0,
              "ticks": ""
             }
            },
            "type": "scattercarpet"
           }
          ],
          "scattergeo": [
           {
            "marker": {
             "colorbar": {
              "outlinewidth": 0,
              "ticks": ""
             }
            },
            "type": "scattergeo"
           }
          ],
          "scattergl": [
           {
            "marker": {
             "colorbar": {
              "outlinewidth": 0,
              "ticks": ""
             }
            },
            "type": "scattergl"
           }
          ],
          "scattermapbox": [
           {
            "marker": {
             "colorbar": {
              "outlinewidth": 0,
              "ticks": ""
             }
            },
            "type": "scattermapbox"
           }
          ],
          "scatterpolar": [
           {
            "marker": {
             "colorbar": {
              "outlinewidth": 0,
              "ticks": ""
             }
            },
            "type": "scatterpolar"
           }
          ],
          "scatterpolargl": [
           {
            "marker": {
             "colorbar": {
              "outlinewidth": 0,
              "ticks": ""
             }
            },
            "type": "scatterpolargl"
           }
          ],
          "scatterternary": [
           {
            "marker": {
             "colorbar": {
              "outlinewidth": 0,
              "ticks": ""
             }
            },
            "type": "scatterternary"
           }
          ],
          "surface": [
           {
            "colorbar": {
             "outlinewidth": 0,
             "ticks": ""
            },
            "colorscale": [
             [
              0,
              "#0d0887"
             ],
             [
              0.1111111111111111,
              "#46039f"
             ],
             [
              0.2222222222222222,
              "#7201a8"
             ],
             [
              0.3333333333333333,
              "#9c179e"
             ],
             [
              0.4444444444444444,
              "#bd3786"
             ],
             [
              0.5555555555555556,
              "#d8576b"
             ],
             [
              0.6666666666666666,
              "#ed7953"
             ],
             [
              0.7777777777777778,
              "#fb9f3a"
             ],
             [
              0.8888888888888888,
              "#fdca26"
             ],
             [
              1,
              "#f0f921"
             ]
            ],
            "type": "surface"
           }
          ],
          "table": [
           {
            "cells": {
             "fill": {
              "color": "#EBF0F8"
             },
             "line": {
              "color": "white"
             }
            },
            "header": {
             "fill": {
              "color": "#C8D4E3"
             },
             "line": {
              "color": "white"
             }
            },
            "type": "table"
           }
          ]
         },
         "layout": {
          "annotationdefaults": {
           "arrowcolor": "#2a3f5f",
           "arrowhead": 0,
           "arrowwidth": 1
          },
          "autotypenumbers": "strict",
          "coloraxis": {
           "colorbar": {
            "outlinewidth": 0,
            "ticks": ""
           }
          },
          "colorscale": {
           "diverging": [
            [
             0,
             "#8e0152"
            ],
            [
             0.1,
             "#c51b7d"
            ],
            [
             0.2,
             "#de77ae"
            ],
            [
             0.3,
             "#f1b6da"
            ],
            [
             0.4,
             "#fde0ef"
            ],
            [
             0.5,
             "#f7f7f7"
            ],
            [
             0.6,
             "#e6f5d0"
            ],
            [
             0.7,
             "#b8e186"
            ],
            [
             0.8,
             "#7fbc41"
            ],
            [
             0.9,
             "#4d9221"
            ],
            [
             1,
             "#276419"
            ]
           ],
           "sequential": [
            [
             0,
             "#0d0887"
            ],
            [
             0.1111111111111111,
             "#46039f"
            ],
            [
             0.2222222222222222,
             "#7201a8"
            ],
            [
             0.3333333333333333,
             "#9c179e"
            ],
            [
             0.4444444444444444,
             "#bd3786"
            ],
            [
             0.5555555555555556,
             "#d8576b"
            ],
            [
             0.6666666666666666,
             "#ed7953"
            ],
            [
             0.7777777777777778,
             "#fb9f3a"
            ],
            [
             0.8888888888888888,
             "#fdca26"
            ],
            [
             1,
             "#f0f921"
            ]
           ],
           "sequentialminus": [
            [
             0,
             "#0d0887"
            ],
            [
             0.1111111111111111,
             "#46039f"
            ],
            [
             0.2222222222222222,
             "#7201a8"
            ],
            [
             0.3333333333333333,
             "#9c179e"
            ],
            [
             0.4444444444444444,
             "#bd3786"
            ],
            [
             0.5555555555555556,
             "#d8576b"
            ],
            [
             0.6666666666666666,
             "#ed7953"
            ],
            [
             0.7777777777777778,
             "#fb9f3a"
            ],
            [
             0.8888888888888888,
             "#fdca26"
            ],
            [
             1,
             "#f0f921"
            ]
           ]
          },
          "colorway": [
           "#636efa",
           "#EF553B",
           "#00cc96",
           "#ab63fa",
           "#FFA15A",
           "#19d3f3",
           "#FF6692",
           "#B6E880",
           "#FF97FF",
           "#FECB52"
          ],
          "font": {
           "color": "#2a3f5f"
          },
          "geo": {
           "bgcolor": "white",
           "lakecolor": "white",
           "landcolor": "#E5ECF6",
           "showlakes": true,
           "showland": true,
           "subunitcolor": "white"
          },
          "hoverlabel": {
           "align": "left"
          },
          "hovermode": "closest",
          "mapbox": {
           "style": "light"
          },
          "paper_bgcolor": "white",
          "plot_bgcolor": "#E5ECF6",
          "polar": {
           "angularaxis": {
            "gridcolor": "white",
            "linecolor": "white",
            "ticks": ""
           },
           "bgcolor": "#E5ECF6",
           "radialaxis": {
            "gridcolor": "white",
            "linecolor": "white",
            "ticks": ""
           }
          },
          "scene": {
           "xaxis": {
            "backgroundcolor": "#E5ECF6",
            "gridcolor": "white",
            "gridwidth": 2,
            "linecolor": "white",
            "showbackground": true,
            "ticks": "",
            "zerolinecolor": "white"
           },
           "yaxis": {
            "backgroundcolor": "#E5ECF6",
            "gridcolor": "white",
            "gridwidth": 2,
            "linecolor": "white",
            "showbackground": true,
            "ticks": "",
            "zerolinecolor": "white"
           },
           "zaxis": {
            "backgroundcolor": "#E5ECF6",
            "gridcolor": "white",
            "gridwidth": 2,
            "linecolor": "white",
            "showbackground": true,
            "ticks": "",
            "zerolinecolor": "white"
           }
          },
          "shapedefaults": {
           "line": {
            "color": "#2a3f5f"
           }
          },
          "ternary": {
           "aaxis": {
            "gridcolor": "white",
            "linecolor": "white",
            "ticks": ""
           },
           "baxis": {
            "gridcolor": "white",
            "linecolor": "white",
            "ticks": ""
           },
           "bgcolor": "#E5ECF6",
           "caxis": {
            "gridcolor": "white",
            "linecolor": "white",
            "ticks": ""
           }
          },
          "title": {
           "x": 0.05
          },
          "xaxis": {
           "automargin": true,
           "gridcolor": "white",
           "linecolor": "white",
           "ticks": "",
           "title": {
            "standoff": 15
           },
           "zerolinecolor": "white",
           "zerolinewidth": 2
          },
          "yaxis": {
           "automargin": true,
           "gridcolor": "white",
           "linecolor": "white",
           "ticks": "",
           "title": {
            "standoff": 15
           },
           "zerolinecolor": "white",
           "zerolinewidth": 2
          }
         }
        },
        "title": {
         "text": "USDJPY"
        },
        "xaxis": {
         "rangeslider": {
          "visible": false
         }
        }
       }
      }
     },
     "metadata": {},
     "output_type": "display_data"
    }
   ],
   "source": [
    "m.gv2"
   ]
  },
  {
   "cell_type": "markdown",
   "metadata": {},
   "source": [
    "El precio inicia a la alza con un open de 109.76 y en la media hora previa al indicador el precio tiene un incremento constante llegando a un close price de 109.843 cuando sucede el indicador. Despues del indicador, la otra media hora el precio se mantiene de cierta forma constante cerrando con un close price de 109.85. En este caso el precio tambien termino un poco por encima despues del indicador."
   ]
  },
  {
   "cell_type": "code",
   "execution_count": 4,
   "metadata": {},
   "outputs": [
    {
     "data": {
      "application/vnd.plotly.v1+json": {
       "config": {
        "plotlyServerURL": "https://plot.ly"
       },
       "data": [
        {
         "close": [
          88.531,
          88.506,
          88.517,
          88.513,
          88.504,
          88.491,
          88.491,
          88.481,
          88.481,
          88.505,
          88.494,
          88.489,
          88.499,
          88.502,
          88.497,
          88.481,
          88.49,
          88.496,
          88.499,
          88.505,
          88.488,
          88.494,
          88.487,
          88.5,
          88.498,
          88.499,
          88.498,
          88.511,
          88.509,
          88.507,
          88.496,
          88.498,
          88.506,
          88.535,
          88.52,
          88.525,
          88.529,
          88.53,
          88.518,
          88.519,
          88.501,
          88.495,
          88.483,
          88.476,
          88.469,
          88.469,
          88.476,
          88.47,
          88.467,
          88.467,
          88.466,
          88.45,
          88.454,
          88.465,
          88.458,
          88.451,
          88.422,
          88.432,
          88.444,
          88.457
         ],
         "high": [
          88.537,
          88.531,
          88.517,
          88.517,
          88.512,
          88.511,
          88.493,
          88.492,
          88.488,
          88.506,
          88.505,
          88.496,
          88.504,
          88.505,
          88.512,
          88.498,
          88.491,
          88.499,
          88.502,
          88.506,
          88.506,
          88.494,
          88.498,
          88.505,
          88.501,
          88.501,
          88.5,
          88.513,
          88.513,
          88.515,
          88.504,
          88.5,
          88.506,
          88.535,
          88.541,
          88.53,
          88.53,
          88.53,
          88.533,
          88.52,
          88.52,
          88.5,
          88.493,
          88.485,
          88.481,
          88.473,
          88.476,
          88.474,
          88.471,
          88.471,
          88.469,
          88.468,
          88.454,
          88.466,
          88.471,
          88.463,
          88.457,
          88.433,
          88.451,
          88.458
         ],
         "low": [
          88.527,
          88.502,
          88.5,
          88.511,
          88.503,
          88.488,
          88.489,
          88.478,
          88.479,
          88.482,
          88.493,
          88.488,
          88.489,
          88.496,
          88.496,
          88.481,
          88.48,
          88.488,
          88.498,
          88.499,
          88.487,
          88.481,
          88.487,
          88.487,
          88.497,
          88.498,
          88.497,
          88.499,
          88.506,
          88.507,
          88.496,
          88.495,
          88.496,
          88.501,
          88.52,
          88.522,
          88.524,
          88.517,
          88.511,
          88.518,
          88.499,
          88.488,
          88.483,
          88.466,
          88.469,
          88.469,
          88.461,
          88.469,
          88.465,
          88.465,
          88.462,
          88.45,
          88.45,
          88.449,
          88.455,
          88.451,
          88.421,
          88.421,
          88.43,
          88.436
         ],
         "open": [
          88.527,
          88.53,
          88.507,
          88.516,
          88.512,
          88.503,
          88.49,
          88.492,
          88.482,
          88.482,
          88.504,
          88.496,
          88.49,
          88.496,
          88.503,
          88.498,
          88.48,
          88.489,
          88.5,
          88.501,
          88.506,
          88.487,
          88.497,
          88.488,
          88.499,
          88.5,
          88.5,
          88.499,
          88.512,
          88.508,
          88.504,
          88.497,
          88.497,
          88.507,
          88.534,
          88.522,
          88.524,
          88.519,
          88.533,
          88.519,
          88.52,
          88.5,
          88.493,
          88.481,
          88.477,
          88.47,
          88.467,
          88.474,
          88.469,
          88.466,
          88.465,
          88.467,
          88.451,
          88.452,
          88.46,
          88.459,
          88.452,
          88.421,
          88.431,
          88.446
         ],
         "type": "candlestick",
         "x": [
          "2009-11-24T19:00:00",
          "2009-11-24T19:01:00",
          "2009-11-24T19:02:00",
          "2009-11-24T19:03:00",
          "2009-11-24T19:04:00",
          "2009-11-24T19:06:00",
          "2009-11-24T19:07:00",
          "2009-11-24T19:08:00",
          "2009-11-24T19:09:00",
          "2009-11-24T19:10:00",
          "2009-11-24T19:11:00",
          "2009-11-24T19:12:00",
          "2009-11-24T19:13:00",
          "2009-11-24T19:14:00",
          "2009-11-24T19:15:00",
          "2009-11-24T19:16:00",
          "2009-11-24T19:17:00",
          "2009-11-24T19:18:00",
          "2009-11-24T19:19:00",
          "2009-11-24T19:20:00",
          "2009-11-24T19:21:00",
          "2009-11-24T19:22:00",
          "2009-11-24T19:23:00",
          "2009-11-24T19:24:00",
          "2009-11-24T19:25:00",
          "2009-11-24T19:26:00",
          "2009-11-24T19:27:00",
          "2009-11-24T19:28:00",
          "2009-11-24T19:29:00",
          "2009-11-24T19:30:00",
          "2009-11-24T19:31:00",
          "2009-11-24T19:32:00",
          "2009-11-24T19:33:00",
          "2009-11-24T19:34:00",
          "2009-11-24T19:35:00",
          "2009-11-24T19:36:00",
          "2009-11-24T19:37:00",
          "2009-11-24T19:38:00",
          "2009-11-24T19:39:00",
          "2009-11-24T19:40:00",
          "2009-11-24T19:41:00",
          "2009-11-24T19:42:00",
          "2009-11-24T19:43:00",
          "2009-11-24T19:44:00",
          "2009-11-24T19:45:00",
          "2009-11-24T19:46:00",
          "2009-11-24T19:47:00",
          "2009-11-24T19:48:00",
          "2009-11-24T19:49:00",
          "2009-11-24T19:50:00",
          "2009-11-24T19:51:00",
          "2009-11-24T19:52:00",
          "2009-11-24T19:53:00",
          "2009-11-24T19:54:00",
          "2009-11-24T19:55:00",
          "2009-11-24T19:56:00",
          "2009-11-24T19:57:00",
          "2009-11-24T19:58:00",
          "2009-11-24T19:59:00",
          "2009-11-24T20:00:00"
         ]
        }
       ],
       "layout": {
        "template": {
         "data": {
          "bar": [
           {
            "error_x": {
             "color": "#2a3f5f"
            },
            "error_y": {
             "color": "#2a3f5f"
            },
            "marker": {
             "line": {
              "color": "#E5ECF6",
              "width": 0.5
             },
             "pattern": {
              "fillmode": "overlay",
              "size": 10,
              "solidity": 0.2
             }
            },
            "type": "bar"
           }
          ],
          "barpolar": [
           {
            "marker": {
             "line": {
              "color": "#E5ECF6",
              "width": 0.5
             },
             "pattern": {
              "fillmode": "overlay",
              "size": 10,
              "solidity": 0.2
             }
            },
            "type": "barpolar"
           }
          ],
          "carpet": [
           {
            "aaxis": {
             "endlinecolor": "#2a3f5f",
             "gridcolor": "white",
             "linecolor": "white",
             "minorgridcolor": "white",
             "startlinecolor": "#2a3f5f"
            },
            "baxis": {
             "endlinecolor": "#2a3f5f",
             "gridcolor": "white",
             "linecolor": "white",
             "minorgridcolor": "white",
             "startlinecolor": "#2a3f5f"
            },
            "type": "carpet"
           }
          ],
          "choropleth": [
           {
            "colorbar": {
             "outlinewidth": 0,
             "ticks": ""
            },
            "type": "choropleth"
           }
          ],
          "contour": [
           {
            "colorbar": {
             "outlinewidth": 0,
             "ticks": ""
            },
            "colorscale": [
             [
              0,
              "#0d0887"
             ],
             [
              0.1111111111111111,
              "#46039f"
             ],
             [
              0.2222222222222222,
              "#7201a8"
             ],
             [
              0.3333333333333333,
              "#9c179e"
             ],
             [
              0.4444444444444444,
              "#bd3786"
             ],
             [
              0.5555555555555556,
              "#d8576b"
             ],
             [
              0.6666666666666666,
              "#ed7953"
             ],
             [
              0.7777777777777778,
              "#fb9f3a"
             ],
             [
              0.8888888888888888,
              "#fdca26"
             ],
             [
              1,
              "#f0f921"
             ]
            ],
            "type": "contour"
           }
          ],
          "contourcarpet": [
           {
            "colorbar": {
             "outlinewidth": 0,
             "ticks": ""
            },
            "type": "contourcarpet"
           }
          ],
          "heatmap": [
           {
            "colorbar": {
             "outlinewidth": 0,
             "ticks": ""
            },
            "colorscale": [
             [
              0,
              "#0d0887"
             ],
             [
              0.1111111111111111,
              "#46039f"
             ],
             [
              0.2222222222222222,
              "#7201a8"
             ],
             [
              0.3333333333333333,
              "#9c179e"
             ],
             [
              0.4444444444444444,
              "#bd3786"
             ],
             [
              0.5555555555555556,
              "#d8576b"
             ],
             [
              0.6666666666666666,
              "#ed7953"
             ],
             [
              0.7777777777777778,
              "#fb9f3a"
             ],
             [
              0.8888888888888888,
              "#fdca26"
             ],
             [
              1,
              "#f0f921"
             ]
            ],
            "type": "heatmap"
           }
          ],
          "heatmapgl": [
           {
            "colorbar": {
             "outlinewidth": 0,
             "ticks": ""
            },
            "colorscale": [
             [
              0,
              "#0d0887"
             ],
             [
              0.1111111111111111,
              "#46039f"
             ],
             [
              0.2222222222222222,
              "#7201a8"
             ],
             [
              0.3333333333333333,
              "#9c179e"
             ],
             [
              0.4444444444444444,
              "#bd3786"
             ],
             [
              0.5555555555555556,
              "#d8576b"
             ],
             [
              0.6666666666666666,
              "#ed7953"
             ],
             [
              0.7777777777777778,
              "#fb9f3a"
             ],
             [
              0.8888888888888888,
              "#fdca26"
             ],
             [
              1,
              "#f0f921"
             ]
            ],
            "type": "heatmapgl"
           }
          ],
          "histogram": [
           {
            "marker": {
             "pattern": {
              "fillmode": "overlay",
              "size": 10,
              "solidity": 0.2
             }
            },
            "type": "histogram"
           }
          ],
          "histogram2d": [
           {
            "colorbar": {
             "outlinewidth": 0,
             "ticks": ""
            },
            "colorscale": [
             [
              0,
              "#0d0887"
             ],
             [
              0.1111111111111111,
              "#46039f"
             ],
             [
              0.2222222222222222,
              "#7201a8"
             ],
             [
              0.3333333333333333,
              "#9c179e"
             ],
             [
              0.4444444444444444,
              "#bd3786"
             ],
             [
              0.5555555555555556,
              "#d8576b"
             ],
             [
              0.6666666666666666,
              "#ed7953"
             ],
             [
              0.7777777777777778,
              "#fb9f3a"
             ],
             [
              0.8888888888888888,
              "#fdca26"
             ],
             [
              1,
              "#f0f921"
             ]
            ],
            "type": "histogram2d"
           }
          ],
          "histogram2dcontour": [
           {
            "colorbar": {
             "outlinewidth": 0,
             "ticks": ""
            },
            "colorscale": [
             [
              0,
              "#0d0887"
             ],
             [
              0.1111111111111111,
              "#46039f"
             ],
             [
              0.2222222222222222,
              "#7201a8"
             ],
             [
              0.3333333333333333,
              "#9c179e"
             ],
             [
              0.4444444444444444,
              "#bd3786"
             ],
             [
              0.5555555555555556,
              "#d8576b"
             ],
             [
              0.6666666666666666,
              "#ed7953"
             ],
             [
              0.7777777777777778,
              "#fb9f3a"
             ],
             [
              0.8888888888888888,
              "#fdca26"
             ],
             [
              1,
              "#f0f921"
             ]
            ],
            "type": "histogram2dcontour"
           }
          ],
          "mesh3d": [
           {
            "colorbar": {
             "outlinewidth": 0,
             "ticks": ""
            },
            "type": "mesh3d"
           }
          ],
          "parcoords": [
           {
            "line": {
             "colorbar": {
              "outlinewidth": 0,
              "ticks": ""
             }
            },
            "type": "parcoords"
           }
          ],
          "pie": [
           {
            "automargin": true,
            "type": "pie"
           }
          ],
          "scatter": [
           {
            "fillpattern": {
             "fillmode": "overlay",
             "size": 10,
             "solidity": 0.2
            },
            "type": "scatter"
           }
          ],
          "scatter3d": [
           {
            "line": {
             "colorbar": {
              "outlinewidth": 0,
              "ticks": ""
             }
            },
            "marker": {
             "colorbar": {
              "outlinewidth": 0,
              "ticks": ""
             }
            },
            "type": "scatter3d"
           }
          ],
          "scattercarpet": [
           {
            "marker": {
             "colorbar": {
              "outlinewidth": 0,
              "ticks": ""
             }
            },
            "type": "scattercarpet"
           }
          ],
          "scattergeo": [
           {
            "marker": {
             "colorbar": {
              "outlinewidth": 0,
              "ticks": ""
             }
            },
            "type": "scattergeo"
           }
          ],
          "scattergl": [
           {
            "marker": {
             "colorbar": {
              "outlinewidth": 0,
              "ticks": ""
             }
            },
            "type": "scattergl"
           }
          ],
          "scattermapbox": [
           {
            "marker": {
             "colorbar": {
              "outlinewidth": 0,
              "ticks": ""
             }
            },
            "type": "scattermapbox"
           }
          ],
          "scatterpolar": [
           {
            "marker": {
             "colorbar": {
              "outlinewidth": 0,
              "ticks": ""
             }
            },
            "type": "scatterpolar"
           }
          ],
          "scatterpolargl": [
           {
            "marker": {
             "colorbar": {
              "outlinewidth": 0,
              "ticks": ""
             }
            },
            "type": "scatterpolargl"
           }
          ],
          "scatterternary": [
           {
            "marker": {
             "colorbar": {
              "outlinewidth": 0,
              "ticks": ""
             }
            },
            "type": "scatterternary"
           }
          ],
          "surface": [
           {
            "colorbar": {
             "outlinewidth": 0,
             "ticks": ""
            },
            "colorscale": [
             [
              0,
              "#0d0887"
             ],
             [
              0.1111111111111111,
              "#46039f"
             ],
             [
              0.2222222222222222,
              "#7201a8"
             ],
             [
              0.3333333333333333,
              "#9c179e"
             ],
             [
              0.4444444444444444,
              "#bd3786"
             ],
             [
              0.5555555555555556,
              "#d8576b"
             ],
             [
              0.6666666666666666,
              "#ed7953"
             ],
             [
              0.7777777777777778,
              "#fb9f3a"
             ],
             [
              0.8888888888888888,
              "#fdca26"
             ],
             [
              1,
              "#f0f921"
             ]
            ],
            "type": "surface"
           }
          ],
          "table": [
           {
            "cells": {
             "fill": {
              "color": "#EBF0F8"
             },
             "line": {
              "color": "white"
             }
            },
            "header": {
             "fill": {
              "color": "#C8D4E3"
             },
             "line": {
              "color": "white"
             }
            },
            "type": "table"
           }
          ]
         },
         "layout": {
          "annotationdefaults": {
           "arrowcolor": "#2a3f5f",
           "arrowhead": 0,
           "arrowwidth": 1
          },
          "autotypenumbers": "strict",
          "coloraxis": {
           "colorbar": {
            "outlinewidth": 0,
            "ticks": ""
           }
          },
          "colorscale": {
           "diverging": [
            [
             0,
             "#8e0152"
            ],
            [
             0.1,
             "#c51b7d"
            ],
            [
             0.2,
             "#de77ae"
            ],
            [
             0.3,
             "#f1b6da"
            ],
            [
             0.4,
             "#fde0ef"
            ],
            [
             0.5,
             "#f7f7f7"
            ],
            [
             0.6,
             "#e6f5d0"
            ],
            [
             0.7,
             "#b8e186"
            ],
            [
             0.8,
             "#7fbc41"
            ],
            [
             0.9,
             "#4d9221"
            ],
            [
             1,
             "#276419"
            ]
           ],
           "sequential": [
            [
             0,
             "#0d0887"
            ],
            [
             0.1111111111111111,
             "#46039f"
            ],
            [
             0.2222222222222222,
             "#7201a8"
            ],
            [
             0.3333333333333333,
             "#9c179e"
            ],
            [
             0.4444444444444444,
             "#bd3786"
            ],
            [
             0.5555555555555556,
             "#d8576b"
            ],
            [
             0.6666666666666666,
             "#ed7953"
            ],
            [
             0.7777777777777778,
             "#fb9f3a"
            ],
            [
             0.8888888888888888,
             "#fdca26"
            ],
            [
             1,
             "#f0f921"
            ]
           ],
           "sequentialminus": [
            [
             0,
             "#0d0887"
            ],
            [
             0.1111111111111111,
             "#46039f"
            ],
            [
             0.2222222222222222,
             "#7201a8"
            ],
            [
             0.3333333333333333,
             "#9c179e"
            ],
            [
             0.4444444444444444,
             "#bd3786"
            ],
            [
             0.5555555555555556,
             "#d8576b"
            ],
            [
             0.6666666666666666,
             "#ed7953"
            ],
            [
             0.7777777777777778,
             "#fb9f3a"
            ],
            [
             0.8888888888888888,
             "#fdca26"
            ],
            [
             1,
             "#f0f921"
            ]
           ]
          },
          "colorway": [
           "#636efa",
           "#EF553B",
           "#00cc96",
           "#ab63fa",
           "#FFA15A",
           "#19d3f3",
           "#FF6692",
           "#B6E880",
           "#FF97FF",
           "#FECB52"
          ],
          "font": {
           "color": "#2a3f5f"
          },
          "geo": {
           "bgcolor": "white",
           "lakecolor": "white",
           "landcolor": "#E5ECF6",
           "showlakes": true,
           "showland": true,
           "subunitcolor": "white"
          },
          "hoverlabel": {
           "align": "left"
          },
          "hovermode": "closest",
          "mapbox": {
           "style": "light"
          },
          "paper_bgcolor": "white",
          "plot_bgcolor": "#E5ECF6",
          "polar": {
           "angularaxis": {
            "gridcolor": "white",
            "linecolor": "white",
            "ticks": ""
           },
           "bgcolor": "#E5ECF6",
           "radialaxis": {
            "gridcolor": "white",
            "linecolor": "white",
            "ticks": ""
           }
          },
          "scene": {
           "xaxis": {
            "backgroundcolor": "#E5ECF6",
            "gridcolor": "white",
            "gridwidth": 2,
            "linecolor": "white",
            "showbackground": true,
            "ticks": "",
            "zerolinecolor": "white"
           },
           "yaxis": {
            "backgroundcolor": "#E5ECF6",
            "gridcolor": "white",
            "gridwidth": 2,
            "linecolor": "white",
            "showbackground": true,
            "ticks": "",
            "zerolinecolor": "white"
           },
           "zaxis": {
            "backgroundcolor": "#E5ECF6",
            "gridcolor": "white",
            "gridwidth": 2,
            "linecolor": "white",
            "showbackground": true,
            "ticks": "",
            "zerolinecolor": "white"
           }
          },
          "shapedefaults": {
           "line": {
            "color": "#2a3f5f"
           }
          },
          "ternary": {
           "aaxis": {
            "gridcolor": "white",
            "linecolor": "white",
            "ticks": ""
           },
           "baxis": {
            "gridcolor": "white",
            "linecolor": "white",
            "ticks": ""
           },
           "bgcolor": "#E5ECF6",
           "caxis": {
            "gridcolor": "white",
            "linecolor": "white",
            "ticks": ""
           }
          },
          "title": {
           "x": 0.05
          },
          "xaxis": {
           "automargin": true,
           "gridcolor": "white",
           "linecolor": "white",
           "ticks": "",
           "title": {
            "standoff": 15
           },
           "zerolinecolor": "white",
           "zerolinewidth": 2
          },
          "yaxis": {
           "automargin": true,
           "gridcolor": "white",
           "linecolor": "white",
           "ticks": "",
           "title": {
            "standoff": 15
           },
           "zerolinecolor": "white",
           "zerolinewidth": 2
          }
         }
        },
        "title": {
         "text": "USDJPY"
        },
        "xaxis": {
         "rangeslider": {
          "visible": false
         }
        }
       }
      }
     },
     "metadata": {},
     "output_type": "display_data"
    }
   ],
   "source": [
    "m.gv3"
   ]
  },
  {
   "cell_type": "markdown",
   "metadata": {},
   "source": [
    "El precio inicia a la alza con un open de 88.527, pero en la media hora previa al indicador el precio tiene un disminuye y termina con un close price de 88.507 cuando sucede el indicador. Después del indicador el precio disminuye pero ahora de forma más drastica llegando a cerrar con un close price de 88.457."
   ]
  },
  {
   "cell_type": "code",
   "execution_count": 5,
   "metadata": {},
   "outputs": [
    {
     "data": {
      "application/vnd.plotly.v1+json": {
       "config": {
        "plotlyServerURL": "https://plot.ly"
       },
       "data": [
        {
         "close": [
          112.764,
          112.746,
          112.763,
          112.749,
          112.72,
          112.708,
          112.734,
          112.728,
          112.762,
          112.761,
          112.733,
          112.742,
          112.724,
          112.722,
          112.751,
          112.734,
          112.727,
          112.693,
          112.692,
          112.658,
          112.651,
          112.688,
          112.691,
          112.689,
          112.692,
          112.544,
          112.531,
          112.553,
          112.569,
          112.564,
          112.579,
          112.584,
          112.633,
          112.632,
          112.648,
          112.628,
          112.62,
          112.634,
          112.617,
          112.639,
          112.607,
          112.613,
          112.639,
          112.638,
          112.628,
          112.588,
          112.557,
          112.558,
          112.56,
          112.573,
          112.587,
          112.586,
          112.554,
          112.591,
          112.585,
          112.615,
          112.626,
          112.647,
          112.648,
          112.66,
          112.616
         ],
         "high": [
          112.787,
          112.78,
          112.77,
          112.772,
          112.747,
          112.739,
          112.75,
          112.735,
          112.762,
          112.779,
          112.764,
          112.742,
          112.751,
          112.733,
          112.772,
          112.751,
          112.735,
          112.73,
          112.706,
          112.692,
          112.658,
          112.688,
          112.693,
          112.694,
          112.695,
          112.692,
          112.583,
          112.578,
          112.596,
          112.589,
          112.592,
          112.594,
          112.636,
          112.641,
          112.652,
          112.66,
          112.634,
          112.639,
          112.639,
          112.639,
          112.651,
          112.617,
          112.649,
          112.646,
          112.639,
          112.638,
          112.596,
          112.56,
          112.563,
          112.575,
          112.591,
          112.593,
          112.588,
          112.598,
          112.607,
          112.615,
          112.637,
          112.651,
          112.65,
          112.661,
          112.66
         ],
         "low": [
          112.743,
          112.741,
          112.745,
          112.743,
          112.718,
          112.694,
          112.707,
          112.711,
          112.73,
          112.757,
          112.733,
          112.719,
          112.724,
          112.714,
          112.723,
          112.728,
          112.721,
          112.692,
          112.688,
          112.656,
          112.625,
          112.644,
          112.676,
          112.669,
          112.669,
          112.539,
          112.504,
          112.526,
          112.536,
          112.555,
          112.564,
          112.562,
          112.574,
          112.621,
          112.634,
          112.627,
          112.62,
          112.625,
          112.617,
          112.618,
          112.607,
          112.594,
          112.612,
          112.633,
          112.608,
          112.588,
          112.557,
          112.547,
          112.555,
          112.557,
          112.571,
          112.582,
          112.554,
          112.554,
          112.578,
          112.584,
          112.614,
          112.62,
          112.638,
          112.637,
          112.615
         ],
         "open": [
          112.787,
          112.764,
          112.746,
          112.763,
          112.747,
          112.721,
          112.707,
          112.734,
          112.73,
          112.763,
          112.761,
          112.732,
          112.742,
          112.724,
          112.723,
          112.751,
          112.735,
          112.724,
          112.691,
          112.692,
          112.657,
          112.65,
          112.688,
          112.691,
          112.69,
          112.692,
          112.549,
          112.537,
          112.551,
          112.572,
          112.564,
          112.576,
          112.583,
          112.634,
          112.634,
          112.648,
          112.628,
          112.625,
          112.635,
          112.618,
          112.638,
          112.607,
          112.612,
          112.641,
          112.632,
          112.631,
          112.587,
          112.556,
          112.558,
          112.56,
          112.573,
          112.587,
          112.588,
          112.554,
          112.594,
          112.588,
          112.622,
          112.627,
          112.647,
          112.648,
          112.66
         ],
         "type": "candlestick",
         "x": [
          "2016-11-29T19:00:00",
          "2016-11-29T19:01:00",
          "2016-11-29T19:02:00",
          "2016-11-29T19:03:00",
          "2016-11-29T19:04:00",
          "2016-11-29T19:05:00",
          "2016-11-29T19:06:00",
          "2016-11-29T19:07:00",
          "2016-11-29T19:08:00",
          "2016-11-29T19:09:00",
          "2016-11-29T19:10:00",
          "2016-11-29T19:11:00",
          "2016-11-29T19:12:00",
          "2016-11-29T19:13:00",
          "2016-11-29T19:14:00",
          "2016-11-29T19:15:00",
          "2016-11-29T19:16:00",
          "2016-11-29T19:17:00",
          "2016-11-29T19:18:00",
          "2016-11-29T19:19:00",
          "2016-11-29T19:20:00",
          "2016-11-29T19:21:00",
          "2016-11-29T19:22:00",
          "2016-11-29T19:23:00",
          "2016-11-29T19:24:00",
          "2016-11-29T19:25:00",
          "2016-11-29T19:26:00",
          "2016-11-29T19:27:00",
          "2016-11-29T19:28:00",
          "2016-11-29T19:29:00",
          "2016-11-29T19:30:00",
          "2016-11-29T19:31:00",
          "2016-11-29T19:32:00",
          "2016-11-29T19:33:00",
          "2016-11-29T19:34:00",
          "2016-11-29T19:35:00",
          "2016-11-29T19:36:00",
          "2016-11-29T19:37:00",
          "2016-11-29T19:38:00",
          "2016-11-29T19:39:00",
          "2016-11-29T19:40:00",
          "2016-11-29T19:41:00",
          "2016-11-29T19:42:00",
          "2016-11-29T19:43:00",
          "2016-11-29T19:44:00",
          "2016-11-29T19:45:00",
          "2016-11-29T19:46:00",
          "2016-11-29T19:47:00",
          "2016-11-29T19:48:00",
          "2016-11-29T19:49:00",
          "2016-11-29T19:50:00",
          "2016-11-29T19:51:00",
          "2016-11-29T19:52:00",
          "2016-11-29T19:53:00",
          "2016-11-29T19:54:00",
          "2016-11-29T19:55:00",
          "2016-11-29T19:56:00",
          "2016-11-29T19:57:00",
          "2016-11-29T19:58:00",
          "2016-11-29T19:59:00",
          "2016-11-29T20:00:00"
         ]
        }
       ],
       "layout": {
        "template": {
         "data": {
          "bar": [
           {
            "error_x": {
             "color": "#2a3f5f"
            },
            "error_y": {
             "color": "#2a3f5f"
            },
            "marker": {
             "line": {
              "color": "#E5ECF6",
              "width": 0.5
             },
             "pattern": {
              "fillmode": "overlay",
              "size": 10,
              "solidity": 0.2
             }
            },
            "type": "bar"
           }
          ],
          "barpolar": [
           {
            "marker": {
             "line": {
              "color": "#E5ECF6",
              "width": 0.5
             },
             "pattern": {
              "fillmode": "overlay",
              "size": 10,
              "solidity": 0.2
             }
            },
            "type": "barpolar"
           }
          ],
          "carpet": [
           {
            "aaxis": {
             "endlinecolor": "#2a3f5f",
             "gridcolor": "white",
             "linecolor": "white",
             "minorgridcolor": "white",
             "startlinecolor": "#2a3f5f"
            },
            "baxis": {
             "endlinecolor": "#2a3f5f",
             "gridcolor": "white",
             "linecolor": "white",
             "minorgridcolor": "white",
             "startlinecolor": "#2a3f5f"
            },
            "type": "carpet"
           }
          ],
          "choropleth": [
           {
            "colorbar": {
             "outlinewidth": 0,
             "ticks": ""
            },
            "type": "choropleth"
           }
          ],
          "contour": [
           {
            "colorbar": {
             "outlinewidth": 0,
             "ticks": ""
            },
            "colorscale": [
             [
              0,
              "#0d0887"
             ],
             [
              0.1111111111111111,
              "#46039f"
             ],
             [
              0.2222222222222222,
              "#7201a8"
             ],
             [
              0.3333333333333333,
              "#9c179e"
             ],
             [
              0.4444444444444444,
              "#bd3786"
             ],
             [
              0.5555555555555556,
              "#d8576b"
             ],
             [
              0.6666666666666666,
              "#ed7953"
             ],
             [
              0.7777777777777778,
              "#fb9f3a"
             ],
             [
              0.8888888888888888,
              "#fdca26"
             ],
             [
              1,
              "#f0f921"
             ]
            ],
            "type": "contour"
           }
          ],
          "contourcarpet": [
           {
            "colorbar": {
             "outlinewidth": 0,
             "ticks": ""
            },
            "type": "contourcarpet"
           }
          ],
          "heatmap": [
           {
            "colorbar": {
             "outlinewidth": 0,
             "ticks": ""
            },
            "colorscale": [
             [
              0,
              "#0d0887"
             ],
             [
              0.1111111111111111,
              "#46039f"
             ],
             [
              0.2222222222222222,
              "#7201a8"
             ],
             [
              0.3333333333333333,
              "#9c179e"
             ],
             [
              0.4444444444444444,
              "#bd3786"
             ],
             [
              0.5555555555555556,
              "#d8576b"
             ],
             [
              0.6666666666666666,
              "#ed7953"
             ],
             [
              0.7777777777777778,
              "#fb9f3a"
             ],
             [
              0.8888888888888888,
              "#fdca26"
             ],
             [
              1,
              "#f0f921"
             ]
            ],
            "type": "heatmap"
           }
          ],
          "heatmapgl": [
           {
            "colorbar": {
             "outlinewidth": 0,
             "ticks": ""
            },
            "colorscale": [
             [
              0,
              "#0d0887"
             ],
             [
              0.1111111111111111,
              "#46039f"
             ],
             [
              0.2222222222222222,
              "#7201a8"
             ],
             [
              0.3333333333333333,
              "#9c179e"
             ],
             [
              0.4444444444444444,
              "#bd3786"
             ],
             [
              0.5555555555555556,
              "#d8576b"
             ],
             [
              0.6666666666666666,
              "#ed7953"
             ],
             [
              0.7777777777777778,
              "#fb9f3a"
             ],
             [
              0.8888888888888888,
              "#fdca26"
             ],
             [
              1,
              "#f0f921"
             ]
            ],
            "type": "heatmapgl"
           }
          ],
          "histogram": [
           {
            "marker": {
             "pattern": {
              "fillmode": "overlay",
              "size": 10,
              "solidity": 0.2
             }
            },
            "type": "histogram"
           }
          ],
          "histogram2d": [
           {
            "colorbar": {
             "outlinewidth": 0,
             "ticks": ""
            },
            "colorscale": [
             [
              0,
              "#0d0887"
             ],
             [
              0.1111111111111111,
              "#46039f"
             ],
             [
              0.2222222222222222,
              "#7201a8"
             ],
             [
              0.3333333333333333,
              "#9c179e"
             ],
             [
              0.4444444444444444,
              "#bd3786"
             ],
             [
              0.5555555555555556,
              "#d8576b"
             ],
             [
              0.6666666666666666,
              "#ed7953"
             ],
             [
              0.7777777777777778,
              "#fb9f3a"
             ],
             [
              0.8888888888888888,
              "#fdca26"
             ],
             [
              1,
              "#f0f921"
             ]
            ],
            "type": "histogram2d"
           }
          ],
          "histogram2dcontour": [
           {
            "colorbar": {
             "outlinewidth": 0,
             "ticks": ""
            },
            "colorscale": [
             [
              0,
              "#0d0887"
             ],
             [
              0.1111111111111111,
              "#46039f"
             ],
             [
              0.2222222222222222,
              "#7201a8"
             ],
             [
              0.3333333333333333,
              "#9c179e"
             ],
             [
              0.4444444444444444,
              "#bd3786"
             ],
             [
              0.5555555555555556,
              "#d8576b"
             ],
             [
              0.6666666666666666,
              "#ed7953"
             ],
             [
              0.7777777777777778,
              "#fb9f3a"
             ],
             [
              0.8888888888888888,
              "#fdca26"
             ],
             [
              1,
              "#f0f921"
             ]
            ],
            "type": "histogram2dcontour"
           }
          ],
          "mesh3d": [
           {
            "colorbar": {
             "outlinewidth": 0,
             "ticks": ""
            },
            "type": "mesh3d"
           }
          ],
          "parcoords": [
           {
            "line": {
             "colorbar": {
              "outlinewidth": 0,
              "ticks": ""
             }
            },
            "type": "parcoords"
           }
          ],
          "pie": [
           {
            "automargin": true,
            "type": "pie"
           }
          ],
          "scatter": [
           {
            "fillpattern": {
             "fillmode": "overlay",
             "size": 10,
             "solidity": 0.2
            },
            "type": "scatter"
           }
          ],
          "scatter3d": [
           {
            "line": {
             "colorbar": {
              "outlinewidth": 0,
              "ticks": ""
             }
            },
            "marker": {
             "colorbar": {
              "outlinewidth": 0,
              "ticks": ""
             }
            },
            "type": "scatter3d"
           }
          ],
          "scattercarpet": [
           {
            "marker": {
             "colorbar": {
              "outlinewidth": 0,
              "ticks": ""
             }
            },
            "type": "scattercarpet"
           }
          ],
          "scattergeo": [
           {
            "marker": {
             "colorbar": {
              "outlinewidth": 0,
              "ticks": ""
             }
            },
            "type": "scattergeo"
           }
          ],
          "scattergl": [
           {
            "marker": {
             "colorbar": {
              "outlinewidth": 0,
              "ticks": ""
             }
            },
            "type": "scattergl"
           }
          ],
          "scattermapbox": [
           {
            "marker": {
             "colorbar": {
              "outlinewidth": 0,
              "ticks": ""
             }
            },
            "type": "scattermapbox"
           }
          ],
          "scatterpolar": [
           {
            "marker": {
             "colorbar": {
              "outlinewidth": 0,
              "ticks": ""
             }
            },
            "type": "scatterpolar"
           }
          ],
          "scatterpolargl": [
           {
            "marker": {
             "colorbar": {
              "outlinewidth": 0,
              "ticks": ""
             }
            },
            "type": "scatterpolargl"
           }
          ],
          "scatterternary": [
           {
            "marker": {
             "colorbar": {
              "outlinewidth": 0,
              "ticks": ""
             }
            },
            "type": "scatterternary"
           }
          ],
          "surface": [
           {
            "colorbar": {
             "outlinewidth": 0,
             "ticks": ""
            },
            "colorscale": [
             [
              0,
              "#0d0887"
             ],
             [
              0.1111111111111111,
              "#46039f"
             ],
             [
              0.2222222222222222,
              "#7201a8"
             ],
             [
              0.3333333333333333,
              "#9c179e"
             ],
             [
              0.4444444444444444,
              "#bd3786"
             ],
             [
              0.5555555555555556,
              "#d8576b"
             ],
             [
              0.6666666666666666,
              "#ed7953"
             ],
             [
              0.7777777777777778,
              "#fb9f3a"
             ],
             [
              0.8888888888888888,
              "#fdca26"
             ],
             [
              1,
              "#f0f921"
             ]
            ],
            "type": "surface"
           }
          ],
          "table": [
           {
            "cells": {
             "fill": {
              "color": "#EBF0F8"
             },
             "line": {
              "color": "white"
             }
            },
            "header": {
             "fill": {
              "color": "#C8D4E3"
             },
             "line": {
              "color": "white"
             }
            },
            "type": "table"
           }
          ]
         },
         "layout": {
          "annotationdefaults": {
           "arrowcolor": "#2a3f5f",
           "arrowhead": 0,
           "arrowwidth": 1
          },
          "autotypenumbers": "strict",
          "coloraxis": {
           "colorbar": {
            "outlinewidth": 0,
            "ticks": ""
           }
          },
          "colorscale": {
           "diverging": [
            [
             0,
             "#8e0152"
            ],
            [
             0.1,
             "#c51b7d"
            ],
            [
             0.2,
             "#de77ae"
            ],
            [
             0.3,
             "#f1b6da"
            ],
            [
             0.4,
             "#fde0ef"
            ],
            [
             0.5,
             "#f7f7f7"
            ],
            [
             0.6,
             "#e6f5d0"
            ],
            [
             0.7,
             "#b8e186"
            ],
            [
             0.8,
             "#7fbc41"
            ],
            [
             0.9,
             "#4d9221"
            ],
            [
             1,
             "#276419"
            ]
           ],
           "sequential": [
            [
             0,
             "#0d0887"
            ],
            [
             0.1111111111111111,
             "#46039f"
            ],
            [
             0.2222222222222222,
             "#7201a8"
            ],
            [
             0.3333333333333333,
             "#9c179e"
            ],
            [
             0.4444444444444444,
             "#bd3786"
            ],
            [
             0.5555555555555556,
             "#d8576b"
            ],
            [
             0.6666666666666666,
             "#ed7953"
            ],
            [
             0.7777777777777778,
             "#fb9f3a"
            ],
            [
             0.8888888888888888,
             "#fdca26"
            ],
            [
             1,
             "#f0f921"
            ]
           ],
           "sequentialminus": [
            [
             0,
             "#0d0887"
            ],
            [
             0.1111111111111111,
             "#46039f"
            ],
            [
             0.2222222222222222,
             "#7201a8"
            ],
            [
             0.3333333333333333,
             "#9c179e"
            ],
            [
             0.4444444444444444,
             "#bd3786"
            ],
            [
             0.5555555555555556,
             "#d8576b"
            ],
            [
             0.6666666666666666,
             "#ed7953"
            ],
            [
             0.7777777777777778,
             "#fb9f3a"
            ],
            [
             0.8888888888888888,
             "#fdca26"
            ],
            [
             1,
             "#f0f921"
            ]
           ]
          },
          "colorway": [
           "#636efa",
           "#EF553B",
           "#00cc96",
           "#ab63fa",
           "#FFA15A",
           "#19d3f3",
           "#FF6692",
           "#B6E880",
           "#FF97FF",
           "#FECB52"
          ],
          "font": {
           "color": "#2a3f5f"
          },
          "geo": {
           "bgcolor": "white",
           "lakecolor": "white",
           "landcolor": "#E5ECF6",
           "showlakes": true,
           "showland": true,
           "subunitcolor": "white"
          },
          "hoverlabel": {
           "align": "left"
          },
          "hovermode": "closest",
          "mapbox": {
           "style": "light"
          },
          "paper_bgcolor": "white",
          "plot_bgcolor": "#E5ECF6",
          "polar": {
           "angularaxis": {
            "gridcolor": "white",
            "linecolor": "white",
            "ticks": ""
           },
           "bgcolor": "#E5ECF6",
           "radialaxis": {
            "gridcolor": "white",
            "linecolor": "white",
            "ticks": ""
           }
          },
          "scene": {
           "xaxis": {
            "backgroundcolor": "#E5ECF6",
            "gridcolor": "white",
            "gridwidth": 2,
            "linecolor": "white",
            "showbackground": true,
            "ticks": "",
            "zerolinecolor": "white"
           },
           "yaxis": {
            "backgroundcolor": "#E5ECF6",
            "gridcolor": "white",
            "gridwidth": 2,
            "linecolor": "white",
            "showbackground": true,
            "ticks": "",
            "zerolinecolor": "white"
           },
           "zaxis": {
            "backgroundcolor": "#E5ECF6",
            "gridcolor": "white",
            "gridwidth": 2,
            "linecolor": "white",
            "showbackground": true,
            "ticks": "",
            "zerolinecolor": "white"
           }
          },
          "shapedefaults": {
           "line": {
            "color": "#2a3f5f"
           }
          },
          "ternary": {
           "aaxis": {
            "gridcolor": "white",
            "linecolor": "white",
            "ticks": ""
           },
           "baxis": {
            "gridcolor": "white",
            "linecolor": "white",
            "ticks": ""
           },
           "bgcolor": "#E5ECF6",
           "caxis": {
            "gridcolor": "white",
            "linecolor": "white",
            "ticks": ""
           }
          },
          "title": {
           "x": 0.05
          },
          "xaxis": {
           "automargin": true,
           "gridcolor": "white",
           "linecolor": "white",
           "ticks": "",
           "title": {
            "standoff": 15
           },
           "zerolinecolor": "white",
           "zerolinewidth": 2
          },
          "yaxis": {
           "automargin": true,
           "gridcolor": "white",
           "linecolor": "white",
           "ticks": "",
           "title": {
            "standoff": 15
           },
           "zerolinecolor": "white",
           "zerolinewidth": 2
          }
         }
        },
        "title": {
         "text": "USDJPY"
        },
        "xaxis": {
         "rangeslider": {
          "visible": false
         }
        }
       }
      }
     },
     "metadata": {},
     "output_type": "display_data"
    }
   ],
   "source": [
    "m.gv4"
   ]
  },
  {
   "cell_type": "markdown",
   "metadata": {},
   "source": [
    "El precio inicia a la baja con un open price de 112.787, en la media hora previa al indicador el precio disminuye bastante y cierra cuando sucede el indicador con un close price de 112.579. Después del indicador el precio termina subiendo a un precio de close de 112.616 a los 30 minutos del indicador."
   ]
  },
  {
   "cell_type": "code",
   "execution_count": 6,
   "metadata": {},
   "outputs": [
    {
     "data": {
      "application/vnd.plotly.v1+json": {
       "config": {
        "plotlyServerURL": "https://plot.ly"
       },
       "data": [
        {
         "close": [
          82.115,
          82.087,
          82.08,
          82.077,
          82.084,
          82.099,
          82.085,
          82.094,
          82.1,
          82.093,
          82.089,
          82.094,
          82.096,
          82.102,
          82.101,
          82.104,
          82.101,
          82.101,
          82.1,
          82.098,
          82.103,
          82.107,
          82.101,
          82.104,
          82.102,
          82.106,
          82.117,
          82.123,
          82.115,
          82.126,
          82.121,
          82.122,
          82.118,
          82.123,
          82.128,
          82.134,
          82.135,
          82.153,
          82.166,
          82.159,
          82.151,
          82.139,
          82.132,
          82.154,
          82.151,
          82.158,
          82.164,
          82.173,
          82.171,
          82.178,
          82.171,
          82.167,
          82.168,
          82.171,
          82.173,
          82.171,
          82.158,
          82.15,
          82.153,
          82.147,
          82.18
         ],
         "high": [
          82.146,
          82.115,
          82.092,
          82.079,
          82.088,
          82.1,
          82.099,
          82.094,
          82.1,
          82.1,
          82.095,
          82.094,
          82.101,
          82.102,
          82.104,
          82.104,
          82.104,
          82.11,
          82.101,
          82.103,
          82.105,
          82.108,
          82.109,
          82.106,
          82.105,
          82.11,
          82.123,
          82.125,
          82.122,
          82.131,
          82.131,
          82.131,
          82.128,
          82.123,
          82.128,
          82.134,
          82.139,
          82.154,
          82.168,
          82.169,
          82.163,
          82.155,
          82.139,
          82.154,
          82.155,
          82.16,
          82.169,
          82.174,
          82.176,
          82.178,
          82.178,
          82.172,
          82.172,
          82.173,
          82.182,
          82.179,
          82.172,
          82.16,
          82.154,
          82.158,
          82.186
         ],
         "low": [
          82.115,
          82.085,
          82.073,
          82.074,
          82.074,
          82.081,
          82.083,
          82.082,
          82.094,
          82.09,
          82.088,
          82.087,
          82.091,
          82.09,
          82.09,
          82.101,
          82.099,
          82.092,
          82.088,
          82.097,
          82.094,
          82.101,
          82.101,
          82.098,
          82.098,
          82.103,
          82.107,
          82.115,
          82.109,
          82.112,
          82.113,
          82.119,
          82.118,
          82.112,
          82.122,
          82.126,
          82.13,
          82.134,
          82.147,
          82.157,
          82.151,
          82.132,
          82.126,
          82.128,
          82.145,
          82.147,
          82.154,
          82.163,
          82.168,
          82.168,
          82.168,
          82.158,
          82.164,
          82.165,
          82.17,
          82.17,
          82.158,
          82.144,
          82.144,
          82.138,
          82.146
         ],
         "open": [
          82.126,
          82.115,
          82.087,
          82.078,
          82.077,
          82.083,
          82.099,
          82.084,
          82.097,
          82.1,
          82.092,
          82.089,
          82.094,
          82.095,
          82.103,
          82.102,
          82.103,
          82.101,
          82.101,
          82.101,
          82.098,
          82.102,
          82.106,
          82.102,
          82.105,
          82.104,
          82.107,
          82.116,
          82.12,
          82.115,
          82.127,
          82.12,
          82.118,
          82.118,
          82.124,
          82.126,
          82.132,
          82.136,
          82.154,
          82.166,
          82.16,
          82.155,
          82.138,
          82.13,
          82.154,
          82.15,
          82.158,
          82.165,
          82.174,
          82.172,
          82.176,
          82.163,
          82.169,
          82.165,
          82.17,
          82.173,
          82.172,
          82.158,
          82.147,
          82.152,
          82.146
         ],
         "type": "candlestick",
         "x": [
          "2011-01-28T19:00:00",
          "2011-01-28T19:01:00",
          "2011-01-28T19:02:00",
          "2011-01-28T19:03:00",
          "2011-01-28T19:04:00",
          "2011-01-28T19:05:00",
          "2011-01-28T19:06:00",
          "2011-01-28T19:07:00",
          "2011-01-28T19:08:00",
          "2011-01-28T19:09:00",
          "2011-01-28T19:10:00",
          "2011-01-28T19:11:00",
          "2011-01-28T19:12:00",
          "2011-01-28T19:13:00",
          "2011-01-28T19:14:00",
          "2011-01-28T19:15:00",
          "2011-01-28T19:16:00",
          "2011-01-28T19:17:00",
          "2011-01-28T19:18:00",
          "2011-01-28T19:19:00",
          "2011-01-28T19:20:00",
          "2011-01-28T19:21:00",
          "2011-01-28T19:22:00",
          "2011-01-28T19:23:00",
          "2011-01-28T19:24:00",
          "2011-01-28T19:25:00",
          "2011-01-28T19:26:00",
          "2011-01-28T19:27:00",
          "2011-01-28T19:28:00",
          "2011-01-28T19:29:00",
          "2011-01-28T19:30:00",
          "2011-01-28T19:31:00",
          "2011-01-28T19:32:00",
          "2011-01-28T19:33:00",
          "2011-01-28T19:34:00",
          "2011-01-28T19:35:00",
          "2011-01-28T19:36:00",
          "2011-01-28T19:37:00",
          "2011-01-28T19:38:00",
          "2011-01-28T19:39:00",
          "2011-01-28T19:40:00",
          "2011-01-28T19:41:00",
          "2011-01-28T19:42:00",
          "2011-01-28T19:43:00",
          "2011-01-28T19:44:00",
          "2011-01-28T19:45:00",
          "2011-01-28T19:46:00",
          "2011-01-28T19:47:00",
          "2011-01-28T19:48:00",
          "2011-01-28T19:49:00",
          "2011-01-28T19:50:00",
          "2011-01-28T19:51:00",
          "2011-01-28T19:52:00",
          "2011-01-28T19:53:00",
          "2011-01-28T19:54:00",
          "2011-01-28T19:55:00",
          "2011-01-28T19:56:00",
          "2011-01-28T19:57:00",
          "2011-01-28T19:58:00",
          "2011-01-28T19:59:00",
          "2011-01-28T20:00:00"
         ]
        }
       ],
       "layout": {
        "template": {
         "data": {
          "bar": [
           {
            "error_x": {
             "color": "#2a3f5f"
            },
            "error_y": {
             "color": "#2a3f5f"
            },
            "marker": {
             "line": {
              "color": "#E5ECF6",
              "width": 0.5
             },
             "pattern": {
              "fillmode": "overlay",
              "size": 10,
              "solidity": 0.2
             }
            },
            "type": "bar"
           }
          ],
          "barpolar": [
           {
            "marker": {
             "line": {
              "color": "#E5ECF6",
              "width": 0.5
             },
             "pattern": {
              "fillmode": "overlay",
              "size": 10,
              "solidity": 0.2
             }
            },
            "type": "barpolar"
           }
          ],
          "carpet": [
           {
            "aaxis": {
             "endlinecolor": "#2a3f5f",
             "gridcolor": "white",
             "linecolor": "white",
             "minorgridcolor": "white",
             "startlinecolor": "#2a3f5f"
            },
            "baxis": {
             "endlinecolor": "#2a3f5f",
             "gridcolor": "white",
             "linecolor": "white",
             "minorgridcolor": "white",
             "startlinecolor": "#2a3f5f"
            },
            "type": "carpet"
           }
          ],
          "choropleth": [
           {
            "colorbar": {
             "outlinewidth": 0,
             "ticks": ""
            },
            "type": "choropleth"
           }
          ],
          "contour": [
           {
            "colorbar": {
             "outlinewidth": 0,
             "ticks": ""
            },
            "colorscale": [
             [
              0,
              "#0d0887"
             ],
             [
              0.1111111111111111,
              "#46039f"
             ],
             [
              0.2222222222222222,
              "#7201a8"
             ],
             [
              0.3333333333333333,
              "#9c179e"
             ],
             [
              0.4444444444444444,
              "#bd3786"
             ],
             [
              0.5555555555555556,
              "#d8576b"
             ],
             [
              0.6666666666666666,
              "#ed7953"
             ],
             [
              0.7777777777777778,
              "#fb9f3a"
             ],
             [
              0.8888888888888888,
              "#fdca26"
             ],
             [
              1,
              "#f0f921"
             ]
            ],
            "type": "contour"
           }
          ],
          "contourcarpet": [
           {
            "colorbar": {
             "outlinewidth": 0,
             "ticks": ""
            },
            "type": "contourcarpet"
           }
          ],
          "heatmap": [
           {
            "colorbar": {
             "outlinewidth": 0,
             "ticks": ""
            },
            "colorscale": [
             [
              0,
              "#0d0887"
             ],
             [
              0.1111111111111111,
              "#46039f"
             ],
             [
              0.2222222222222222,
              "#7201a8"
             ],
             [
              0.3333333333333333,
              "#9c179e"
             ],
             [
              0.4444444444444444,
              "#bd3786"
             ],
             [
              0.5555555555555556,
              "#d8576b"
             ],
             [
              0.6666666666666666,
              "#ed7953"
             ],
             [
              0.7777777777777778,
              "#fb9f3a"
             ],
             [
              0.8888888888888888,
              "#fdca26"
             ],
             [
              1,
              "#f0f921"
             ]
            ],
            "type": "heatmap"
           }
          ],
          "heatmapgl": [
           {
            "colorbar": {
             "outlinewidth": 0,
             "ticks": ""
            },
            "colorscale": [
             [
              0,
              "#0d0887"
             ],
             [
              0.1111111111111111,
              "#46039f"
             ],
             [
              0.2222222222222222,
              "#7201a8"
             ],
             [
              0.3333333333333333,
              "#9c179e"
             ],
             [
              0.4444444444444444,
              "#bd3786"
             ],
             [
              0.5555555555555556,
              "#d8576b"
             ],
             [
              0.6666666666666666,
              "#ed7953"
             ],
             [
              0.7777777777777778,
              "#fb9f3a"
             ],
             [
              0.8888888888888888,
              "#fdca26"
             ],
             [
              1,
              "#f0f921"
             ]
            ],
            "type": "heatmapgl"
           }
          ],
          "histogram": [
           {
            "marker": {
             "pattern": {
              "fillmode": "overlay",
              "size": 10,
              "solidity": 0.2
             }
            },
            "type": "histogram"
           }
          ],
          "histogram2d": [
           {
            "colorbar": {
             "outlinewidth": 0,
             "ticks": ""
            },
            "colorscale": [
             [
              0,
              "#0d0887"
             ],
             [
              0.1111111111111111,
              "#46039f"
             ],
             [
              0.2222222222222222,
              "#7201a8"
             ],
             [
              0.3333333333333333,
              "#9c179e"
             ],
             [
              0.4444444444444444,
              "#bd3786"
             ],
             [
              0.5555555555555556,
              "#d8576b"
             ],
             [
              0.6666666666666666,
              "#ed7953"
             ],
             [
              0.7777777777777778,
              "#fb9f3a"
             ],
             [
              0.8888888888888888,
              "#fdca26"
             ],
             [
              1,
              "#f0f921"
             ]
            ],
            "type": "histogram2d"
           }
          ],
          "histogram2dcontour": [
           {
            "colorbar": {
             "outlinewidth": 0,
             "ticks": ""
            },
            "colorscale": [
             [
              0,
              "#0d0887"
             ],
             [
              0.1111111111111111,
              "#46039f"
             ],
             [
              0.2222222222222222,
              "#7201a8"
             ],
             [
              0.3333333333333333,
              "#9c179e"
             ],
             [
              0.4444444444444444,
              "#bd3786"
             ],
             [
              0.5555555555555556,
              "#d8576b"
             ],
             [
              0.6666666666666666,
              "#ed7953"
             ],
             [
              0.7777777777777778,
              "#fb9f3a"
             ],
             [
              0.8888888888888888,
              "#fdca26"
             ],
             [
              1,
              "#f0f921"
             ]
            ],
            "type": "histogram2dcontour"
           }
          ],
          "mesh3d": [
           {
            "colorbar": {
             "outlinewidth": 0,
             "ticks": ""
            },
            "type": "mesh3d"
           }
          ],
          "parcoords": [
           {
            "line": {
             "colorbar": {
              "outlinewidth": 0,
              "ticks": ""
             }
            },
            "type": "parcoords"
           }
          ],
          "pie": [
           {
            "automargin": true,
            "type": "pie"
           }
          ],
          "scatter": [
           {
            "fillpattern": {
             "fillmode": "overlay",
             "size": 10,
             "solidity": 0.2
            },
            "type": "scatter"
           }
          ],
          "scatter3d": [
           {
            "line": {
             "colorbar": {
              "outlinewidth": 0,
              "ticks": ""
             }
            },
            "marker": {
             "colorbar": {
              "outlinewidth": 0,
              "ticks": ""
             }
            },
            "type": "scatter3d"
           }
          ],
          "scattercarpet": [
           {
            "marker": {
             "colorbar": {
              "outlinewidth": 0,
              "ticks": ""
             }
            },
            "type": "scattercarpet"
           }
          ],
          "scattergeo": [
           {
            "marker": {
             "colorbar": {
              "outlinewidth": 0,
              "ticks": ""
             }
            },
            "type": "scattergeo"
           }
          ],
          "scattergl": [
           {
            "marker": {
             "colorbar": {
              "outlinewidth": 0,
              "ticks": ""
             }
            },
            "type": "scattergl"
           }
          ],
          "scattermapbox": [
           {
            "marker": {
             "colorbar": {
              "outlinewidth": 0,
              "ticks": ""
             }
            },
            "type": "scattermapbox"
           }
          ],
          "scatterpolar": [
           {
            "marker": {
             "colorbar": {
              "outlinewidth": 0,
              "ticks": ""
             }
            },
            "type": "scatterpolar"
           }
          ],
          "scatterpolargl": [
           {
            "marker": {
             "colorbar": {
              "outlinewidth": 0,
              "ticks": ""
             }
            },
            "type": "scatterpolargl"
           }
          ],
          "scatterternary": [
           {
            "marker": {
             "colorbar": {
              "outlinewidth": 0,
              "ticks": ""
             }
            },
            "type": "scatterternary"
           }
          ],
          "surface": [
           {
            "colorbar": {
             "outlinewidth": 0,
             "ticks": ""
            },
            "colorscale": [
             [
              0,
              "#0d0887"
             ],
             [
              0.1111111111111111,
              "#46039f"
             ],
             [
              0.2222222222222222,
              "#7201a8"
             ],
             [
              0.3333333333333333,
              "#9c179e"
             ],
             [
              0.4444444444444444,
              "#bd3786"
             ],
             [
              0.5555555555555556,
              "#d8576b"
             ],
             [
              0.6666666666666666,
              "#ed7953"
             ],
             [
              0.7777777777777778,
              "#fb9f3a"
             ],
             [
              0.8888888888888888,
              "#fdca26"
             ],
             [
              1,
              "#f0f921"
             ]
            ],
            "type": "surface"
           }
          ],
          "table": [
           {
            "cells": {
             "fill": {
              "color": "#EBF0F8"
             },
             "line": {
              "color": "white"
             }
            },
            "header": {
             "fill": {
              "color": "#C8D4E3"
             },
             "line": {
              "color": "white"
             }
            },
            "type": "table"
           }
          ]
         },
         "layout": {
          "annotationdefaults": {
           "arrowcolor": "#2a3f5f",
           "arrowhead": 0,
           "arrowwidth": 1
          },
          "autotypenumbers": "strict",
          "coloraxis": {
           "colorbar": {
            "outlinewidth": 0,
            "ticks": ""
           }
          },
          "colorscale": {
           "diverging": [
            [
             0,
             "#8e0152"
            ],
            [
             0.1,
             "#c51b7d"
            ],
            [
             0.2,
             "#de77ae"
            ],
            [
             0.3,
             "#f1b6da"
            ],
            [
             0.4,
             "#fde0ef"
            ],
            [
             0.5,
             "#f7f7f7"
            ],
            [
             0.6,
             "#e6f5d0"
            ],
            [
             0.7,
             "#b8e186"
            ],
            [
             0.8,
             "#7fbc41"
            ],
            [
             0.9,
             "#4d9221"
            ],
            [
             1,
             "#276419"
            ]
           ],
           "sequential": [
            [
             0,
             "#0d0887"
            ],
            [
             0.1111111111111111,
             "#46039f"
            ],
            [
             0.2222222222222222,
             "#7201a8"
            ],
            [
             0.3333333333333333,
             "#9c179e"
            ],
            [
             0.4444444444444444,
             "#bd3786"
            ],
            [
             0.5555555555555556,
             "#d8576b"
            ],
            [
             0.6666666666666666,
             "#ed7953"
            ],
            [
             0.7777777777777778,
             "#fb9f3a"
            ],
            [
             0.8888888888888888,
             "#fdca26"
            ],
            [
             1,
             "#f0f921"
            ]
           ],
           "sequentialminus": [
            [
             0,
             "#0d0887"
            ],
            [
             0.1111111111111111,
             "#46039f"
            ],
            [
             0.2222222222222222,
             "#7201a8"
            ],
            [
             0.3333333333333333,
             "#9c179e"
            ],
            [
             0.4444444444444444,
             "#bd3786"
            ],
            [
             0.5555555555555556,
             "#d8576b"
            ],
            [
             0.6666666666666666,
             "#ed7953"
            ],
            [
             0.7777777777777778,
             "#fb9f3a"
            ],
            [
             0.8888888888888888,
             "#fdca26"
            ],
            [
             1,
             "#f0f921"
            ]
           ]
          },
          "colorway": [
           "#636efa",
           "#EF553B",
           "#00cc96",
           "#ab63fa",
           "#FFA15A",
           "#19d3f3",
           "#FF6692",
           "#B6E880",
           "#FF97FF",
           "#FECB52"
          ],
          "font": {
           "color": "#2a3f5f"
          },
          "geo": {
           "bgcolor": "white",
           "lakecolor": "white",
           "landcolor": "#E5ECF6",
           "showlakes": true,
           "showland": true,
           "subunitcolor": "white"
          },
          "hoverlabel": {
           "align": "left"
          },
          "hovermode": "closest",
          "mapbox": {
           "style": "light"
          },
          "paper_bgcolor": "white",
          "plot_bgcolor": "#E5ECF6",
          "polar": {
           "angularaxis": {
            "gridcolor": "white",
            "linecolor": "white",
            "ticks": ""
           },
           "bgcolor": "#E5ECF6",
           "radialaxis": {
            "gridcolor": "white",
            "linecolor": "white",
            "ticks": ""
           }
          },
          "scene": {
           "xaxis": {
            "backgroundcolor": "#E5ECF6",
            "gridcolor": "white",
            "gridwidth": 2,
            "linecolor": "white",
            "showbackground": true,
            "ticks": "",
            "zerolinecolor": "white"
           },
           "yaxis": {
            "backgroundcolor": "#E5ECF6",
            "gridcolor": "white",
            "gridwidth": 2,
            "linecolor": "white",
            "showbackground": true,
            "ticks": "",
            "zerolinecolor": "white"
           },
           "zaxis": {
            "backgroundcolor": "#E5ECF6",
            "gridcolor": "white",
            "gridwidth": 2,
            "linecolor": "white",
            "showbackground": true,
            "ticks": "",
            "zerolinecolor": "white"
           }
          },
          "shapedefaults": {
           "line": {
            "color": "#2a3f5f"
           }
          },
          "ternary": {
           "aaxis": {
            "gridcolor": "white",
            "linecolor": "white",
            "ticks": ""
           },
           "baxis": {
            "gridcolor": "white",
            "linecolor": "white",
            "ticks": ""
           },
           "bgcolor": "#E5ECF6",
           "caxis": {
            "gridcolor": "white",
            "linecolor": "white",
            "ticks": ""
           }
          },
          "title": {
           "x": 0.05
          },
          "xaxis": {
           "automargin": true,
           "gridcolor": "white",
           "linecolor": "white",
           "ticks": "",
           "title": {
            "standoff": 15
           },
           "zerolinecolor": "white",
           "zerolinewidth": 2
          },
          "yaxis": {
           "automargin": true,
           "gridcolor": "white",
           "linecolor": "white",
           "ticks": "",
           "title": {
            "standoff": 15
           },
           "zerolinecolor": "white",
           "zerolinewidth": 2
          }
         }
        },
        "title": {
         "text": "USDJPY"
        },
        "xaxis": {
         "rangeslider": {
          "visible": false
         }
        }
       }
      }
     },
     "metadata": {},
     "output_type": "display_data"
    }
   ],
   "source": [
    "m.gv5"
   ]
  },
  {
   "cell_type": "markdown",
   "metadata": {},
   "source": [
    "El precio inicia a la baja con un open price de 82.115, en la media hora previa al indicador el precio aumenta de forma constante y cierra cuando sucede el indicador con un close price de 82.121. Después del indicador el precio termina subiendo a un precio de close de 82.18 a los 30 minutos del indicador."
   ]
  },
  {
   "cell_type": "markdown",
   "metadata": {},
   "source": [
    "Parametros para las Operaciones:\n",
    "\n",
    "| Parametros|   Compra |       Venta|\n",
    "|:----------|:---------|:-----------|\n",
    "|Sentido    | 1        | -1         |\n",
    "|Volumen    | 1 lote   | 1 lote     |\n",
    "|Takeprofit | 135 pips | 135 pips   |\n",
    "|Stoploss   | 60 pips  | 60 pips    |\n",
    "\n",
    "Estrategia de Administración de Capital:\n",
    "\n",
    "-En caso de perdidas el máximo sera de 100 USD\n",
    "\n",
    "-La ganancia máxima sera de 200 USD\n",
    "\n",
    "-No se plantea un incremento progresivo del tamaño de posición"
   ]
  },
  {
   "cell_type": "markdown",
   "metadata": {},
   "source": [
    "### Aspectos Estadísticos"
   ]
  },
  {
   "cell_type": "markdown",
   "metadata": {},
   "source": [
    "#### Autocorrelación y Autocorrelación Parcial"
   ]
  },
  {
   "cell_type": "code",
   "execution_count": 5,
   "metadata": {},
   "outputs": [
    {
     "data": {
      "image/png": "[encoded data removed]",
      "text/plain": [
       "<Figure size 640x480 with 1 Axes>"
      ]
     },
     "execution_count": 5,
     "metadata": {},
     "output_type": "execute_result"
    }
   ],
   "source": [
    "m.gpe1"
   ]
  },
  {
   "cell_type": "code",
   "execution_count": 6,
   "metadata": {},
   "outputs": [
    {
     "data": {
      "image/png": "[encoded data removed]",
      "text/plain": [
       "<Figure size 640x480 with 1 Axes>"
      ]
     },
     "execution_count": 6,
     "metadata": {},
     "output_type": "execute_result"
    }
   ],
   "source": [
    "m.gpe2"
   ]
  },
  {
   "cell_type": "markdown",
   "metadata": {},
   "source": [
    "Se puede ver que en la gráfica de autocorrelación (proceso de media movil) los primeros 5 valores se encuentran fuera del intervalo de confianza del 95% y después todos se ajustan al intervalo. Mientras que en la gráfica de autocorrelación parcial (proceso autoregresivo) los primeros dos valores igual tienen una autocorrelación mas elevada y después algunos valores tambien se salen del intervalo de confianza al 95%"
   ]
  },
  {
   "cell_type": "markdown",
   "metadata": {},
   "source": [
    "#### Heterocedasticidad"
   ]
  },
  {
   "cell_type": "markdown",
   "metadata": {},
   "source": [
    "Para comprobar si hay heterocedasticidad en la serie de tiempo del indicador se realizo la prueba Breusch-Pagan. Y los resultados que se obtuvieron fueron los siguientes"
   ]
  },
  {
   "cell_type": "code",
   "execution_count": 8,
   "metadata": {},
   "outputs": [
    {
     "data": {
      "text/plain": [
       "[('Lagrange multiplier statistic', 6.129532008914639),\n",
       " ('p-value', 0.046664759932856695),\n",
       " ('f-value', 3.129193042540906),\n",
       " ('f p-value', 0.04658445452614323)]"
      ]
     },
     "execution_count": 8,
     "metadata": {},
     "output_type": "execute_result"
    }
   ],
   "source": [
    "m.pe1"
   ]
  },
  {
   "cell_type": "markdown",
   "metadata": {},
   "source": [
    "El p-value es menor a 0.05 por lo que se puede concluir que esta serie de tiempo del indicador si es heterocedastica (los errores no son constantes a lo largo de la serie de tiempo)."
   ]
  },
  {
   "cell_type": "markdown",
   "metadata": {},
   "source": [
    "#### Normalidad"
   ]
  },
  {
   "cell_type": "code",
   "execution_count": 9,
   "metadata": {},
   "outputs": [
    {
     "data": {
      "text/plain": [
       "ShapiroResult(statistic=0.8381158709526062, pvalue=2.2311500657127334e-21)"
      ]
     },
     "execution_count": 9,
     "metadata": {},
     "output_type": "execute_result"
    }
   ],
   "source": [
    "m.pe2"
   ]
  },
  {
   "cell_type": "code",
   "execution_count": 3,
   "metadata": {},
   "outputs": [
    {
     "data": {
      "image/png": "[encoded data removed]",
      "text/plain": [
       "<Figure size 700x400 with 1 Axes>"
      ]
     },
     "execution_count": 3,
     "metadata": {},
     "output_type": "execute_result"
    }
   ],
   "source": [
    "m.gpe4"
   ]
  },
  {
   "cell_type": "markdown",
   "metadata": {},
   "source": [
    "La distribución de la serie de tiempo del indicador no es normal pues en la prueba de Shapiro el p-value que se obtiene no supera 0.05 por lo que se tiene que no es normal. Aparte se observa en la grafica de la distribución que en efecto no se cumple del todo con una distribución normal, se tiene la media aproximadamente en 2 y hay mayor desviacion hacia la izquierda."
   ]
  },
  {
   "cell_type": "markdown",
   "metadata": {},
   "source": [
    "#### Estacionariedad"
   ]
  },
  {
   "cell_type": "code",
   "execution_count": 3,
   "metadata": {},
   "outputs": [
    {
     "data": {
      "text/html": [
       "<div>\n",
       "<style scoped>\n",
       "    .dataframe tbody tr th:only-of-type {\n",
       "        vertical-align: middle;\n",
       "    }\n",
       "\n",
       "    .dataframe tbody tr th {\n",
       "        vertical-align: top;\n",
       "    }\n",
       "\n",
       "    .dataframe thead th {\n",
       "        text-align: right;\n",
       "    }\n",
       "</style>\n",
       "<table border=\"1\" class=\"dataframe\">\n",
       "  <thead>\n",
       "    <tr style=\"text-align: right;\">\n",
       "      <th></th>\n",
       "      <th>Indice</th>\n",
       "      <th>Valores</th>\n",
       "    </tr>\n",
       "  </thead>\n",
       "  <tbody>\n",
       "    <tr>\n",
       "      <th>0</th>\n",
       "      <td>ADF Statistic</td>\n",
       "      <td>-3.587152</td>\n",
       "    </tr>\n",
       "    <tr>\n",
       "      <th>1</th>\n",
       "      <td>p-value</td>\n",
       "      <td>0.006011</td>\n",
       "    </tr>\n",
       "  </tbody>\n",
       "</table>\n",
       "</div>"
      ],
      "text/plain": [
       "          Indice   Valores\n",
       "0  ADF Statistic -3.587152\n",
       "1        p-value  0.006011"
      ]
     },
     "execution_count": 3,
     "metadata": {},
     "output_type": "execute_result"
    }
   ],
   "source": [
    "m.pe3"
   ]
  },
  {
   "cell_type": "markdown",
   "metadata": {},
   "source": [
    "Para determinar si hay o no estacionariedad se realizó una prueba Duckey-Fuller. Esta es una prueba de raíz única que detecta estadísticamente la presencia de conducta tendencial estocástica en las series temporales de las variables mediante un contraste de hipótesis. En este caso los resultados que se obtuvieron (el p-value es menor a 0.05) determino que no hay estacionariedad en el modelo."
   ]
  },
  {
   "cell_type": "markdown",
   "metadata": {},
   "source": [
    "#### Estacionalidad"
   ]
  },
  {
   "cell_type": "code",
   "execution_count": 3,
   "metadata": {},
   "outputs": [
    {
     "data": {
      "image/png": "[encoded data removed]",
      "text/plain": [
       "<Figure size 2000x2000 with 4 Axes>"
      ]
     },
     "execution_count": 3,
     "metadata": {},
     "output_type": "execute_result"
    }
   ],
   "source": [
    "m.gpe3"
   ]
  },
  {
   "cell_type": "markdown",
   "metadata": {},
   "source": [
    "Se puede determinar en base a la gráfica anterior que no hay estacionalidad, los datos de la serie son aleatorios y varian de año en año."
   ]
  },
  {
   "cell_type": "markdown",
   "metadata": {},
   "source": [
    "#### Detección de Atípicos"
   ]
  },
  {
   "cell_type": "code",
   "execution_count": 5,
   "metadata": {},
   "outputs": [
    {
     "data": {
      "image/png": "[encoded data removed]",
      "text/plain": [
       "<Figure size 2000x2000 with 1 Axes>"
      ]
     },
     "execution_count": 5,
     "metadata": {},
     "output_type": "execute_result"
    }
   ],
   "source": [
    "m.gpe5"
   ]
  },
  {
   "cell_type": "markdown",
   "metadata": {},
   "source": [
    "Se puede apreciar en la gráfica de caja y bigotes que si hay valores atipicos en la serie de tiempo que estan por debajo de 1 y llegan hasta -6"
   ]
  },
  {
   "cell_type": "markdown",
   "metadata": {},
   "source": [
    "### Aspectos Computacionales"
   ]
  },
  {
   "cell_type": "markdown",
   "metadata": {},
   "source": [
    "Precios historicos del USDJPY con granularidad de 1 minuto"
   ]
  },
  {
   "cell_type": "code",
   "execution_count": 14,
   "metadata": {},
   "outputs": [
    {
     "data": {
      "text/html": [
       "<div>\n",
       "<style scoped>\n",
       "    .dataframe tbody tr th:only-of-type {\n",
       "        vertical-align: middle;\n",
       "    }\n",
       "\n",
       "    .dataframe tbody tr th {\n",
       "        vertical-align: top;\n",
       "    }\n",
       "\n",
       "    .dataframe thead th {\n",
       "        text-align: right;\n",
       "    }\n",
       "</style>\n",
       "<table border=\"1\" class=\"dataframe\">\n",
       "  <thead>\n",
       "    <tr style=\"text-align: right;\">\n",
       "      <th></th>\n",
       "      <th>time</th>\n",
       "      <th>open</th>\n",
       "      <th>high</th>\n",
       "      <th>low</th>\n",
       "      <th>close</th>\n",
       "      <th>tick_volume</th>\n",
       "      <th>spread</th>\n",
       "      <th>real_volume</th>\n",
       "    </tr>\n",
       "  </thead>\n",
       "  <tbody>\n",
       "    <tr>\n",
       "      <th>0</th>\n",
       "      <td>2020-01-10 06:00:00</td>\n",
       "      <td>109.524</td>\n",
       "      <td>109.534</td>\n",
       "      <td>109.524</td>\n",
       "      <td>109.529</td>\n",
       "      <td>1476</td>\n",
       "      <td>13</td>\n",
       "      <td>221400000</td>\n",
       "    </tr>\n",
       "    <tr>\n",
       "      <th>1</th>\n",
       "      <td>2020-01-10 06:01:00</td>\n",
       "      <td>109.529</td>\n",
       "      <td>109.534</td>\n",
       "      <td>109.528</td>\n",
       "      <td>109.534</td>\n",
       "      <td>819</td>\n",
       "      <td>13</td>\n",
       "      <td>122850000</td>\n",
       "    </tr>\n",
       "    <tr>\n",
       "      <th>2</th>\n",
       "      <td>2020-01-10 06:02:00</td>\n",
       "      <td>109.534</td>\n",
       "      <td>109.534</td>\n",
       "      <td>109.527</td>\n",
       "      <td>109.529</td>\n",
       "      <td>1056</td>\n",
       "      <td>13</td>\n",
       "      <td>158400000</td>\n",
       "    </tr>\n",
       "    <tr>\n",
       "      <th>3</th>\n",
       "      <td>2020-01-10 06:03:00</td>\n",
       "      <td>109.529</td>\n",
       "      <td>109.529</td>\n",
       "      <td>109.524</td>\n",
       "      <td>109.526</td>\n",
       "      <td>594</td>\n",
       "      <td>13</td>\n",
       "      <td>89100000</td>\n",
       "    </tr>\n",
       "    <tr>\n",
       "      <th>4</th>\n",
       "      <td>2020-01-10 06:04:00</td>\n",
       "      <td>109.526</td>\n",
       "      <td>109.527</td>\n",
       "      <td>109.523</td>\n",
       "      <td>109.527</td>\n",
       "      <td>753</td>\n",
       "      <td>13</td>\n",
       "      <td>112950000</td>\n",
       "    </tr>\n",
       "  </tbody>\n",
       "</table>\n",
       "</div>"
      ],
      "text/plain": [
       "                 time     open     high      low    close  tick_volume  \\\n",
       "0 2020-01-10 06:00:00  109.524  109.534  109.524  109.529         1476   \n",
       "1 2020-01-10 06:01:00  109.529  109.534  109.528  109.534          819   \n",
       "2 2020-01-10 06:02:00  109.534  109.534  109.527  109.529         1056   \n",
       "3 2020-01-10 06:03:00  109.529  109.529  109.524  109.526          594   \n",
       "4 2020-01-10 06:04:00  109.526  109.527  109.523  109.527          753   \n",
       "\n",
       "   spread  real_volume  \n",
       "0      13    221400000  \n",
       "1      13    122850000  \n",
       "2      13    158400000  \n",
       "3      13     89100000  \n",
       "4      13    112950000  "
      ]
     },
     "execution_count": 14,
     "metadata": {},
     "output_type": "execute_result"
    }
   ],
   "source": [
    "ohlc=m.ohlc\n",
    "ohlc.head()"
   ]
  },
  {
   "cell_type": "code",
   "execution_count": 3,
   "metadata": {},
   "outputs": [
    {
     "data": {
      "text/html": [
       "<div>\n",
       "<style scoped>\n",
       "    .dataframe tbody tr th:only-of-type {\n",
       "        vertical-align: middle;\n",
       "    }\n",
       "\n",
       "    .dataframe tbody tr th {\n",
       "        vertical-align: top;\n",
       "    }\n",
       "\n",
       "    .dataframe thead th {\n",
       "        text-align: right;\n",
       "    }\n",
       "</style>\n",
       "<table border=\"1\" class=\"dataframe\">\n",
       "  <thead>\n",
       "    <tr style=\"text-align: right;\">\n",
       "      <th></th>\n",
       "      <th>Dirección</th>\n",
       "      <th>Pips Alcistas</th>\n",
       "      <th>Pips Bajistas</th>\n",
       "      <th>Volatilidad</th>\n",
       "      <th>Escenario</th>\n",
       "    </tr>\n",
       "  </thead>\n",
       "  <tbody>\n",
       "    <tr>\n",
       "      <th>0</th>\n",
       "      <td>0.082</td>\n",
       "      <td>14.8</td>\n",
       "      <td>0.8</td>\n",
       "      <td>24.3</td>\n",
       "      <td>A</td>\n",
       "    </tr>\n",
       "    <tr>\n",
       "      <th>1</th>\n",
       "      <td>0.006</td>\n",
       "      <td>0.7</td>\n",
       "      <td>1.7</td>\n",
       "      <td>3.7</td>\n",
       "      <td>B</td>\n",
       "    </tr>\n",
       "    <tr>\n",
       "      <th>2</th>\n",
       "      <td>0.100</td>\n",
       "      <td>12.0</td>\n",
       "      <td>0.0</td>\n",
       "      <td>13.0</td>\n",
       "      <td>C</td>\n",
       "    </tr>\n",
       "    <tr>\n",
       "      <th>3</th>\n",
       "      <td>-0.010</td>\n",
       "      <td>5.0</td>\n",
       "      <td>2.0</td>\n",
       "      <td>14.0</td>\n",
       "      <td>D</td>\n",
       "    </tr>\n",
       "  </tbody>\n",
       "</table>\n",
       "</div>"
      ],
      "text/plain": [
       "   Dirección  Pips Alcistas  Pips Bajistas  Volatilidad Escenario\n",
       "0      0.082           14.8            0.8         24.3         A\n",
       "1      0.006            0.7            1.7          3.7         B\n",
       "2      0.100           12.0            0.0         13.0         C\n",
       "3     -0.010            5.0            2.0         14.0         D"
      ]
     },
     "execution_count": 3,
     "metadata": {},
     "output_type": "execute_result"
    }
   ],
   "source": [
    "m.metricas.reset_index().drop(['index'], axis=1)"
   ]
  },
  {
   "cell_type": "markdown",
   "metadata": {},
   "source": [
    "# <font color= #6B6B6B> 4. Definición de sistema de trading  </font>"
   ]
  },
  {
   "cell_type": "markdown",
   "metadata": {},
   "source": [
    "<hr style=\"border:0.02in solid gray\"> </hr>"
   ]
  },
  {
   "cell_type": "markdown",
   "metadata": {},
   "source": [
    "-Aspectos Financieros: Despues de analizar diferentes momentos en el tiempo del ohlc del USDJPY en el momento que se presentaba el indicador Gross Domestic Product Annualized - United States se concluyo que en los escenarios A, B y C el precio viene disminuyendo previo al indicador y despues del indicador esta tendencia bajista no solo prevalece si no que se incrementa. En el escenario D sucede lo contrario, el precio previo al indicador aumenta y despues del indicador el aumento es aun mayor. Por ende en los escenarios A, B y C se opta por vender y en el escenario D se vende.\n",
    "\n",
    "-Aspectos Estadisticos: Después de realizar las diferentes pruebas de econometria se vio que lo que se vio en las validaciones graficas de Aspectos Financieros se mantendrian son validas pues en la serie de tiempo no se presenta informacion de que la serie de tiempo varie mucho.\n",
    "\n",
    "-Aspectos Computacionales: Para los escenarios A, B y C se ejecutara opcion de venta. Mientras que para el escenario D se ejecutara opción de compra. Esto porque en el calculo de las metricas para cada escenario se vio que la dirección señalaba la ejecución de estas ordenes.\n",
    "\n",
    "Entonces el sistema de trading en base al indicador Gross Domestic Product Annualized - United States queda de la siguiente manera.\n",
    "\n",
    "| Escenario|   Opcion|\n",
    "|:---------|:--------|\n",
    "|A         | Venta   |\n",
    "|B         | Venta   |\n",
    "|C         | Venta   |\n",
    "|D         | Compra  |"
   ]
  },
  {
   "cell_type": "markdown",
   "metadata": {},
   "source": [
    "# <font color= #6B6B6B> 5. Optimizacion y Backtest de sistema de trading  </font>"
   ]
  },
  {
   "cell_type": "markdown",
   "metadata": {},
   "source": [
    "<hr style=\"border:0.02in solid gray\"> </hr>"
   ]
  },
  {
   "cell_type": "code",
   "execution_count": null,
   "metadata": {},
   "outputs": [],
   "source": []
  },
  {
   "cell_type": "markdown",
   "metadata": {},
   "source": [
    "# <font color= #6B6B6B> 6. Rentabilidad  </font>"
   ]
  },
  {
   "cell_type": "markdown",
   "metadata": {},
   "source": [
    "<hr style=\"border:0.02in solid gray\"> </hr>"
   ]
  },
  {
   "cell_type": "code",
   "execution_count": null,
   "metadata": {},
   "outputs": [],
   "source": []
  }
 ],
 "metadata": {
  "kernelspec": {
   "display_name": "Python 3.10.6 64-bit",
   "language": "python",
   "name": "python3"
  },
  "language_info": {
   "codemirror_mode": {
    "name": "ipython",
    "version": 3
   },
   "file_extension": ".py",
   "mimetype": "text/x-python",
   "name": "python",
   "nbconvert_exporter": "python",
   "pygments_lexer": "ipython3",
   "version": "3.10.6"
  },
  "orig_nbformat": 4,
  "vscode": {
   "interpreter": {
    "hash": "1dc7c189b7b81a002ba740c61ae7e4e6b4e604349897014f2afb63a5ad05c141"
   }
  }
 },
 "nbformat": 4,
 "nbformat_minor": 2
}
